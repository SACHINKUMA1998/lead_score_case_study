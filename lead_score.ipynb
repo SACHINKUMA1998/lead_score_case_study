{
 "cells": [
  {
   "cell_type": "markdown",
   "id": "9e7988dc",
   "metadata": {},
   "source": [
    "# Lead Scoring Case Study"
   ]
  },
  {
   "cell_type": "markdown",
   "id": "41a47966",
   "metadata": {},
   "source": [
    "- Domain Knowledge\n",
    "- Data Understanding(data dict)\n",
    "- EDA\n",
    "    - Data Cleaning & Treatment\n",
    "    - Visualization\n",
    "- Model Building\n",
    "- Model Testing\n",
    "    - Model Evaluation"
   ]
  },
  {
   "cell_type": "markdown",
   "id": "7c1380f1",
   "metadata": {},
   "source": [
    "### Domain Konwledge \n",
    "**Problem Statement**\n",
    "  - Building a logistic regression model to assign a lead score between 0 and 100 to each of the leads which can be used by the company to target potential leads\n",
    "  - A higher score would mean that the lead is hot, i.e. is most likely to convert whereas a lower score would mean that the lead is cold and will mostly not get converted.\n",
    "   \n"
   ]
  },
  {
   "cell_type": "code",
   "execution_count": 2,
   "id": "bab3e400",
   "metadata": {},
   "outputs": [],
   "source": [
    "# Suppressing Warnings\n",
    "import warnings\n",
    "warnings.filterwarnings('ignore')"
   ]
  },
  {
   "cell_type": "code",
   "execution_count": 3,
   "id": "cb7abd0f",
   "metadata": {},
   "outputs": [],
   "source": [
    "#import the libraries\n",
    "import pandas as pd\n",
    "import numpy as np\n",
    "import matplotlib.pyplot as plt\n",
    "import seaborn as sns"
   ]
  },
  {
   "cell_type": "markdown",
   "id": "52383e4e",
   "metadata": {},
   "source": [
    "### Data Understanding(data dict)\n",
    " - Reading the data from CSV file\n",
    " - Checking the shape of the data \n",
    " - checking the datatypes of all columns\n",
    " - describing the dataset "
   ]
  },
  {
   "cell_type": "code",
   "execution_count": 4,
   "id": "baa8e833",
   "metadata": {},
   "outputs": [
    {
     "data": {
      "text/html": [
       "<div>\n",
       "<style scoped>\n",
       "    .dataframe tbody tr th:only-of-type {\n",
       "        vertical-align: middle;\n",
       "    }\n",
       "\n",
       "    .dataframe tbody tr th {\n",
       "        vertical-align: top;\n",
       "    }\n",
       "\n",
       "    .dataframe thead th {\n",
       "        text-align: right;\n",
       "    }\n",
       "</style>\n",
       "<table border=\"1\" class=\"dataframe\">\n",
       "  <thead>\n",
       "    <tr style=\"text-align: right;\">\n",
       "      <th></th>\n",
       "      <th>Prospect ID</th>\n",
       "      <th>Lead Number</th>\n",
       "      <th>Lead Origin</th>\n",
       "      <th>Lead Source</th>\n",
       "      <th>Do Not Email</th>\n",
       "      <th>Do Not Call</th>\n",
       "      <th>Converted</th>\n",
       "      <th>TotalVisits</th>\n",
       "      <th>Total Time Spent on Website</th>\n",
       "      <th>Page Views Per Visit</th>\n",
       "      <th>...</th>\n",
       "      <th>Get updates on DM Content</th>\n",
       "      <th>Lead Profile</th>\n",
       "      <th>City</th>\n",
       "      <th>Asymmetrique Activity Index</th>\n",
       "      <th>Asymmetrique Profile Index</th>\n",
       "      <th>Asymmetrique Activity Score</th>\n",
       "      <th>Asymmetrique Profile Score</th>\n",
       "      <th>I agree to pay the amount through cheque</th>\n",
       "      <th>A free copy of Mastering The Interview</th>\n",
       "      <th>Last Notable Activity</th>\n",
       "    </tr>\n",
       "  </thead>\n",
       "  <tbody>\n",
       "    <tr>\n",
       "      <th>0</th>\n",
       "      <td>7927b2df-8bba-4d29-b9a2-b6e0beafe620</td>\n",
       "      <td>660737</td>\n",
       "      <td>API</td>\n",
       "      <td>Olark Chat</td>\n",
       "      <td>No</td>\n",
       "      <td>No</td>\n",
       "      <td>0</td>\n",
       "      <td>0.0</td>\n",
       "      <td>0</td>\n",
       "      <td>0.0</td>\n",
       "      <td>...</td>\n",
       "      <td>No</td>\n",
       "      <td>Select</td>\n",
       "      <td>Select</td>\n",
       "      <td>02.Medium</td>\n",
       "      <td>02.Medium</td>\n",
       "      <td>15.0</td>\n",
       "      <td>15.0</td>\n",
       "      <td>No</td>\n",
       "      <td>No</td>\n",
       "      <td>Modified</td>\n",
       "    </tr>\n",
       "    <tr>\n",
       "      <th>1</th>\n",
       "      <td>2a272436-5132-4136-86fa-dcc88c88f482</td>\n",
       "      <td>660728</td>\n",
       "      <td>API</td>\n",
       "      <td>Organic Search</td>\n",
       "      <td>No</td>\n",
       "      <td>No</td>\n",
       "      <td>0</td>\n",
       "      <td>5.0</td>\n",
       "      <td>674</td>\n",
       "      <td>2.5</td>\n",
       "      <td>...</td>\n",
       "      <td>No</td>\n",
       "      <td>Select</td>\n",
       "      <td>Select</td>\n",
       "      <td>02.Medium</td>\n",
       "      <td>02.Medium</td>\n",
       "      <td>15.0</td>\n",
       "      <td>15.0</td>\n",
       "      <td>No</td>\n",
       "      <td>No</td>\n",
       "      <td>Email Opened</td>\n",
       "    </tr>\n",
       "    <tr>\n",
       "      <th>2</th>\n",
       "      <td>8cc8c611-a219-4f35-ad23-fdfd2656bd8a</td>\n",
       "      <td>660727</td>\n",
       "      <td>Landing Page Submission</td>\n",
       "      <td>Direct Traffic</td>\n",
       "      <td>No</td>\n",
       "      <td>No</td>\n",
       "      <td>1</td>\n",
       "      <td>2.0</td>\n",
       "      <td>1532</td>\n",
       "      <td>2.0</td>\n",
       "      <td>...</td>\n",
       "      <td>No</td>\n",
       "      <td>Potential Lead</td>\n",
       "      <td>Mumbai</td>\n",
       "      <td>02.Medium</td>\n",
       "      <td>01.High</td>\n",
       "      <td>14.0</td>\n",
       "      <td>20.0</td>\n",
       "      <td>No</td>\n",
       "      <td>Yes</td>\n",
       "      <td>Email Opened</td>\n",
       "    </tr>\n",
       "    <tr>\n",
       "      <th>3</th>\n",
       "      <td>0cc2df48-7cf4-4e39-9de9-19797f9b38cc</td>\n",
       "      <td>660719</td>\n",
       "      <td>Landing Page Submission</td>\n",
       "      <td>Direct Traffic</td>\n",
       "      <td>No</td>\n",
       "      <td>No</td>\n",
       "      <td>0</td>\n",
       "      <td>1.0</td>\n",
       "      <td>305</td>\n",
       "      <td>1.0</td>\n",
       "      <td>...</td>\n",
       "      <td>No</td>\n",
       "      <td>Select</td>\n",
       "      <td>Mumbai</td>\n",
       "      <td>02.Medium</td>\n",
       "      <td>01.High</td>\n",
       "      <td>13.0</td>\n",
       "      <td>17.0</td>\n",
       "      <td>No</td>\n",
       "      <td>No</td>\n",
       "      <td>Modified</td>\n",
       "    </tr>\n",
       "    <tr>\n",
       "      <th>4</th>\n",
       "      <td>3256f628-e534-4826-9d63-4a8b88782852</td>\n",
       "      <td>660681</td>\n",
       "      <td>Landing Page Submission</td>\n",
       "      <td>Google</td>\n",
       "      <td>No</td>\n",
       "      <td>No</td>\n",
       "      <td>1</td>\n",
       "      <td>2.0</td>\n",
       "      <td>1428</td>\n",
       "      <td>1.0</td>\n",
       "      <td>...</td>\n",
       "      <td>No</td>\n",
       "      <td>Select</td>\n",
       "      <td>Mumbai</td>\n",
       "      <td>02.Medium</td>\n",
       "      <td>01.High</td>\n",
       "      <td>15.0</td>\n",
       "      <td>18.0</td>\n",
       "      <td>No</td>\n",
       "      <td>No</td>\n",
       "      <td>Modified</td>\n",
       "    </tr>\n",
       "  </tbody>\n",
       "</table>\n",
       "<p>5 rows × 37 columns</p>\n",
       "</div>"
      ],
      "text/plain": [
       "                            Prospect ID  Lead Number              Lead Origin  \\\n",
       "0  7927b2df-8bba-4d29-b9a2-b6e0beafe620       660737                      API   \n",
       "1  2a272436-5132-4136-86fa-dcc88c88f482       660728                      API   \n",
       "2  8cc8c611-a219-4f35-ad23-fdfd2656bd8a       660727  Landing Page Submission   \n",
       "3  0cc2df48-7cf4-4e39-9de9-19797f9b38cc       660719  Landing Page Submission   \n",
       "4  3256f628-e534-4826-9d63-4a8b88782852       660681  Landing Page Submission   \n",
       "\n",
       "      Lead Source Do Not Email Do Not Call  Converted  TotalVisits  \\\n",
       "0      Olark Chat           No          No          0          0.0   \n",
       "1  Organic Search           No          No          0          5.0   \n",
       "2  Direct Traffic           No          No          1          2.0   \n",
       "3  Direct Traffic           No          No          0          1.0   \n",
       "4          Google           No          No          1          2.0   \n",
       "\n",
       "   Total Time Spent on Website  Page Views Per Visit  ...  \\\n",
       "0                            0                   0.0  ...   \n",
       "1                          674                   2.5  ...   \n",
       "2                         1532                   2.0  ...   \n",
       "3                          305                   1.0  ...   \n",
       "4                         1428                   1.0  ...   \n",
       "\n",
       "  Get updates on DM Content    Lead Profile    City  \\\n",
       "0                        No          Select  Select   \n",
       "1                        No          Select  Select   \n",
       "2                        No  Potential Lead  Mumbai   \n",
       "3                        No          Select  Mumbai   \n",
       "4                        No          Select  Mumbai   \n",
       "\n",
       "  Asymmetrique Activity Index Asymmetrique Profile Index  \\\n",
       "0                   02.Medium                  02.Medium   \n",
       "1                   02.Medium                  02.Medium   \n",
       "2                   02.Medium                    01.High   \n",
       "3                   02.Medium                    01.High   \n",
       "4                   02.Medium                    01.High   \n",
       "\n",
       "  Asymmetrique Activity Score Asymmetrique Profile Score  \\\n",
       "0                        15.0                       15.0   \n",
       "1                        15.0                       15.0   \n",
       "2                        14.0                       20.0   \n",
       "3                        13.0                       17.0   \n",
       "4                        15.0                       18.0   \n",
       "\n",
       "  I agree to pay the amount through cheque  \\\n",
       "0                                       No   \n",
       "1                                       No   \n",
       "2                                       No   \n",
       "3                                       No   \n",
       "4                                       No   \n",
       "\n",
       "  A free copy of Mastering The Interview Last Notable Activity  \n",
       "0                                     No              Modified  \n",
       "1                                     No          Email Opened  \n",
       "2                                    Yes          Email Opened  \n",
       "3                                     No              Modified  \n",
       "4                                     No              Modified  \n",
       "\n",
       "[5 rows x 37 columns]"
      ]
     },
     "execution_count": 4,
     "metadata": {},
     "output_type": "execute_result"
    }
   ],
   "source": [
    "#read the dataset and check the first five rows\n",
    "inp0 = pd.read_csv('Lead Scoring Assignment/Leads.csv')\n",
    "inp0.head()"
   ]
  },
  {
   "cell_type": "code",
   "execution_count": 5,
   "id": "6f702dcb",
   "metadata": {},
   "outputs": [
    {
     "data": {
      "text/plain": [
       "(9240, 37)"
      ]
     },
     "execution_count": 5,
     "metadata": {},
     "output_type": "execute_result"
    }
   ],
   "source": [
    "#Check the shape of the dataframe\n",
    "inp0.shape"
   ]
  },
  {
   "cell_type": "code",
   "execution_count": 5,
   "id": "8b56e3a5",
   "metadata": {},
   "outputs": [
    {
     "name": "stdout",
     "output_type": "stream",
     "text": [
      "<class 'pandas.core.frame.DataFrame'>\n",
      "RangeIndex: 9240 entries, 0 to 9239\n",
      "Data columns (total 37 columns):\n",
      " #   Column                                         Non-Null Count  Dtype  \n",
      "---  ------                                         --------------  -----  \n",
      " 0   Prospect ID                                    9240 non-null   object \n",
      " 1   Lead Number                                    9240 non-null   int64  \n",
      " 2   Lead Origin                                    9240 non-null   object \n",
      " 3   Lead Source                                    9204 non-null   object \n",
      " 4   Do Not Email                                   9240 non-null   object \n",
      " 5   Do Not Call                                    9240 non-null   object \n",
      " 6   Converted                                      9240 non-null   int64  \n",
      " 7   TotalVisits                                    9103 non-null   float64\n",
      " 8   Total Time Spent on Website                    9240 non-null   int64  \n",
      " 9   Page Views Per Visit                           9103 non-null   float64\n",
      " 10  Last Activity                                  9137 non-null   object \n",
      " 11  Country                                        6779 non-null   object \n",
      " 12  Specialization                                 7802 non-null   object \n",
      " 13  How did you hear about X Education             7033 non-null   object \n",
      " 14  What is your current occupation                6550 non-null   object \n",
      " 15  What matters most to you in choosing a course  6531 non-null   object \n",
      " 16  Search                                         9240 non-null   object \n",
      " 17  Magazine                                       9240 non-null   object \n",
      " 18  Newspaper Article                              9240 non-null   object \n",
      " 19  X Education Forums                             9240 non-null   object \n",
      " 20  Newspaper                                      9240 non-null   object \n",
      " 21  Digital Advertisement                          9240 non-null   object \n",
      " 22  Through Recommendations                        9240 non-null   object \n",
      " 23  Receive More Updates About Our Courses         9240 non-null   object \n",
      " 24  Tags                                           5887 non-null   object \n",
      " 25  Lead Quality                                   4473 non-null   object \n",
      " 26  Update me on Supply Chain Content              9240 non-null   object \n",
      " 27  Get updates on DM Content                      9240 non-null   object \n",
      " 28  Lead Profile                                   6531 non-null   object \n",
      " 29  City                                           7820 non-null   object \n",
      " 30  Asymmetrique Activity Index                    5022 non-null   object \n",
      " 31  Asymmetrique Profile Index                     5022 non-null   object \n",
      " 32  Asymmetrique Activity Score                    5022 non-null   float64\n",
      " 33  Asymmetrique Profile Score                     5022 non-null   float64\n",
      " 34  I agree to pay the amount through cheque       9240 non-null   object \n",
      " 35  A free copy of Mastering The Interview         9240 non-null   object \n",
      " 36  Last Notable Activity                          9240 non-null   object \n",
      "dtypes: float64(4), int64(3), object(30)\n",
      "memory usage: 2.6+ MB\n"
     ]
    }
   ],
   "source": [
    "#Check the datatypes of all the columns of the dataframe\n",
    "inp0.info()"
   ]
  },
  {
   "cell_type": "code",
   "execution_count": 6,
   "id": "58d525da",
   "metadata": {},
   "outputs": [
    {
     "data": {
      "text/html": [
       "<div>\n",
       "<style scoped>\n",
       "    .dataframe tbody tr th:only-of-type {\n",
       "        vertical-align: middle;\n",
       "    }\n",
       "\n",
       "    .dataframe tbody tr th {\n",
       "        vertical-align: top;\n",
       "    }\n",
       "\n",
       "    .dataframe thead th {\n",
       "        text-align: right;\n",
       "    }\n",
       "</style>\n",
       "<table border=\"1\" class=\"dataframe\">\n",
       "  <thead>\n",
       "    <tr style=\"text-align: right;\">\n",
       "      <th></th>\n",
       "      <th>Lead Number</th>\n",
       "      <th>Converted</th>\n",
       "      <th>TotalVisits</th>\n",
       "      <th>Total Time Spent on Website</th>\n",
       "      <th>Page Views Per Visit</th>\n",
       "      <th>Asymmetrique Activity Score</th>\n",
       "      <th>Asymmetrique Profile Score</th>\n",
       "    </tr>\n",
       "  </thead>\n",
       "  <tbody>\n",
       "    <tr>\n",
       "      <th>count</th>\n",
       "      <td>9240.000000</td>\n",
       "      <td>9240.000000</td>\n",
       "      <td>9103.000000</td>\n",
       "      <td>9240.000000</td>\n",
       "      <td>9103.000000</td>\n",
       "      <td>5022.000000</td>\n",
       "      <td>5022.000000</td>\n",
       "    </tr>\n",
       "    <tr>\n",
       "      <th>mean</th>\n",
       "      <td>617188.435606</td>\n",
       "      <td>0.385390</td>\n",
       "      <td>3.445238</td>\n",
       "      <td>487.698268</td>\n",
       "      <td>2.362820</td>\n",
       "      <td>14.306252</td>\n",
       "      <td>16.344883</td>\n",
       "    </tr>\n",
       "    <tr>\n",
       "      <th>std</th>\n",
       "      <td>23405.995698</td>\n",
       "      <td>0.486714</td>\n",
       "      <td>4.854853</td>\n",
       "      <td>548.021466</td>\n",
       "      <td>2.161418</td>\n",
       "      <td>1.386694</td>\n",
       "      <td>1.811395</td>\n",
       "    </tr>\n",
       "    <tr>\n",
       "      <th>min</th>\n",
       "      <td>579533.000000</td>\n",
       "      <td>0.000000</td>\n",
       "      <td>0.000000</td>\n",
       "      <td>0.000000</td>\n",
       "      <td>0.000000</td>\n",
       "      <td>7.000000</td>\n",
       "      <td>11.000000</td>\n",
       "    </tr>\n",
       "    <tr>\n",
       "      <th>25%</th>\n",
       "      <td>596484.500000</td>\n",
       "      <td>0.000000</td>\n",
       "      <td>1.000000</td>\n",
       "      <td>12.000000</td>\n",
       "      <td>1.000000</td>\n",
       "      <td>14.000000</td>\n",
       "      <td>15.000000</td>\n",
       "    </tr>\n",
       "    <tr>\n",
       "      <th>50%</th>\n",
       "      <td>615479.000000</td>\n",
       "      <td>0.000000</td>\n",
       "      <td>3.000000</td>\n",
       "      <td>248.000000</td>\n",
       "      <td>2.000000</td>\n",
       "      <td>14.000000</td>\n",
       "      <td>16.000000</td>\n",
       "    </tr>\n",
       "    <tr>\n",
       "      <th>75%</th>\n",
       "      <td>637387.250000</td>\n",
       "      <td>1.000000</td>\n",
       "      <td>5.000000</td>\n",
       "      <td>936.000000</td>\n",
       "      <td>3.000000</td>\n",
       "      <td>15.000000</td>\n",
       "      <td>18.000000</td>\n",
       "    </tr>\n",
       "    <tr>\n",
       "      <th>max</th>\n",
       "      <td>660737.000000</td>\n",
       "      <td>1.000000</td>\n",
       "      <td>251.000000</td>\n",
       "      <td>2272.000000</td>\n",
       "      <td>55.000000</td>\n",
       "      <td>18.000000</td>\n",
       "      <td>20.000000</td>\n",
       "    </tr>\n",
       "  </tbody>\n",
       "</table>\n",
       "</div>"
      ],
      "text/plain": [
       "         Lead Number    Converted  TotalVisits  Total Time Spent on Website  \\\n",
       "count    9240.000000  9240.000000  9103.000000                  9240.000000   \n",
       "mean   617188.435606     0.385390     3.445238                   487.698268   \n",
       "std     23405.995698     0.486714     4.854853                   548.021466   \n",
       "min    579533.000000     0.000000     0.000000                     0.000000   \n",
       "25%    596484.500000     0.000000     1.000000                    12.000000   \n",
       "50%    615479.000000     0.000000     3.000000                   248.000000   \n",
       "75%    637387.250000     1.000000     5.000000                   936.000000   \n",
       "max    660737.000000     1.000000   251.000000                  2272.000000   \n",
       "\n",
       "       Page Views Per Visit  Asymmetrique Activity Score  \\\n",
       "count           9103.000000                  5022.000000   \n",
       "mean               2.362820                    14.306252   \n",
       "std                2.161418                     1.386694   \n",
       "min                0.000000                     7.000000   \n",
       "25%                1.000000                    14.000000   \n",
       "50%                2.000000                    14.000000   \n",
       "75%                3.000000                    15.000000   \n",
       "max               55.000000                    18.000000   \n",
       "\n",
       "       Asymmetrique Profile Score  \n",
       "count                 5022.000000  \n",
       "mean                    16.344883  \n",
       "std                      1.811395  \n",
       "min                     11.000000  \n",
       "25%                     15.000000  \n",
       "50%                     16.000000  \n",
       "75%                     18.000000  \n",
       "max                     20.000000  "
      ]
     },
     "execution_count": 6,
     "metadata": {},
     "output_type": "execute_result"
    }
   ],
   "source": [
    "#describing the dataset \n",
    "inp0.describe()"
   ]
  },
  {
   "cell_type": "markdown",
   "id": "0fb741ee",
   "metadata": {},
   "source": [
    "#### - 38% of them have been converted \n",
    "#### -Average of total number of times visit made is 3.44\n",
    "#### - 251 is the maximum number of times visit made by person and 0 is the minimum number of times visit made by person \n",
    "#### - Average total time spent on website by customers is 487.69 and since there is gap between 75% percintile and maximum value there should be some outliers present "
   ]
  },
  {
   "cell_type": "markdown",
   "id": "3fd6582d",
   "metadata": {},
   "source": [
    "### EDA\n",
    " ##### Data Cleaning & Treatment\n",
    "   - The first few steps involve making sure that there are no __missing values__ or __incorrect data types__ or __duplicates values__ before we proceed to the analysis stage. These mentioned problems are handled as follows :\n",
    "\n",
    " - check for duplicates\n",
    "    - using duplicated method  \n",
    " \n",
    " \n",
    " - For Missing Values: Some common techniques to treat this issue are\n",
    "    - Dropping the rows containing the missing values if the missing percenteage is less \n",
    "    - Dropping the columns contating missing values if the missing percentage is more \n",
    "    - Imputing the missing values\n",
    "    - Keep the missing values if they don't affect the analysis\n",
    " \n",
    "    \n",
    " - Incorrect Data Types:\n",
    "    - Clean certain values \n",
    "    - Clean and convert an entire column"
   ]
  },
  {
   "cell_type": "code",
   "execution_count": 7,
   "id": "0957144e",
   "metadata": {},
   "outputs": [
    {
     "data": {
      "text/plain": [
       "True"
      ]
     },
     "execution_count": 7,
     "metadata": {},
     "output_type": "execute_result"
    }
   ],
   "source": [
    "#check for duplicates in Prospect ID \n",
    "sum(inp0.duplicated(subset = 'Prospect ID')) == 0"
   ]
  },
  {
   "cell_type": "code",
   "execution_count": 8,
   "id": "1e374d10",
   "metadata": {},
   "outputs": [
    {
     "data": {
      "text/plain": [
       "True"
      ]
     },
     "execution_count": 8,
     "metadata": {},
     "output_type": "execute_result"
    }
   ],
   "source": [
    "#check for duplicates in Lead Number \n",
    "sum(inp0.duplicated(subset = 'Lead Number')) == 0"
   ]
  },
  {
   "cell_type": "markdown",
   "id": "42704a24",
   "metadata": {},
   "source": [
    "Checking duplicate values present in __Prospect ID__ and __Lead Number__ column as these two columns will have unique values to uniquely identify each record according to the data dictinory of lead dataset, but there are no duplicate values found "
   ]
  },
  {
   "cell_type": "code",
   "execution_count": 9,
   "id": "8569c8ba",
   "metadata": {},
   "outputs": [
    {
     "data": {
      "text/plain": [
       "Prospect ID                                         0\n",
       "Lead Number                                         0\n",
       "Lead Origin                                         0\n",
       "Lead Source                                        36\n",
       "Do Not Email                                        0\n",
       "Do Not Call                                         0\n",
       "Converted                                           0\n",
       "TotalVisits                                       137\n",
       "Total Time Spent on Website                         0\n",
       "Page Views Per Visit                              137\n",
       "Last Activity                                     103\n",
       "Country                                          2461\n",
       "Specialization                                   1438\n",
       "How did you hear about X Education               2207\n",
       "What is your current occupation                  2690\n",
       "What matters most to you in choosing a course    2709\n",
       "Search                                              0\n",
       "Magazine                                            0\n",
       "Newspaper Article                                   0\n",
       "X Education Forums                                  0\n",
       "Newspaper                                           0\n",
       "Digital Advertisement                               0\n",
       "Through Recommendations                             0\n",
       "Receive More Updates About Our Courses              0\n",
       "Tags                                             3353\n",
       "Lead Quality                                     4767\n",
       "Update me on Supply Chain Content                   0\n",
       "Get updates on DM Content                           0\n",
       "Lead Profile                                     2709\n",
       "City                                             1420\n",
       "Asymmetrique Activity Index                      4218\n",
       "Asymmetrique Profile Index                       4218\n",
       "Asymmetrique Activity Score                      4218\n",
       "Asymmetrique Profile Score                       4218\n",
       "I agree to pay the amount through cheque            0\n",
       "A free copy of Mastering The Interview              0\n",
       "Last Notable Activity                               0\n",
       "dtype: int64"
      ]
     },
     "execution_count": 9,
     "metadata": {},
     "output_type": "execute_result"
    }
   ],
   "source": [
    "#Checking the number of null values in the columns\n",
    "inp0.isnull().sum()"
   ]
  },
  {
   "cell_type": "code",
   "execution_count": 10,
   "id": "ef4f9745",
   "metadata": {},
   "outputs": [
    {
     "data": {
      "text/plain": [
       "Prospect ID                                       0.00\n",
       "Lead Number                                       0.00\n",
       "Lead Origin                                       0.00\n",
       "Lead Source                                       0.39\n",
       "Do Not Email                                      0.00\n",
       "Do Not Call                                       0.00\n",
       "Converted                                         0.00\n",
       "TotalVisits                                       1.48\n",
       "Total Time Spent on Website                       0.00\n",
       "Page Views Per Visit                              1.48\n",
       "Last Activity                                     1.11\n",
       "Country                                          26.63\n",
       "Specialization                                   15.56\n",
       "How did you hear about X Education               23.89\n",
       "What is your current occupation                  29.11\n",
       "What matters most to you in choosing a course    29.32\n",
       "Search                                            0.00\n",
       "Magazine                                          0.00\n",
       "Newspaper Article                                 0.00\n",
       "X Education Forums                                0.00\n",
       "Newspaper                                         0.00\n",
       "Digital Advertisement                             0.00\n",
       "Through Recommendations                           0.00\n",
       "Receive More Updates About Our Courses            0.00\n",
       "Tags                                             36.29\n",
       "Lead Quality                                     51.59\n",
       "Update me on Supply Chain Content                 0.00\n",
       "Get updates on DM Content                         0.00\n",
       "Lead Profile                                     29.32\n",
       "City                                             15.37\n",
       "Asymmetrique Activity Index                      45.65\n",
       "Asymmetrique Profile Index                       45.65\n",
       "Asymmetrique Activity Score                      45.65\n",
       "Asymmetrique Profile Score                       45.65\n",
       "I agree to pay the amount through cheque          0.00\n",
       "A free copy of Mastering The Interview            0.00\n",
       "Last Notable Activity                             0.00\n",
       "dtype: float64"
      ]
     },
     "execution_count": 10,
     "metadata": {},
     "output_type": "execute_result"
    }
   ],
   "source": [
    "# Calculating the percentage of null values in the lead dataset \n",
    "round(100*inp0.isna().sum()/len(inp0),2)"
   ]
  },
  {
   "cell_type": "code",
   "execution_count": 11,
   "id": "396ed397",
   "metadata": {},
   "outputs": [],
   "source": [
    "#Dropping columns with more than 35% null values\n",
    "cols=inp0.columns\n",
    "\n",
    "for i in cols:\n",
    "    if((100*(inp0[i].isnull().sum()/len(inp0))) >= 35):\n",
    "        inp0.drop(i, 1, inplace = True)"
   ]
  },
  {
   "cell_type": "code",
   "execution_count": 12,
   "id": "91e7bfc9",
   "metadata": {},
   "outputs": [
    {
     "data": {
      "text/html": [
       "<div>\n",
       "<style scoped>\n",
       "    .dataframe tbody tr th:only-of-type {\n",
       "        vertical-align: middle;\n",
       "    }\n",
       "\n",
       "    .dataframe tbody tr th {\n",
       "        vertical-align: top;\n",
       "    }\n",
       "\n",
       "    .dataframe thead th {\n",
       "        text-align: right;\n",
       "    }\n",
       "</style>\n",
       "<table border=\"1\" class=\"dataframe\">\n",
       "  <thead>\n",
       "    <tr style=\"text-align: right;\">\n",
       "      <th></th>\n",
       "      <th>Prospect ID</th>\n",
       "      <th>Lead Number</th>\n",
       "      <th>Lead Origin</th>\n",
       "      <th>Lead Source</th>\n",
       "      <th>Do Not Email</th>\n",
       "      <th>Do Not Call</th>\n",
       "      <th>Converted</th>\n",
       "      <th>TotalVisits</th>\n",
       "      <th>Total Time Spent on Website</th>\n",
       "      <th>Page Views Per Visit</th>\n",
       "      <th>...</th>\n",
       "      <th>Digital Advertisement</th>\n",
       "      <th>Through Recommendations</th>\n",
       "      <th>Receive More Updates About Our Courses</th>\n",
       "      <th>Update me on Supply Chain Content</th>\n",
       "      <th>Get updates on DM Content</th>\n",
       "      <th>Lead Profile</th>\n",
       "      <th>City</th>\n",
       "      <th>I agree to pay the amount through cheque</th>\n",
       "      <th>A free copy of Mastering The Interview</th>\n",
       "      <th>Last Notable Activity</th>\n",
       "    </tr>\n",
       "  </thead>\n",
       "  <tbody>\n",
       "    <tr>\n",
       "      <th>0</th>\n",
       "      <td>7927b2df-8bba-4d29-b9a2-b6e0beafe620</td>\n",
       "      <td>660737</td>\n",
       "      <td>API</td>\n",
       "      <td>Olark Chat</td>\n",
       "      <td>No</td>\n",
       "      <td>No</td>\n",
       "      <td>0</td>\n",
       "      <td>0.0</td>\n",
       "      <td>0</td>\n",
       "      <td>0.0</td>\n",
       "      <td>...</td>\n",
       "      <td>No</td>\n",
       "      <td>No</td>\n",
       "      <td>No</td>\n",
       "      <td>No</td>\n",
       "      <td>No</td>\n",
       "      <td>Select</td>\n",
       "      <td>Select</td>\n",
       "      <td>No</td>\n",
       "      <td>No</td>\n",
       "      <td>Modified</td>\n",
       "    </tr>\n",
       "    <tr>\n",
       "      <th>1</th>\n",
       "      <td>2a272436-5132-4136-86fa-dcc88c88f482</td>\n",
       "      <td>660728</td>\n",
       "      <td>API</td>\n",
       "      <td>Organic Search</td>\n",
       "      <td>No</td>\n",
       "      <td>No</td>\n",
       "      <td>0</td>\n",
       "      <td>5.0</td>\n",
       "      <td>674</td>\n",
       "      <td>2.5</td>\n",
       "      <td>...</td>\n",
       "      <td>No</td>\n",
       "      <td>No</td>\n",
       "      <td>No</td>\n",
       "      <td>No</td>\n",
       "      <td>No</td>\n",
       "      <td>Select</td>\n",
       "      <td>Select</td>\n",
       "      <td>No</td>\n",
       "      <td>No</td>\n",
       "      <td>Email Opened</td>\n",
       "    </tr>\n",
       "    <tr>\n",
       "      <th>2</th>\n",
       "      <td>8cc8c611-a219-4f35-ad23-fdfd2656bd8a</td>\n",
       "      <td>660727</td>\n",
       "      <td>Landing Page Submission</td>\n",
       "      <td>Direct Traffic</td>\n",
       "      <td>No</td>\n",
       "      <td>No</td>\n",
       "      <td>1</td>\n",
       "      <td>2.0</td>\n",
       "      <td>1532</td>\n",
       "      <td>2.0</td>\n",
       "      <td>...</td>\n",
       "      <td>No</td>\n",
       "      <td>No</td>\n",
       "      <td>No</td>\n",
       "      <td>No</td>\n",
       "      <td>No</td>\n",
       "      <td>Potential Lead</td>\n",
       "      <td>Mumbai</td>\n",
       "      <td>No</td>\n",
       "      <td>Yes</td>\n",
       "      <td>Email Opened</td>\n",
       "    </tr>\n",
       "    <tr>\n",
       "      <th>3</th>\n",
       "      <td>0cc2df48-7cf4-4e39-9de9-19797f9b38cc</td>\n",
       "      <td>660719</td>\n",
       "      <td>Landing Page Submission</td>\n",
       "      <td>Direct Traffic</td>\n",
       "      <td>No</td>\n",
       "      <td>No</td>\n",
       "      <td>0</td>\n",
       "      <td>1.0</td>\n",
       "      <td>305</td>\n",
       "      <td>1.0</td>\n",
       "      <td>...</td>\n",
       "      <td>No</td>\n",
       "      <td>No</td>\n",
       "      <td>No</td>\n",
       "      <td>No</td>\n",
       "      <td>No</td>\n",
       "      <td>Select</td>\n",
       "      <td>Mumbai</td>\n",
       "      <td>No</td>\n",
       "      <td>No</td>\n",
       "      <td>Modified</td>\n",
       "    </tr>\n",
       "    <tr>\n",
       "      <th>4</th>\n",
       "      <td>3256f628-e534-4826-9d63-4a8b88782852</td>\n",
       "      <td>660681</td>\n",
       "      <td>Landing Page Submission</td>\n",
       "      <td>Google</td>\n",
       "      <td>No</td>\n",
       "      <td>No</td>\n",
       "      <td>1</td>\n",
       "      <td>2.0</td>\n",
       "      <td>1428</td>\n",
       "      <td>1.0</td>\n",
       "      <td>...</td>\n",
       "      <td>No</td>\n",
       "      <td>No</td>\n",
       "      <td>No</td>\n",
       "      <td>No</td>\n",
       "      <td>No</td>\n",
       "      <td>Select</td>\n",
       "      <td>Mumbai</td>\n",
       "      <td>No</td>\n",
       "      <td>No</td>\n",
       "      <td>Modified</td>\n",
       "    </tr>\n",
       "  </tbody>\n",
       "</table>\n",
       "<p>5 rows × 31 columns</p>\n",
       "</div>"
      ],
      "text/plain": [
       "                            Prospect ID  Lead Number              Lead Origin  \\\n",
       "0  7927b2df-8bba-4d29-b9a2-b6e0beafe620       660737                      API   \n",
       "1  2a272436-5132-4136-86fa-dcc88c88f482       660728                      API   \n",
       "2  8cc8c611-a219-4f35-ad23-fdfd2656bd8a       660727  Landing Page Submission   \n",
       "3  0cc2df48-7cf4-4e39-9de9-19797f9b38cc       660719  Landing Page Submission   \n",
       "4  3256f628-e534-4826-9d63-4a8b88782852       660681  Landing Page Submission   \n",
       "\n",
       "      Lead Source Do Not Email Do Not Call  Converted  TotalVisits  \\\n",
       "0      Olark Chat           No          No          0          0.0   \n",
       "1  Organic Search           No          No          0          5.0   \n",
       "2  Direct Traffic           No          No          1          2.0   \n",
       "3  Direct Traffic           No          No          0          1.0   \n",
       "4          Google           No          No          1          2.0   \n",
       "\n",
       "   Total Time Spent on Website  Page Views Per Visit  ...  \\\n",
       "0                            0                   0.0  ...   \n",
       "1                          674                   2.5  ...   \n",
       "2                         1532                   2.0  ...   \n",
       "3                          305                   1.0  ...   \n",
       "4                         1428                   1.0  ...   \n",
       "\n",
       "  Digital Advertisement Through Recommendations  \\\n",
       "0                    No                      No   \n",
       "1                    No                      No   \n",
       "2                    No                      No   \n",
       "3                    No                      No   \n",
       "4                    No                      No   \n",
       "\n",
       "  Receive More Updates About Our Courses Update me on Supply Chain Content  \\\n",
       "0                                     No                                No   \n",
       "1                                     No                                No   \n",
       "2                                     No                                No   \n",
       "3                                     No                                No   \n",
       "4                                     No                                No   \n",
       "\n",
       "  Get updates on DM Content    Lead Profile    City  \\\n",
       "0                        No          Select  Select   \n",
       "1                        No          Select  Select   \n",
       "2                        No  Potential Lead  Mumbai   \n",
       "3                        No          Select  Mumbai   \n",
       "4                        No          Select  Mumbai   \n",
       "\n",
       "  I agree to pay the amount through cheque  \\\n",
       "0                                       No   \n",
       "1                                       No   \n",
       "2                                       No   \n",
       "3                                       No   \n",
       "4                                       No   \n",
       "\n",
       "  A free copy of Mastering The Interview Last Notable Activity  \n",
       "0                                     No              Modified  \n",
       "1                                     No          Email Opened  \n",
       "2                                    Yes          Email Opened  \n",
       "3                                     No              Modified  \n",
       "4                                     No              Modified  \n",
       "\n",
       "[5 rows x 31 columns]"
      ]
     },
     "execution_count": 12,
     "metadata": {},
     "output_type": "execute_result"
    }
   ],
   "source": [
    "inp0.head()"
   ]
  },
  {
   "cell_type": "markdown",
   "id": "2b7ab429",
   "metadata": {},
   "source": [
    "##### Removed 6 columns as they were having more than 35% missing value percentage which is very significantly high in number "
   ]
  },
  {
   "cell_type": "code",
   "execution_count": 13,
   "id": "448b8e5b",
   "metadata": {},
   "outputs": [
    {
     "data": {
      "text/plain": [
       "Prospect ID                                       0.00\n",
       "Lead Number                                       0.00\n",
       "Lead Origin                                       0.00\n",
       "Lead Source                                       0.39\n",
       "Do Not Email                                      0.00\n",
       "Do Not Call                                       0.00\n",
       "Converted                                         0.00\n",
       "TotalVisits                                       1.48\n",
       "Total Time Spent on Website                       0.00\n",
       "Page Views Per Visit                              1.48\n",
       "Last Activity                                     1.11\n",
       "Country                                          26.63\n",
       "Specialization                                   15.56\n",
       "How did you hear about X Education               23.89\n",
       "What is your current occupation                  29.11\n",
       "What matters most to you in choosing a course    29.32\n",
       "Search                                            0.00\n",
       "Magazine                                          0.00\n",
       "Newspaper Article                                 0.00\n",
       "X Education Forums                                0.00\n",
       "Newspaper                                         0.00\n",
       "Digital Advertisement                             0.00\n",
       "Through Recommendations                           0.00\n",
       "Receive More Updates About Our Courses            0.00\n",
       "Update me on Supply Chain Content                 0.00\n",
       "Get updates on DM Content                         0.00\n",
       "Lead Profile                                     29.32\n",
       "City                                             15.37\n",
       "I agree to pay the amount through cheque          0.00\n",
       "A free copy of Mastering The Interview            0.00\n",
       "Last Notable Activity                             0.00\n",
       "dtype: float64"
      ]
     },
     "execution_count": 13,
     "metadata": {},
     "output_type": "execute_result"
    }
   ],
   "source": [
    "# Calculating the percentage of null values in the lead dataset \n",
    "round(100*inp0.isna().sum()/len(inp0),2)"
   ]
  },
  {
   "cell_type": "code",
   "execution_count": 14,
   "id": "fedda39a",
   "metadata": {},
   "outputs": [
    {
     "data": {
      "text/plain": [
       "India                   6492\n",
       "NaN                     2461\n",
       "United States             69\n",
       "United Arab Emirates      53\n",
       "Singapore                 24\n",
       "Saudi Arabia              21\n",
       "United Kingdom            15\n",
       "Australia                 13\n",
       "Qatar                     10\n",
       "Bahrain                    7\n",
       "Hong Kong                  7\n",
       "Oman                       6\n",
       "France                     6\n",
       "unknown                    5\n",
       "Kuwait                     4\n",
       "South Africa               4\n",
       "Canada                     4\n",
       "Nigeria                    4\n",
       "Germany                    4\n",
       "Sweden                     3\n",
       "Philippines                2\n",
       "Uganda                     2\n",
       "Italy                      2\n",
       "Bangladesh                 2\n",
       "Netherlands                2\n",
       "Asia/Pacific Region        2\n",
       "China                      2\n",
       "Belgium                    2\n",
       "Ghana                      2\n",
       "Kenya                      1\n",
       "Sri Lanka                  1\n",
       "Tanzania                   1\n",
       "Malaysia                   1\n",
       "Liberia                    1\n",
       "Switzerland                1\n",
       "Denmark                    1\n",
       "Russia                     1\n",
       "Vietnam                    1\n",
       "Indonesia                  1\n",
       "Name: Country, dtype: int64"
      ]
     },
     "execution_count": 14,
     "metadata": {},
     "output_type": "execute_result"
    }
   ],
   "source": [
    "#Checking value counts for country variable to replace missing values with mode \n",
    "inp0['Country'].value_counts(dropna=False)"
   ]
  },
  {
   "cell_type": "markdown",
   "id": "d1e64290",
   "metadata": {},
   "source": [
    "##### India is having Highest number of counts with 6492 counts and there are 2461 missing values , if we try to impute 2461 missing values with mode value which is one of the best method for imputing categorical value  value conts of India will become 8953 which will constitue nearly 95% of the data and in analysis it will not be much helpful hence droping this column  "
   ]
  },
  {
   "cell_type": "code",
   "execution_count": 15,
   "id": "fef296aa",
   "metadata": {},
   "outputs": [],
   "source": [
    "inp0.drop('Country', 1, inplace = True)"
   ]
  },
  {
   "cell_type": "code",
   "execution_count": 16,
   "id": "fa578077",
   "metadata": {},
   "outputs": [
    {
     "data": {
      "text/plain": [
       "(9240, 30)"
      ]
     },
     "execution_count": 16,
     "metadata": {},
     "output_type": "execute_result"
    }
   ],
   "source": [
    "inp0.shape"
   ]
  },
  {
   "cell_type": "code",
   "execution_count": 17,
   "id": "2700b874",
   "metadata": {},
   "outputs": [
    {
     "data": {
      "text/plain": [
       "Prospect ID                                       0.00\n",
       "Lead Number                                       0.00\n",
       "Lead Origin                                       0.00\n",
       "Lead Source                                       0.39\n",
       "Do Not Email                                      0.00\n",
       "Do Not Call                                       0.00\n",
       "Converted                                         0.00\n",
       "TotalVisits                                       1.48\n",
       "Total Time Spent on Website                       0.00\n",
       "Page Views Per Visit                              1.48\n",
       "Last Activity                                     1.11\n",
       "Specialization                                   15.56\n",
       "How did you hear about X Education               23.89\n",
       "What is your current occupation                  29.11\n",
       "What matters most to you in choosing a course    29.32\n",
       "Search                                            0.00\n",
       "Magazine                                          0.00\n",
       "Newspaper Article                                 0.00\n",
       "X Education Forums                                0.00\n",
       "Newspaper                                         0.00\n",
       "Digital Advertisement                             0.00\n",
       "Through Recommendations                           0.00\n",
       "Receive More Updates About Our Courses            0.00\n",
       "Update me on Supply Chain Content                 0.00\n",
       "Get updates on DM Content                         0.00\n",
       "Lead Profile                                     29.32\n",
       "City                                             15.37\n",
       "I agree to pay the amount through cheque          0.00\n",
       "A free copy of Mastering The Interview            0.00\n",
       "Last Notable Activity                             0.00\n",
       "dtype: float64"
      ]
     },
     "execution_count": 17,
     "metadata": {},
     "output_type": "execute_result"
    }
   ],
   "source": [
    "# Calculating the percentage of null values in the lead dataset \n",
    "round(100*inp0.isna().sum()/len(inp0),2)"
   ]
  },
  {
   "cell_type": "code",
   "execution_count": 18,
   "id": "938462e6",
   "metadata": {},
   "outputs": [
    {
     "data": {
      "text/plain": [
       "Select                               1942\n",
       "NaN                                  1438\n",
       "Finance Management                    976\n",
       "Human Resource Management             848\n",
       "Marketing Management                  838\n",
       "Operations Management                 503\n",
       "Business Administration               403\n",
       "IT Projects Management                366\n",
       "Supply Chain Management               349\n",
       "Banking, Investment And Insurance     338\n",
       "Travel and Tourism                    203\n",
       "Media and Advertising                 203\n",
       "International Business                178\n",
       "Healthcare Management                 159\n",
       "Hospitality Management                114\n",
       "E-COMMERCE                            112\n",
       "Retail Management                     100\n",
       "Rural and Agribusiness                 73\n",
       "E-Business                             57\n",
       "Services Excellence                    40\n",
       "Name: Specialization, dtype: int64"
      ]
     },
     "execution_count": 18,
     "metadata": {},
     "output_type": "execute_result"
    }
   ],
   "source": [
    "#Checking value counts for Specialization variable to replace missing values with mode \n",
    "inp0['Specialization'].value_counts(dropna=False)"
   ]
  },
  {
   "cell_type": "code",
   "execution_count": 19,
   "id": "3055127c",
   "metadata": {},
   "outputs": [],
   "source": [
    "# Replacing null values in the Specialization column with 'Not Specified' as this would make sense rather than imputing with mode value which would in way affect the analysis\n",
    "inp0['Specialization'].fillna('Not Specified', inplace = True)"
   ]
  },
  {
   "cell_type": "code",
   "execution_count": 20,
   "id": "a861964f",
   "metadata": {},
   "outputs": [
    {
     "data": {
      "text/plain": [
       "Prospect ID                                       0.00\n",
       "Lead Number                                       0.00\n",
       "Lead Origin                                       0.00\n",
       "Lead Source                                       0.39\n",
       "Do Not Email                                      0.00\n",
       "Do Not Call                                       0.00\n",
       "Converted                                         0.00\n",
       "TotalVisits                                       1.48\n",
       "Total Time Spent on Website                       0.00\n",
       "Page Views Per Visit                              1.48\n",
       "Last Activity                                     1.11\n",
       "Specialization                                    0.00\n",
       "How did you hear about X Education               23.89\n",
       "What is your current occupation                  29.11\n",
       "What matters most to you in choosing a course    29.32\n",
       "Search                                            0.00\n",
       "Magazine                                          0.00\n",
       "Newspaper Article                                 0.00\n",
       "X Education Forums                                0.00\n",
       "Newspaper                                         0.00\n",
       "Digital Advertisement                             0.00\n",
       "Through Recommendations                           0.00\n",
       "Receive More Updates About Our Courses            0.00\n",
       "Update me on Supply Chain Content                 0.00\n",
       "Get updates on DM Content                         0.00\n",
       "Lead Profile                                     29.32\n",
       "City                                             15.37\n",
       "I agree to pay the amount through cheque          0.00\n",
       "A free copy of Mastering The Interview            0.00\n",
       "Last Notable Activity                             0.00\n",
       "dtype: float64"
      ]
     },
     "execution_count": 20,
     "metadata": {},
     "output_type": "execute_result"
    }
   ],
   "source": [
    "round(100*inp0.isna().sum()/len(inp0),2)"
   ]
  },
  {
   "cell_type": "code",
   "execution_count": 21,
   "id": "face2419",
   "metadata": {},
   "outputs": [
    {
     "data": {
      "text/plain": [
       "Select                   5043\n",
       "NaN                      2207\n",
       "Online Search             808\n",
       "Word Of Mouth             348\n",
       "Student of SomeSchool     310\n",
       "Other                     186\n",
       "Multiple Sources          152\n",
       "Advertisements             70\n",
       "Social Media               67\n",
       "Email                      26\n",
       "SMS                        23\n",
       "Name: How did you hear about X Education, dtype: int64"
      ]
     },
     "execution_count": 21,
     "metadata": {},
     "output_type": "execute_result"
    }
   ],
   "source": [
    "#Checking value counts for 'How did you hear about X Education' variable to replace missing values with mode \n",
    "inp0['How did you hear about X Education'].value_counts(dropna=False)"
   ]
  },
  {
   "cell_type": "code",
   "execution_count": 22,
   "id": "53190318",
   "metadata": {},
   "outputs": [],
   "source": [
    "# Replacing null values in the 'How did you hear about X Education' column with 'Not Specified' as this would make sense rather than imputing with mode value which would in way affect the analysis\n",
    "inp0['How did you hear about X Education'].fillna('Not Specified', inplace = True)"
   ]
  },
  {
   "cell_type": "code",
   "execution_count": 23,
   "id": "03a50b52",
   "metadata": {},
   "outputs": [
    {
     "data": {
      "text/plain": [
       "Unemployed              5600\n",
       "NaN                     2690\n",
       "Working Professional     706\n",
       "Student                  210\n",
       "Other                     16\n",
       "Housewife                 10\n",
       "Businessman                8\n",
       "Name: What is your current occupation, dtype: int64"
      ]
     },
     "execution_count": 23,
     "metadata": {},
     "output_type": "execute_result"
    }
   ],
   "source": [
    "#checking value counts of 'What is your current occupation' column\n",
    "inp0['What is your current occupation'].value_counts(dropna=False) "
   ]
  },
  {
   "cell_type": "code",
   "execution_count": 24,
   "id": "f91bc29e",
   "metadata": {},
   "outputs": [],
   "source": [
    "# Replacing null values in the 'What is your current occupation' column with 'Not Specified' as this would make sense rather than imputing with mode value which would in way affect the analysis\n",
    "inp0['What is your current occupation'].fillna('Not Specified', inplace = True)"
   ]
  },
  {
   "cell_type": "code",
   "execution_count": 25,
   "id": "3144eca4",
   "metadata": {},
   "outputs": [
    {
     "data": {
      "text/plain": [
       "Prospect ID                                       0.00\n",
       "Lead Number                                       0.00\n",
       "Lead Origin                                       0.00\n",
       "Lead Source                                       0.39\n",
       "Do Not Email                                      0.00\n",
       "Do Not Call                                       0.00\n",
       "Converted                                         0.00\n",
       "TotalVisits                                       1.48\n",
       "Total Time Spent on Website                       0.00\n",
       "Page Views Per Visit                              1.48\n",
       "Last Activity                                     1.11\n",
       "Specialization                                    0.00\n",
       "How did you hear about X Education                0.00\n",
       "What is your current occupation                   0.00\n",
       "What matters most to you in choosing a course    29.32\n",
       "Search                                            0.00\n",
       "Magazine                                          0.00\n",
       "Newspaper Article                                 0.00\n",
       "X Education Forums                                0.00\n",
       "Newspaper                                         0.00\n",
       "Digital Advertisement                             0.00\n",
       "Through Recommendations                           0.00\n",
       "Receive More Updates About Our Courses            0.00\n",
       "Update me on Supply Chain Content                 0.00\n",
       "Get updates on DM Content                         0.00\n",
       "Lead Profile                                     29.32\n",
       "City                                             15.37\n",
       "I agree to pay the amount through cheque          0.00\n",
       "A free copy of Mastering The Interview            0.00\n",
       "Last Notable Activity                             0.00\n",
       "dtype: float64"
      ]
     },
     "execution_count": 25,
     "metadata": {},
     "output_type": "execute_result"
    }
   ],
   "source": [
    "round(100*inp0.isna().sum()/len(inp0),2)"
   ]
  },
  {
   "cell_type": "code",
   "execution_count": 26,
   "id": "144bd5ed",
   "metadata": {},
   "outputs": [
    {
     "data": {
      "text/plain": [
       "Better Career Prospects      6528\n",
       "NaN                          2709\n",
       "Flexibility & Convenience       2\n",
       "Other                           1\n",
       "Name: What matters most to you in choosing a course, dtype: int64"
      ]
     },
     "execution_count": 26,
     "metadata": {},
     "output_type": "execute_result"
    }
   ],
   "source": [
    "#checking value counts of 'What matters most to you in choosing a course' column\n",
    "inp0['What matters most to you in choosing a course'].value_counts(dropna=False)"
   ]
  },
  {
   "cell_type": "code",
   "execution_count": 27,
   "id": "de3503d9",
   "metadata": {},
   "outputs": [],
   "source": [
    "# Replacing null values in the 'What matters most to you in choosing a course' column with 'Not Specified' as this would make sense rather than imputing with mode value which would in way affect the analysis\n",
    "inp0['What matters most to you in choosing a course'].fillna('Not Specified', inplace = True)"
   ]
  },
  {
   "cell_type": "code",
   "execution_count": 28,
   "id": "765d3dbe",
   "metadata": {},
   "outputs": [
    {
     "data": {
      "text/plain": [
       "Prospect ID                                       0.00\n",
       "Lead Number                                       0.00\n",
       "Lead Origin                                       0.00\n",
       "Lead Source                                       0.39\n",
       "Do Not Email                                      0.00\n",
       "Do Not Call                                       0.00\n",
       "Converted                                         0.00\n",
       "TotalVisits                                       1.48\n",
       "Total Time Spent on Website                       0.00\n",
       "Page Views Per Visit                              1.48\n",
       "Last Activity                                     1.11\n",
       "Specialization                                    0.00\n",
       "How did you hear about X Education                0.00\n",
       "What is your current occupation                   0.00\n",
       "What matters most to you in choosing a course     0.00\n",
       "Search                                            0.00\n",
       "Magazine                                          0.00\n",
       "Newspaper Article                                 0.00\n",
       "X Education Forums                                0.00\n",
       "Newspaper                                         0.00\n",
       "Digital Advertisement                             0.00\n",
       "Through Recommendations                           0.00\n",
       "Receive More Updates About Our Courses            0.00\n",
       "Update me on Supply Chain Content                 0.00\n",
       "Get updates on DM Content                         0.00\n",
       "Lead Profile                                     29.32\n",
       "City                                             15.37\n",
       "I agree to pay the amount through cheque          0.00\n",
       "A free copy of Mastering The Interview            0.00\n",
       "Last Notable Activity                             0.00\n",
       "dtype: float64"
      ]
     },
     "execution_count": 28,
     "metadata": {},
     "output_type": "execute_result"
    }
   ],
   "source": [
    "round(100*inp0.isna().sum()/len(inp0),2)"
   ]
  },
  {
   "cell_type": "code",
   "execution_count": 30,
   "id": "e017eb9f",
   "metadata": {},
   "outputs": [
    {
     "data": {
      "text/plain": [
       "Mumbai                         3222\n",
       "Select                         2249\n",
       "NaN                            1420\n",
       "Thane & Outskirts               752\n",
       "Other Cities                    686\n",
       "Other Cities of Maharashtra     457\n",
       "Other Metro Cities              380\n",
       "Tier II Cities                   74\n",
       "Name: City, dtype: int64"
      ]
     },
     "execution_count": 30,
     "metadata": {},
     "output_type": "execute_result"
    }
   ],
   "source": [
    "#checking value counts of City column\n",
    "inp0['City'].value_counts(dropna=False)"
   ]
  },
  {
   "cell_type": "code",
   "execution_count": 31,
   "id": "95ba7854",
   "metadata": {},
   "outputs": [],
   "source": [
    "# Replacing null values in the 'City' column with 'Not Specified' as this would make sense rather than imputing with mode value which would in way affect the analysis\n",
    "inp0['City'].fillna('Not Specified', inplace = True)"
   ]
  },
  {
   "cell_type": "code",
   "execution_count": 32,
   "id": "532ef562",
   "metadata": {},
   "outputs": [
    {
     "data": {
      "text/plain": [
       "Prospect ID                                       0.00\n",
       "Lead Number                                       0.00\n",
       "Lead Origin                                       0.00\n",
       "Lead Source                                       0.39\n",
       "Do Not Email                                      0.00\n",
       "Do Not Call                                       0.00\n",
       "Converted                                         0.00\n",
       "TotalVisits                                       1.48\n",
       "Total Time Spent on Website                       0.00\n",
       "Page Views Per Visit                              1.48\n",
       "Last Activity                                     1.11\n",
       "Specialization                                    0.00\n",
       "How did you hear about X Education                0.00\n",
       "What is your current occupation                   0.00\n",
       "What matters most to you in choosing a course     0.00\n",
       "Search                                            0.00\n",
       "Magazine                                          0.00\n",
       "Newspaper Article                                 0.00\n",
       "X Education Forums                                0.00\n",
       "Newspaper                                         0.00\n",
       "Digital Advertisement                             0.00\n",
       "Through Recommendations                           0.00\n",
       "Receive More Updates About Our Courses            0.00\n",
       "Update me on Supply Chain Content                 0.00\n",
       "Get updates on DM Content                         0.00\n",
       "Lead Profile                                     29.32\n",
       "City                                              0.00\n",
       "I agree to pay the amount through cheque          0.00\n",
       "A free copy of Mastering The Interview            0.00\n",
       "Last Notable Activity                             0.00\n",
       "dtype: float64"
      ]
     },
     "execution_count": 32,
     "metadata": {},
     "output_type": "execute_result"
    }
   ],
   "source": [
    "round(100*inp0.isna().sum()/len(inp0),2)"
   ]
  },
  {
   "cell_type": "code",
   "execution_count": 33,
   "id": "81664897",
   "metadata": {},
   "outputs": [
    {
     "data": {
      "text/plain": [
       "Select                         4146\n",
       "NaN                            2709\n",
       "Potential Lead                 1613\n",
       "Other Leads                     487\n",
       "Student of SomeSchool           241\n",
       "Lateral Student                  24\n",
       "Dual Specialization Student      20\n",
       "Name: Lead Profile, dtype: int64"
      ]
     },
     "execution_count": 33,
     "metadata": {},
     "output_type": "execute_result"
    }
   ],
   "source": [
    "#checking value counts of City column\n",
    "inp0['Lead Profile'].value_counts(dropna=False)"
   ]
  },
  {
   "cell_type": "code",
   "execution_count": 34,
   "id": "b43d8ddd",
   "metadata": {},
   "outputs": [],
   "source": [
    "# Replacing null values in the 'Lead Profile' column with 'Not Specified' as this would make sense rather than imputing with mode value which would in way affect the analysis\n",
    "inp0['Lead Profile'].fillna('Not Specified', inplace = True)"
   ]
  },
  {
   "cell_type": "code",
   "execution_count": 35,
   "id": "bbaa8041",
   "metadata": {},
   "outputs": [
    {
     "data": {
      "text/plain": [
       "Google               2868\n",
       "Direct Traffic       2543\n",
       "Olark Chat           1755\n",
       "Organic Search       1154\n",
       "Reference             534\n",
       "Welingak Website      142\n",
       "Referral Sites        125\n",
       "Facebook               55\n",
       "NaN                    36\n",
       "bing                    6\n",
       "google                  5\n",
       "Click2call              4\n",
       "Press_Release           2\n",
       "Social Media            2\n",
       "Live Chat               2\n",
       "youtubechannel          1\n",
       "testone                 1\n",
       "Pay per Click Ads       1\n",
       "welearnblog_Home        1\n",
       "WeLearn                 1\n",
       "blog                    1\n",
       "NC_EDM                  1\n",
       "Name: Lead Source, dtype: int64"
      ]
     },
     "execution_count": 35,
     "metadata": {},
     "output_type": "execute_result"
    }
   ],
   "source": [
    "#checking value counts of Lead Source column\n",
    "inp0['Lead Source'].value_counts(dropna=False)"
   ]
  },
  {
   "cell_type": "code",
   "execution_count": 36,
   "id": "66910ef5",
   "metadata": {},
   "outputs": [],
   "source": [
    "#Replacing some of the columns others columns \n",
    "inp0['Lead Source'] = inp0['Lead Source'].replace(['bing','Click2call','Press_Release','youtubechannel','welearnblog_Home',\n",
    "                                                     'WeLearn','blog','Pay per Click Ads','testone','NC_EDM'] ,'Others')\n",
    "\n",
    "inp0['Lead Source'] = inp0['Lead Source'].replace('Facebook','Social Media')"
   ]
  },
  {
   "cell_type": "code",
   "execution_count": 37,
   "id": "6e518135",
   "metadata": {},
   "outputs": [
    {
     "data": {
      "text/plain": [
       "Google              2868\n",
       "Direct Traffic      2543\n",
       "Olark Chat          1755\n",
       "Organic Search      1154\n",
       "Reference            534\n",
       "Welingak Website     142\n",
       "Referral Sites       125\n",
       "Social Media          57\n",
       "NaN                   36\n",
       "Others                19\n",
       "google                 5\n",
       "Live Chat              2\n",
       "Name: Lead Source, dtype: int64"
      ]
     },
     "execution_count": 37,
     "metadata": {},
     "output_type": "execute_result"
    }
   ],
   "source": [
    "#checking value counts of Lead Source column\n",
    "inp0['Lead Source'].value_counts(dropna=False)"
   ]
  },
  {
   "cell_type": "code",
   "execution_count": 38,
   "id": "eac3db55",
   "metadata": {},
   "outputs": [],
   "source": [
    "inp0['Lead Source'].fillna('Others', inplace = True)"
   ]
  },
  {
   "cell_type": "code",
   "execution_count": 42,
   "id": "8f8f9c67",
   "metadata": {},
   "outputs": [
    {
     "data": {
      "text/plain": [
       "Email Opened                    3437\n",
       "SMS Sent                        2745\n",
       "Olark Chat Conversation          973\n",
       "Page Visited on Website          640\n",
       "Converted to Lead                428\n",
       "Email Bounced                    326\n",
       "Email Link Clicked               267\n",
       "Form Submitted on Website        116\n",
       "NaN                              103\n",
       "Unreachable                       93\n",
       "Unsubscribed                      61\n",
       "Had a Phone Conversation          30\n",
       "Approached upfront                 9\n",
       "View in browser link Clicked       6\n",
       "Email Received                     2\n",
       "Email Marked Spam                  2\n",
       "Visited Booth in Tradeshow         1\n",
       "Resubscribed to emails             1\n",
       "Name: Last Activity, dtype: int64"
      ]
     },
     "execution_count": 42,
     "metadata": {},
     "output_type": "execute_result"
    }
   ],
   "source": [
    "#checking value counts of Last Activity column\n",
    "inp0['Last Activity'].value_counts(dropna=False)"
   ]
  },
  {
   "cell_type": "code",
   "execution_count": 43,
   "id": "298e0edb",
   "metadata": {},
   "outputs": [],
   "source": [
    "#replacing some of the columns with of last activity with Others column name \n",
    "inp0['Last Activity'] = inp0['Last Activity'].replace(['Unreachable','Unsubscribed','Had a Phone Conversation','Approached upfront',\n",
    "                                                        'View in browser link Clicked', 'Email Marked Spam','Email Received','Resubscribed to emails',\n",
    "                                                         'Visited Booth in Tradeshow'],'Others')"
   ]
  },
  {
   "cell_type": "code",
   "execution_count": 45,
   "id": "dbaa2d29",
   "metadata": {},
   "outputs": [],
   "source": [
    "#Filling null values in Last Activity with Others column\n",
    "inp0['Last Activity'].fillna('Others', inplace = True)"
   ]
  },
  {
   "cell_type": "code",
   "execution_count": 46,
   "id": "2b03186d",
   "metadata": {},
   "outputs": [
    {
     "data": {
      "text/plain": [
       "Prospect ID                                      0.00\n",
       "Lead Number                                      0.00\n",
       "Lead Origin                                      0.00\n",
       "Lead Source                                      0.00\n",
       "Do Not Email                                     0.00\n",
       "Do Not Call                                      0.00\n",
       "Converted                                        0.00\n",
       "TotalVisits                                      1.48\n",
       "Total Time Spent on Website                      0.00\n",
       "Page Views Per Visit                             1.48\n",
       "Last Activity                                    0.00\n",
       "Specialization                                   0.00\n",
       "How did you hear about X Education               0.00\n",
       "What is your current occupation                  0.00\n",
       "What matters most to you in choosing a course    0.00\n",
       "Search                                           0.00\n",
       "Magazine                                         0.00\n",
       "Newspaper Article                                0.00\n",
       "X Education Forums                               0.00\n",
       "Newspaper                                        0.00\n",
       "Digital Advertisement                            0.00\n",
       "Through Recommendations                          0.00\n",
       "Receive More Updates About Our Courses           0.00\n",
       "Update me on Supply Chain Content                0.00\n",
       "Get updates on DM Content                        0.00\n",
       "Lead Profile                                     0.00\n",
       "City                                             0.00\n",
       "I agree to pay the amount through cheque         0.00\n",
       "A free copy of Mastering The Interview           0.00\n",
       "Last Notable Activity                            0.00\n",
       "dtype: float64"
      ]
     },
     "execution_count": 46,
     "metadata": {},
     "output_type": "execute_result"
    }
   ],
   "source": [
    "round(100*inp0.isna().sum()/len(inp0),2)"
   ]
  },
  {
   "cell_type": "code",
   "execution_count": 48,
   "id": "0decd90c",
   "metadata": {},
   "outputs": [],
   "source": [
    "#Imputing Total Visits values with Median as it is contionous variable\n",
    "med = inp0['TotalVisits'].median()\n",
    "inp0['TotalVisits'].replace(np.NaN, med, inplace =True)"
   ]
  },
  {
   "cell_type": "code",
   "execution_count": 49,
   "id": "8a411a9c",
   "metadata": {},
   "outputs": [
    {
     "data": {
      "text/plain": [
       "count    9103.000000\n",
       "mean        2.362820\n",
       "std         2.161418\n",
       "min         0.000000\n",
       "25%         1.000000\n",
       "50%         2.000000\n",
       "75%         3.000000\n",
       "max        55.000000\n",
       "Name: Page Views Per Visit, dtype: float64"
      ]
     },
     "execution_count": 49,
     "metadata": {},
     "output_type": "execute_result"
    }
   ],
   "source": [
    "#Checking the stat for 'Page Views Per Visit' column to validate which one to use for imputing as mean and median can be used \n",
    "#since it is continous variable and here for this column both the values are similar so we can use median \n",
    "inp0['Page Views Per Visit'].describe()"
   ]
  },
  {
   "cell_type": "code",
   "execution_count": 50,
   "id": "6817192a",
   "metadata": {},
   "outputs": [],
   "source": [
    "#Imputing Page Views Per Visit values with Median as it is contionous variable\n",
    "med_page = inp0['Page Views Per Visit'].median()\n",
    "inp0['Page Views Per Visit'].replace(np.NaN, med_page, inplace =True)"
   ]
  },
  {
   "cell_type": "code",
   "execution_count": 51,
   "id": "7fcbe7a5",
   "metadata": {},
   "outputs": [
    {
     "data": {
      "text/plain": [
       "Prospect ID                                      0.0\n",
       "Lead Number                                      0.0\n",
       "Lead Origin                                      0.0\n",
       "Lead Source                                      0.0\n",
       "Do Not Email                                     0.0\n",
       "Do Not Call                                      0.0\n",
       "Converted                                        0.0\n",
       "TotalVisits                                      0.0\n",
       "Total Time Spent on Website                      0.0\n",
       "Page Views Per Visit                             0.0\n",
       "Last Activity                                    0.0\n",
       "Specialization                                   0.0\n",
       "How did you hear about X Education               0.0\n",
       "What is your current occupation                  0.0\n",
       "What matters most to you in choosing a course    0.0\n",
       "Search                                           0.0\n",
       "Magazine                                         0.0\n",
       "Newspaper Article                                0.0\n",
       "X Education Forums                               0.0\n",
       "Newspaper                                        0.0\n",
       "Digital Advertisement                            0.0\n",
       "Through Recommendations                          0.0\n",
       "Receive More Updates About Our Courses           0.0\n",
       "Update me on Supply Chain Content                0.0\n",
       "Get updates on DM Content                        0.0\n",
       "Lead Profile                                     0.0\n",
       "City                                             0.0\n",
       "I agree to pay the amount through cheque         0.0\n",
       "A free copy of Mastering The Interview           0.0\n",
       "Last Notable Activity                            0.0\n",
       "dtype: float64"
      ]
     },
     "execution_count": 51,
     "metadata": {},
     "output_type": "execute_result"
    }
   ],
   "source": [
    "round(100*inp0.isna().sum()/len(inp0),2)"
   ]
  },
  {
   "cell_type": "markdown",
   "id": "ee2b5fb3",
   "metadata": {},
   "source": [
    "##### We can see the missing value percenatge for all column is 0 hence we have treated missing values  "
   ]
  },
  {
   "cell_type": "markdown",
   "id": "b7cecd77",
   "metadata": {},
   "source": [
    "### EDA\n",
    " ##### Visualization \n",
    " \n",
    " - Univariate analysis \n",
    " - Multivariate analysis \n",
    " - Outlier treatment "
   ]
  },
  {
   "cell_type": "code",
   "execution_count": 52,
   "id": "93487fc5",
   "metadata": {},
   "outputs": [
    {
     "name": "stdout",
     "output_type": "stream",
     "text": [
      "<class 'pandas.core.frame.DataFrame'>\n",
      "RangeIndex: 9240 entries, 0 to 9239\n",
      "Data columns (total 30 columns):\n",
      " #   Column                                         Non-Null Count  Dtype  \n",
      "---  ------                                         --------------  -----  \n",
      " 0   Prospect ID                                    9240 non-null   object \n",
      " 1   Lead Number                                    9240 non-null   int64  \n",
      " 2   Lead Origin                                    9240 non-null   object \n",
      " 3   Lead Source                                    9240 non-null   object \n",
      " 4   Do Not Email                                   9240 non-null   object \n",
      " 5   Do Not Call                                    9240 non-null   object \n",
      " 6   Converted                                      9240 non-null   int64  \n",
      " 7   TotalVisits                                    9240 non-null   float64\n",
      " 8   Total Time Spent on Website                    9240 non-null   int64  \n",
      " 9   Page Views Per Visit                           9240 non-null   float64\n",
      " 10  Last Activity                                  9240 non-null   object \n",
      " 11  Specialization                                 9240 non-null   object \n",
      " 12  How did you hear about X Education             9240 non-null   object \n",
      " 13  What is your current occupation                9240 non-null   object \n",
      " 14  What matters most to you in choosing a course  9240 non-null   object \n",
      " 15  Search                                         9240 non-null   object \n",
      " 16  Magazine                                       9240 non-null   object \n",
      " 17  Newspaper Article                              9240 non-null   object \n",
      " 18  X Education Forums                             9240 non-null   object \n",
      " 19  Newspaper                                      9240 non-null   object \n",
      " 20  Digital Advertisement                          9240 non-null   object \n",
      " 21  Through Recommendations                        9240 non-null   object \n",
      " 22  Receive More Updates About Our Courses         9240 non-null   object \n",
      " 23  Update me on Supply Chain Content              9240 non-null   object \n",
      " 24  Get updates on DM Content                      9240 non-null   object \n",
      " 25  Lead Profile                                   9240 non-null   object \n",
      " 26  City                                           9240 non-null   object \n",
      " 27  I agree to pay the amount through cheque       9240 non-null   object \n",
      " 28  A free copy of Mastering The Interview         9240 non-null   object \n",
      " 29  Last Notable Activity                          9240 non-null   object \n",
      "dtypes: float64(2), int64(3), object(25)\n",
      "memory usage: 2.1+ MB\n"
     ]
    }
   ],
   "source": [
    "inp0.info()"
   ]
  },
  {
   "cell_type": "markdown",
   "id": "7d2ec5cd",
   "metadata": {},
   "source": [
    "###### Univariate Analysis  "
   ]
  },
  {
   "cell_type": "code",
   "execution_count": 55,
   "id": "f95069ed",
   "metadata": {},
   "outputs": [
    {
     "data": {
      "image/png": "[encoded data removed]",
      "text/plain": [
       "<Figure size 432x288 with 1 Axes>"
      ]
     },
     "metadata": {
      "needs_background": "light"
     },
     "output_type": "display_data"
    }
   ],
   "source": [
    "#plot the bar graph of percentage Lead Origin\n",
    "inp0['Lead Origin'].value_counts(normalize=True).plot.barh()\n",
    "plt.show()"
   ]
  },
  {
   "cell_type": "code",
   "execution_count": 57,
   "id": "083dde79",
   "metadata": {},
   "outputs": [
    {
     "data": {
      "text/plain": [
       "Landing Page Submission    4886\n",
       "API                        3580\n",
       "Lead Add Form               718\n",
       "Lead Import                  55\n",
       "Quick Add Form                1\n",
       "Name: Lead Origin, dtype: int64"
      ]
     },
     "execution_count": 57,
     "metadata": {},
     "output_type": "execute_result"
    }
   ],
   "source": [
    "inp0['Lead Origin'].value_counts(dropna=False)"
   ]
  },
  {
   "cell_type": "markdown",
   "id": "41e77d04",
   "metadata": {},
   "source": [
    "###### Landing Page Submission has highest % of lead origin  "
   ]
  },
  {
   "cell_type": "code",
   "execution_count": 58,
   "id": "cb85aa0b",
   "metadata": {},
   "outputs": [
    {
     "data": {
      "image/png": "[encoded data removed]",
      "text/plain": [
       "<Figure size 432x288 with 1 Axes>"
      ]
     },
     "metadata": {
      "needs_background": "light"
     },
     "output_type": "display_data"
    }
   ],
   "source": [
    "#plot the bar graph of percentage Lead Source\n",
    "inp0['Lead Source'].value_counts(normalize=True).plot.barh()\n",
    "plt.show()"
   ]
  },
  {
   "cell_type": "markdown",
   "id": "909403ae",
   "metadata": {},
   "source": [
    "######   Leads have been sourced lot through google search "
   ]
  },
  {
   "cell_type": "code",
   "execution_count": 59,
   "id": "17526207",
   "metadata": {},
   "outputs": [
    {
     "data": {
      "image/png": "[encoded data removed]",
      "text/plain": [
       "<Figure size 432x288 with 1 Axes>"
      ]
     },
     "metadata": {
      "needs_background": "light"
     },
     "output_type": "display_data"
    }
   ],
   "source": [
    "#plot the bar graph of percentage Do Not Email\n",
    "inp0['Do Not Email'].value_counts(normalize=True).plot.barh()\n",
    "plt.show()"
   ]
  },
  {
   "cell_type": "code",
   "execution_count": 70,
   "id": "fc791c28",
   "metadata": {},
   "outputs": [
    {
     "data": {
      "image/png": "[encoded data removed]",
      "text/plain": [
       "<Figure size 432x288 with 1 Axes>"
      ]
     },
     "metadata": {
      "needs_background": "light"
     },
     "output_type": "display_data"
    }
   ],
   "source": [
    "#plot the bar graph of percentage Do Not Email\n",
    "inp0['Do Not Call'].value_counts(normalize=True).plot.barh()\n",
    "plt.show()"
   ]
  },
  {
   "cell_type": "markdown",
   "id": "42bb396f",
   "metadata": {},
   "source": [
    "###### -  This column can be dropped as this does not have More number of Yes which immablances the analysis  "
   ]
  },
  {
   "cell_type": "code",
   "execution_count": 71,
   "id": "4e50bcfd",
   "metadata": {},
   "outputs": [],
   "source": [
    "inp0.drop('Do Not Call', 1, inplace = True)"
   ]
  },
  {
   "cell_type": "markdown",
   "id": "7982f3d4",
   "metadata": {},
   "source": [
    "###### 90% of the customer does not want to be emailed about course  "
   ]
  },
  {
   "cell_type": "code",
   "execution_count": 74,
   "id": "fdb685e4",
   "metadata": {},
   "outputs": [
    {
     "data": {
      "image/png": "[encoded data removed]",
      "text/plain": [
       "<Figure size 432x288 with 1 Axes>"
      ]
     },
     "metadata": {
      "needs_background": "light"
     },
     "output_type": "display_data"
    }
   ],
   "source": [
    "#plot the bar graph of percentage Do Not Email\n",
    "inp0['What matters most to you in choosing a course'].value_counts(normalize=True).plot.barh()\n",
    "plt.show()"
   ]
  },
  {
   "cell_type": "code",
   "execution_count": 60,
   "id": "73db6b2a",
   "metadata": {},
   "outputs": [
    {
     "data": {
      "image/png": "[encoded data removed]",
      "text/plain": [
       "<Figure size 432x288 with 1 Axes>"
      ]
     },
     "metadata": {
      "needs_background": "light"
     },
     "output_type": "display_data"
    }
   ],
   "source": [
    "#plot the bar graph of percentage Digital Advertisement\n",
    "inp0['Digital Advertisement'].value_counts(normalize=True).plot.barh()\n",
    "plt.show()"
   ]
  },
  {
   "cell_type": "markdown",
   "id": "96afb20a",
   "metadata": {},
   "source": [
    "###### No any customer had seen any digital advertisement regarding the  course "
   ]
  },
  {
   "cell_type": "code",
   "execution_count": 75,
   "id": "14f5fe85",
   "metadata": {},
   "outputs": [
    {
     "data": {
      "image/png": "[encoded data removed]",
      "text/plain": [
       "<Figure size 432x288 with 1 Axes>"
      ]
     },
     "metadata": {
      "needs_background": "light"
     },
     "output_type": "display_data"
    }
   ],
   "source": [
    "#plot the bar graph of percentage Search\n",
    "inp0['Search'].value_counts(normalize=True).plot.barh()\n",
    "plt.show()"
   ]
  },
  {
   "cell_type": "markdown",
   "id": "32704585",
   "metadata": {},
   "source": [
    "###### This column can be dropped as it has only Yes value  "
   ]
  },
  {
   "cell_type": "code",
   "execution_count": 76,
   "id": "fa2984e1",
   "metadata": {},
   "outputs": [],
   "source": [
    "inp0.drop('Search', 1, inplace = True)"
   ]
  },
  {
   "cell_type": "code",
   "execution_count": 77,
   "id": "ef1362f4",
   "metadata": {},
   "outputs": [
    {
     "data": {
      "image/png": "[encoded data removed]",
      "text/plain": [
       "<Figure size 432x288 with 1 Axes>"
      ]
     },
     "metadata": {
      "needs_background": "light"
     },
     "output_type": "display_data"
    }
   ],
   "source": [
    "#plot the bar graph of percentage Newspaper Article\n",
    "inp0['Newspaper Article'].value_counts(normalize=True).plot.barh()\n",
    "plt.show()"
   ]
  },
  {
   "cell_type": "markdown",
   "id": "5024f70d",
   "metadata": {},
   "source": [
    "###### This column can be dropped as It has only No value "
   ]
  },
  {
   "cell_type": "code",
   "execution_count": 78,
   "id": "91d877c5",
   "metadata": {},
   "outputs": [],
   "source": [
    "inp0.drop('Newspaper Article', 1, inplace = True)"
   ]
  },
  {
   "cell_type": "code",
   "execution_count": 79,
   "id": "17856587",
   "metadata": {},
   "outputs": [
    {
     "data": {
      "image/png": "[encoded data removed]",
      "text/plain": [
       "<Figure size 432x288 with 1 Axes>"
      ]
     },
     "metadata": {
      "needs_background": "light"
     },
     "output_type": "display_data"
    }
   ],
   "source": [
    "#plot the bar graph of percentage X Education Forums\n",
    "inp0['X Education Forums'].value_counts(normalize=True).plot.barh()\n",
    "plt.show()"
   ]
  },
  {
   "cell_type": "markdown",
   "id": "6054d0c0",
   "metadata": {},
   "source": [
    "###### This column can be dropped as it has only No Values "
   ]
  },
  {
   "cell_type": "code",
   "execution_count": 80,
   "id": "4eb832dc",
   "metadata": {},
   "outputs": [],
   "source": [
    "inp0.drop('X Education Forums', 1, inplace = True)"
   ]
  },
  {
   "cell_type": "code",
   "execution_count": 81,
   "id": "065bfaa4",
   "metadata": {},
   "outputs": [
    {
     "data": {
      "image/png": "[encoded data removed]",
      "text/plain": [
       "<Figure size 432x288 with 1 Axes>"
      ]
     },
     "metadata": {
      "needs_background": "light"
     },
     "output_type": "display_data"
    }
   ],
   "source": [
    "#plot the bar graph of percentage Magazine\n",
    "inp0['Magazine'].value_counts(normalize=True).plot.barh()\n",
    "plt.show()"
   ]
  },
  {
   "cell_type": "markdown",
   "id": "54afbaff",
   "metadata": {},
   "source": [
    "###### This column can be dropped as it has only no values in it  "
   ]
  },
  {
   "cell_type": "code",
   "execution_count": 82,
   "id": "8f76b661",
   "metadata": {},
   "outputs": [],
   "source": [
    "inp0.drop('Magazine', 1, inplace = True)"
   ]
  },
  {
   "cell_type": "code",
   "execution_count": 83,
   "id": "ce8aa91f",
   "metadata": {},
   "outputs": [
    {
     "data": {
      "image/png": "[encoded data removed]",
      "text/plain": [
       "<Figure size 432x288 with 1 Axes>"
      ]
     },
     "metadata": {
      "needs_background": "light"
     },
     "output_type": "display_data"
    }
   ],
   "source": [
    "#plot the bar graph of percentage Digital Advertisement\n",
    "inp0['Digital Advertisement'].value_counts(normalize=True).plot.barh()\n",
    "plt.show()"
   ]
  },
  {
   "cell_type": "markdown",
   "id": "6372b7cc",
   "metadata": {},
   "source": [
    "###### This column can be dropped as it has only No values in it "
   ]
  },
  {
   "cell_type": "code",
   "execution_count": 84,
   "id": "0bed8133",
   "metadata": {},
   "outputs": [],
   "source": [
    "inp0.drop('Digital Advertisement', 1, inplace = True)"
   ]
  },
  {
   "cell_type": "code",
   "execution_count": 85,
   "id": "53ae4e87",
   "metadata": {},
   "outputs": [
    {
     "data": {
      "image/png": "[encoded data removed]",
      "text/plain": [
       "<Figure size 432x288 with 1 Axes>"
      ]
     },
     "metadata": {
      "needs_background": "light"
     },
     "output_type": "display_data"
    }
   ],
   "source": [
    "#plot the bar graph of percentage Through Recommendations\n",
    "inp0['Through Recommendations'].value_counts(normalize=True).plot.barh()\n",
    "plt.show()"
   ]
  },
  {
   "cell_type": "markdown",
   "id": "0b180820",
   "metadata": {},
   "source": [
    "###### This column can be dropped as it has only No Values in it "
   ]
  },
  {
   "cell_type": "code",
   "execution_count": 86,
   "id": "b8106520",
   "metadata": {},
   "outputs": [],
   "source": [
    "inp0.drop('Through Recommendations', 1, inplace = True)"
   ]
  },
  {
   "cell_type": "code",
   "execution_count": 87,
   "id": "a633b0ed",
   "metadata": {},
   "outputs": [
    {
     "data": {
      "image/png": "[encoded data removed]",
      "text/plain": [
       "<Figure size 432x288 with 1 Axes>"
      ]
     },
     "metadata": {
      "needs_background": "light"
     },
     "output_type": "display_data"
    }
   ],
   "source": [
    "#plot the bar graph of percentage Newspaper\n",
    "inp0['Newspaper'].value_counts(normalize=True).plot.barh()\n",
    "plt.show()"
   ]
  },
  {
   "cell_type": "markdown",
   "id": "2358030d",
   "metadata": {},
   "source": [
    "###### This column can be dropped as it has only No Values in it  "
   ]
  },
  {
   "cell_type": "code",
   "execution_count": 88,
   "id": "219275d6",
   "metadata": {},
   "outputs": [],
   "source": [
    "inp0.drop('Newspaper', 1, inplace = True)"
   ]
  },
  {
   "cell_type": "code",
   "execution_count": 89,
   "id": "e1560d4d",
   "metadata": {},
   "outputs": [
    {
     "data": {
      "image/png": "[encoded data removed]",
      "text/plain": [
       "<Figure size 432x288 with 1 Axes>"
      ]
     },
     "metadata": {
      "needs_background": "light"
     },
     "output_type": "display_data"
    }
   ],
   "source": [
    "#plot the bar graph of percentage Receive More Updates About Our Courses\n",
    "inp0['Receive More Updates About Our Courses'].value_counts(normalize=True).plot.barh()\n",
    "plt.show()"
   ]
  },
  {
   "cell_type": "markdown",
   "id": "fa67ecbd",
   "metadata": {},
   "source": [
    "###### This column can be dropped as it has only No Values In it  "
   ]
  },
  {
   "cell_type": "code",
   "execution_count": 90,
   "id": "c9f52138",
   "metadata": {},
   "outputs": [],
   "source": [
    "inp0.drop('Receive More Updates About Our Courses', 1, inplace = True)"
   ]
  },
  {
   "cell_type": "code",
   "execution_count": 91,
   "id": "059a4bae",
   "metadata": {},
   "outputs": [
    {
     "data": {
      "image/png": "[encoded data removed]",
      "text/plain": [
       "<Figure size 432x288 with 1 Axes>"
      ]
     },
     "metadata": {
      "needs_background": "light"
     },
     "output_type": "display_data"
    }
   ],
   "source": [
    "#plot the bar graph of percentage  on Update me on Supply Chain Content\n",
    "inp0['Update me on Supply Chain Content'].value_counts(normalize=True).plot.barh()\n",
    "plt.show()"
   ]
  },
  {
   "cell_type": "markdown",
   "id": "f0776be5",
   "metadata": {},
   "source": [
    "###### This column can be dropped since it has only No Values in it and not much useful in analysis  "
   ]
  },
  {
   "cell_type": "code",
   "execution_count": 92,
   "id": "f43b91f9",
   "metadata": {},
   "outputs": [],
   "source": [
    "inp0.drop('Update me on Supply Chain Content', 1, inplace = True)"
   ]
  },
  {
   "cell_type": "code",
   "execution_count": 93,
   "id": "ee2760c6",
   "metadata": {},
   "outputs": [
    {
     "data": {
      "image/png": "[encoded data removed]",
      "text/plain": [
       "<Figure size 432x288 with 1 Axes>"
      ]
     },
     "metadata": {
      "needs_background": "light"
     },
     "output_type": "display_data"
    }
   ],
   "source": [
    "#plot the bar graph of percentage on Get updates on DM Content\n",
    "inp0['Get updates on DM Content'].value_counts(normalize=True).plot.barh()\n",
    "plt.show()"
   ]
  },
  {
   "cell_type": "markdown",
   "id": "958d8e8a",
   "metadata": {},
   "source": [
    "###### This column can be dropped as it has only no values in it "
   ]
  },
  {
   "cell_type": "code",
   "execution_count": 94,
   "id": "423807e9",
   "metadata": {},
   "outputs": [],
   "source": [
    "inp0.drop('Get updates on DM Content', 1, inplace = True)"
   ]
  },
  {
   "cell_type": "code",
   "execution_count": 95,
   "id": "b9e9034e",
   "metadata": {},
   "outputs": [
    {
     "data": {
      "image/png": "[encoded data removed]",
      "text/plain": [
       "<Figure size 432x288 with 1 Axes>"
      ]
     },
     "metadata": {
      "needs_background": "light"
     },
     "output_type": "display_data"
    }
   ],
   "source": [
    "#plot the bar graph of percentage on I agree to pay the amount through cheque\n",
    "inp0['I agree to pay the amount through cheque'].value_counts(normalize=True).plot.barh()\n",
    "plt.show()"
   ]
  },
  {
   "cell_type": "markdown",
   "id": "ed905adb",
   "metadata": {},
   "source": [
    "###### This column can be dropped as it has only No Values in it  "
   ]
  },
  {
   "cell_type": "code",
   "execution_count": 96,
   "id": "4d34ab7d",
   "metadata": {},
   "outputs": [],
   "source": [
    "inp0.drop('I agree to pay the amount through cheque', 1, inplace = True)"
   ]
  },
  {
   "cell_type": "code",
   "execution_count": 97,
   "id": "80e56238",
   "metadata": {},
   "outputs": [
    {
     "name": "stdout",
     "output_type": "stream",
     "text": [
      "<class 'pandas.core.frame.DataFrame'>\n",
      "RangeIndex: 9240 entries, 0 to 9239\n",
      "Data columns (total 18 columns):\n",
      " #   Column                                         Non-Null Count  Dtype  \n",
      "---  ------                                         --------------  -----  \n",
      " 0   Prospect ID                                    9240 non-null   object \n",
      " 1   Lead Number                                    9240 non-null   int64  \n",
      " 2   Lead Origin                                    9240 non-null   object \n",
      " 3   Lead Source                                    9240 non-null   object \n",
      " 4   Do Not Email                                   9240 non-null   object \n",
      " 5   Converted                                      9240 non-null   int64  \n",
      " 6   TotalVisits                                    9240 non-null   float64\n",
      " 7   Total Time Spent on Website                    9240 non-null   int64  \n",
      " 8   Page Views Per Visit                           9240 non-null   float64\n",
      " 9   Last Activity                                  9240 non-null   object \n",
      " 10  Specialization                                 9240 non-null   object \n",
      " 11  How did you hear about X Education             9240 non-null   object \n",
      " 12  What is your current occupation                9240 non-null   object \n",
      " 13  What matters most to you in choosing a course  9240 non-null   object \n",
      " 14  Lead Profile                                   9240 non-null   object \n",
      " 15  City                                           9240 non-null   object \n",
      " 16  A free copy of Mastering The Interview         9240 non-null   object \n",
      " 17  Last Notable Activity                          9240 non-null   object \n",
      "dtypes: float64(2), int64(3), object(13)\n",
      "memory usage: 1.3+ MB\n"
     ]
    }
   ],
   "source": [
    "inp0.info()"
   ]
  },
  {
   "cell_type": "code",
   "execution_count": 61,
   "id": "752338f3",
   "metadata": {},
   "outputs": [
    {
     "data": {
      "image/png": "[encoded data removed]",
      "text/plain": [
       "<Figure size 432x288 with 1 Axes>"
      ]
     },
     "metadata": {
      "needs_background": "light"
     },
     "output_type": "display_data"
    }
   ],
   "source": [
    "#plot the bar graph of percentage Specialization\n",
    "inp0['Specialization'].value_counts(normalize=True).plot.barh()\n",
    "plt.show()"
   ]
  },
  {
   "cell_type": "markdown",
   "id": "5fdd265d",
   "metadata": {},
   "source": [
    "###### Most of the customers had not selected any specialisation in which specialisation before they had worked while filling forms  \n",
    "###### Around 15% customers have not mentioned any  specialization\n",
    "###### Among the specializations mentioned by customers , more number of customers were working in finance management "
   ]
  },
  {
   "cell_type": "code",
   "execution_count": 62,
   "id": "4cc917a5",
   "metadata": {},
   "outputs": [
    {
     "data": {
      "image/png": "[encoded data removed]",
      "text/plain": [
       "<Figure size 432x288 with 1 Axes>"
      ]
     },
     "metadata": {
      "needs_background": "light"
     },
     "output_type": "display_data"
    }
   ],
   "source": [
    "#plot the bar graph of percentage 'What is your current occupation'\n",
    "inp0['What is your current occupation'].value_counts(normalize=True).plot.barh()\n",
    "plt.show()"
   ]
  },
  {
   "cell_type": "markdown",
   "id": "0215131b",
   "metadata": {},
   "source": [
    "###### Most number of the customers are un employment while applying for the course "
   ]
  },
  {
   "cell_type": "code",
   "execution_count": 63,
   "id": "36203a29",
   "metadata": {},
   "outputs": [
    {
     "data": {
      "image/png": "[encoded data removed]",
      "text/plain": [
       "<Figure size 432x288 with 1 Axes>"
      ]
     },
     "metadata": {
      "needs_background": "light"
     },
     "output_type": "display_data"
    }
   ],
   "source": [
    "#plot the bar graph of percentage 'Lead Profile'\n",
    "inp0['Lead Profile'].value_counts(normalize=True).plot.barh()\n",
    "plt.show()"
   ]
  },
  {
   "cell_type": "markdown",
   "id": "3b325af9",
   "metadata": {},
   "source": [
    "###### Most of the customers have not selected profile while filling out form  "
   ]
  },
  {
   "cell_type": "markdown",
   "id": "66bb9cd1",
   "metadata": {},
   "source": [
    "###### Multi Variate Analysis  "
   ]
  },
  {
   "cell_type": "code",
   "execution_count": 67,
   "id": "eb86ed29",
   "metadata": {},
   "outputs": [
    {
     "data": {
      "image/png": "[encoded data removed]",
      "text/plain": [
       "<Figure size 576x360 with 1 Axes>"
      ]
     },
     "metadata": {
      "needs_background": "light"
     },
     "output_type": "display_data"
    }
   ],
   "source": [
    "#multivariate analysis of converted and Lead Origin\n",
    "plt.figure(figsize=(8,5))\n",
    "s_1=sns.countplot(inp0['Lead Origin'], hue=inp0.Converted)\n",
    "s_1.set_xticklabels(s_1.get_xticklabels(),rotation=270)\n",
    "plt.show()"
   ]
  },
  {
   "cell_type": "markdown",
   "id": "ff01cd10",
   "metadata": {},
   "source": [
    "###### - Quick Add Form has only one count \n",
    "###### - API and Landing Page Submission lead origins have very less conversion rate \n",
    "###### - Lead Add Form origin has higher conversion rate of lead "
   ]
  },
  {
   "cell_type": "code",
   "execution_count": 72,
   "id": "76c3af2d",
   "metadata": {},
   "outputs": [
    {
     "data": {
      "image/png": "[encoded data removed]",
      "text/plain": [
       "<Figure size 432x288 with 1 Axes>"
      ]
     },
     "metadata": {
      "needs_background": "light"
     },
     "output_type": "display_data"
    }
   ],
   "source": [
    "##visualizing count of Do Not Email based on Converted value\n",
    "ax2=sns.countplot(inp0['Do Not Email'], hue=inp0.Converted)\n",
    "ax2.set_xticklabels(ax2.get_xticklabels(),rotation=90)\n",
    "plt.show()"
   ]
  },
  {
   "cell_type": "markdown",
   "id": "9dc18af2",
   "metadata": {},
   "source": [
    "######  - Customers who does not want to be notified through Email have higher conversion rate than customers who does not want to be notified through call which was dropped alreday"
   ]
  },
  {
   "cell_type": "markdown",
   "id": "dc5454a5",
   "metadata": {},
   "source": [
    "###### Outlier Treatment  "
   ]
  },
  {
   "cell_type": "code",
   "execution_count": 98,
   "id": "8ace083f",
   "metadata": {},
   "outputs": [
    {
     "data": {
      "text/html": [
       "<div>\n",
       "<style scoped>\n",
       "    .dataframe tbody tr th:only-of-type {\n",
       "        vertical-align: middle;\n",
       "    }\n",
       "\n",
       "    .dataframe tbody tr th {\n",
       "        vertical-align: top;\n",
       "    }\n",
       "\n",
       "    .dataframe thead th {\n",
       "        text-align: right;\n",
       "    }\n",
       "</style>\n",
       "<table border=\"1\" class=\"dataframe\">\n",
       "  <thead>\n",
       "    <tr style=\"text-align: right;\">\n",
       "      <th></th>\n",
       "      <th>Lead Number</th>\n",
       "      <th>Converted</th>\n",
       "      <th>TotalVisits</th>\n",
       "      <th>Total Time Spent on Website</th>\n",
       "      <th>Page Views Per Visit</th>\n",
       "    </tr>\n",
       "  </thead>\n",
       "  <tbody>\n",
       "    <tr>\n",
       "      <th>count</th>\n",
       "      <td>9240.000000</td>\n",
       "      <td>9240.000000</td>\n",
       "      <td>9240.000000</td>\n",
       "      <td>9240.000000</td>\n",
       "      <td>9240.000000</td>\n",
       "    </tr>\n",
       "    <tr>\n",
       "      <th>mean</th>\n",
       "      <td>617188.435606</td>\n",
       "      <td>0.385390</td>\n",
       "      <td>3.438636</td>\n",
       "      <td>487.698268</td>\n",
       "      <td>2.357440</td>\n",
       "    </tr>\n",
       "    <tr>\n",
       "      <th>std</th>\n",
       "      <td>23405.995698</td>\n",
       "      <td>0.486714</td>\n",
       "      <td>4.819024</td>\n",
       "      <td>548.021466</td>\n",
       "      <td>2.145781</td>\n",
       "    </tr>\n",
       "    <tr>\n",
       "      <th>min</th>\n",
       "      <td>579533.000000</td>\n",
       "      <td>0.000000</td>\n",
       "      <td>0.000000</td>\n",
       "      <td>0.000000</td>\n",
       "      <td>0.000000</td>\n",
       "    </tr>\n",
       "    <tr>\n",
       "      <th>25%</th>\n",
       "      <td>596484.500000</td>\n",
       "      <td>0.000000</td>\n",
       "      <td>1.000000</td>\n",
       "      <td>12.000000</td>\n",
       "      <td>1.000000</td>\n",
       "    </tr>\n",
       "    <tr>\n",
       "      <th>50%</th>\n",
       "      <td>615479.000000</td>\n",
       "      <td>0.000000</td>\n",
       "      <td>3.000000</td>\n",
       "      <td>248.000000</td>\n",
       "      <td>2.000000</td>\n",
       "    </tr>\n",
       "    <tr>\n",
       "      <th>75%</th>\n",
       "      <td>637387.250000</td>\n",
       "      <td>1.000000</td>\n",
       "      <td>5.000000</td>\n",
       "      <td>936.000000</td>\n",
       "      <td>3.000000</td>\n",
       "    </tr>\n",
       "    <tr>\n",
       "      <th>max</th>\n",
       "      <td>660737.000000</td>\n",
       "      <td>1.000000</td>\n",
       "      <td>251.000000</td>\n",
       "      <td>2272.000000</td>\n",
       "      <td>55.000000</td>\n",
       "    </tr>\n",
       "  </tbody>\n",
       "</table>\n",
       "</div>"
      ],
      "text/plain": [
       "         Lead Number    Converted  TotalVisits  Total Time Spent on Website  \\\n",
       "count    9240.000000  9240.000000  9240.000000                  9240.000000   \n",
       "mean   617188.435606     0.385390     3.438636                   487.698268   \n",
       "std     23405.995698     0.486714     4.819024                   548.021466   \n",
       "min    579533.000000     0.000000     0.000000                     0.000000   \n",
       "25%    596484.500000     0.000000     1.000000                    12.000000   \n",
       "50%    615479.000000     0.000000     3.000000                   248.000000   \n",
       "75%    637387.250000     1.000000     5.000000                   936.000000   \n",
       "max    660737.000000     1.000000   251.000000                  2272.000000   \n",
       "\n",
       "       Page Views Per Visit  \n",
       "count           9240.000000  \n",
       "mean               2.357440  \n",
       "std                2.145781  \n",
       "min                0.000000  \n",
       "25%                1.000000  \n",
       "50%                2.000000  \n",
       "75%                3.000000  \n",
       "max               55.000000  "
      ]
     },
     "execution_count": 98,
     "metadata": {},
     "output_type": "execute_result"
    }
   ],
   "source": [
    "#Knowing which variable has more outliers \n",
    "inp0.describe()"
   ]
  },
  {
   "cell_type": "code",
   "execution_count": 99,
   "id": "a3918a44",
   "metadata": {},
   "outputs": [
    {
     "data": {
      "text/plain": [
       "count    9240.000000\n",
       "mean        3.438636\n",
       "std         4.819024\n",
       "min         0.000000\n",
       "5%          0.000000\n",
       "25%         1.000000\n",
       "50%         3.000000\n",
       "75%         5.000000\n",
       "90%         7.000000\n",
       "95%        10.000000\n",
       "99%        17.000000\n",
       "max       251.000000\n",
       "Name: TotalVisits, dtype: float64"
      ]
     },
     "execution_count": 99,
     "metadata": {},
     "output_type": "execute_result"
    }
   ],
   "source": [
    "#TotalVisits has more Outliers \n",
    "inp0['TotalVisits'].describe(percentiles=[0.05,.25, .5, .75, .90, .95, .99])"
   ]
  },
  {
   "cell_type": "code",
   "execution_count": 101,
   "id": "ba409d31",
   "metadata": {},
   "outputs": [
    {
     "data": {
      "image/png": "[encoded data removed]",
      "text/plain": [
       "<Figure size 432x288 with 1 Axes>"
      ]
     },
     "metadata": {
      "needs_background": "light"
     },
     "output_type": "display_data"
    }
   ],
   "source": [
    "# Box plot visualisation to know the spread of variable \n",
    "plt.figure(figsize=(6,4))\n",
    "sns.boxplot(y=inp0['TotalVisits'])\n",
    "plt.show()"
   ]
  },
  {
   "cell_type": "code",
   "execution_count": 103,
   "id": "9ac1c9d4",
   "metadata": {},
   "outputs": [
    {
     "data": {
      "image/png": "[encoded data removed]",
      "text/plain": [
       "<Figure size 432x288 with 1 Axes>"
      ]
     },
     "metadata": {
      "needs_background": "light"
     },
     "output_type": "display_data"
    }
   ],
   "source": [
    "# Removing top and bottom 2% values of the outlier column for outlier treatment \n",
    "Q3 = inp0.TotalVisits.quantile(0.98)\n",
    "inp0 = inp0[(inp0.TotalVisits <= Q3)]\n",
    "Q1 = inp0.TotalVisits.quantile(0.02)\n",
    "inp0 = inp0[(inp0.TotalVisits >= Q1)]\n",
    "sns.boxplot(y=inp0['TotalVisits'])\n",
    "plt.show()"
   ]
  },
  {
   "cell_type": "code",
   "execution_count": 104,
   "id": "a357248a",
   "metadata": {},
   "outputs": [
    {
     "data": {
      "text/plain": [
       "count    9066.000000\n",
       "mean        2.298612\n",
       "std         1.979081\n",
       "min         0.000000\n",
       "5%          0.000000\n",
       "25%         1.000000\n",
       "50%         2.000000\n",
       "75%         3.000000\n",
       "90%         5.000000\n",
       "95%         6.000000\n",
       "99%         9.000000\n",
       "max        13.000000\n",
       "Name: Page Views Per Visit, dtype: float64"
      ]
     },
     "execution_count": 104,
     "metadata": {},
     "output_type": "execute_result"
    }
   ],
   "source": [
    "#Page Views Per Visit has more Outliers next to TotalVisits\n",
    "inp0['Page Views Per Visit'].describe(percentiles=[0.05,.25, .5, .75, .90, .95, .99])"
   ]
  },
  {
   "cell_type": "code",
   "execution_count": 105,
   "id": "88b7d9b3",
   "metadata": {},
   "outputs": [
    {
     "data": {
      "image/png": "[encoded data removed]",
      "text/plain": [
       "<Figure size 432x288 with 1 Axes>"
      ]
     },
     "metadata": {
      "needs_background": "light"
     },
     "output_type": "display_data"
    }
   ],
   "source": [
    "# Removing top and bottom 1% values of the outlier column for outlier treatment \n",
    "Q3 = inp0.TotalVisits.quantile(0.99)\n",
    "inp0 = inp0[(inp0.TotalVisits <= Q3)]\n",
    "Q1 = inp0.TotalVisits.quantile(0.01)\n",
    "inp0 = inp0[(inp0.TotalVisits >= Q1)]\n",
    "sns.boxplot(y=inp0['Page Views Per Visit'])\n",
    "plt.show()"
   ]
  },
  {
   "cell_type": "code",
   "execution_count": 106,
   "id": "9c90de46",
   "metadata": {},
   "outputs": [
    {
     "data": {
      "text/html": [
       "<div>\n",
       "<style scoped>\n",
       "    .dataframe tbody tr th:only-of-type {\n",
       "        vertical-align: middle;\n",
       "    }\n",
       "\n",
       "    .dataframe tbody tr th {\n",
       "        vertical-align: top;\n",
       "    }\n",
       "\n",
       "    .dataframe thead th {\n",
       "        text-align: right;\n",
       "    }\n",
       "</style>\n",
       "<table border=\"1\" class=\"dataframe\">\n",
       "  <thead>\n",
       "    <tr style=\"text-align: right;\">\n",
       "      <th></th>\n",
       "      <th>Lead Number</th>\n",
       "      <th>Converted</th>\n",
       "      <th>TotalVisits</th>\n",
       "      <th>Total Time Spent on Website</th>\n",
       "      <th>Page Views Per Visit</th>\n",
       "    </tr>\n",
       "  </thead>\n",
       "  <tbody>\n",
       "    <tr>\n",
       "      <th>Lead Number</th>\n",
       "      <td>1.000000</td>\n",
       "      <td>0.028079</td>\n",
       "      <td>0.054847</td>\n",
       "      <td>0.022928</td>\n",
       "      <td>0.062341</td>\n",
       "    </tr>\n",
       "    <tr>\n",
       "      <th>Converted</th>\n",
       "      <td>0.028079</td>\n",
       "      <td>1.000000</td>\n",
       "      <td>0.042262</td>\n",
       "      <td>0.357881</td>\n",
       "      <td>-0.003768</td>\n",
       "    </tr>\n",
       "    <tr>\n",
       "      <th>TotalVisits</th>\n",
       "      <td>0.054847</td>\n",
       "      <td>0.042262</td>\n",
       "      <td>1.000000</td>\n",
       "      <td>0.361454</td>\n",
       "      <td>0.778850</td>\n",
       "    </tr>\n",
       "    <tr>\n",
       "      <th>Total Time Spent on Website</th>\n",
       "      <td>0.022928</td>\n",
       "      <td>0.357881</td>\n",
       "      <td>0.361454</td>\n",
       "      <td>1.000000</td>\n",
       "      <td>0.340785</td>\n",
       "    </tr>\n",
       "    <tr>\n",
       "      <th>Page Views Per Visit</th>\n",
       "      <td>0.062341</td>\n",
       "      <td>-0.003768</td>\n",
       "      <td>0.778850</td>\n",
       "      <td>0.340785</td>\n",
       "      <td>1.000000</td>\n",
       "    </tr>\n",
       "  </tbody>\n",
       "</table>\n",
       "</div>"
      ],
      "text/plain": [
       "                             Lead Number  Converted  TotalVisits  \\\n",
       "Lead Number                     1.000000   0.028079     0.054847   \n",
       "Converted                       0.028079   1.000000     0.042262   \n",
       "TotalVisits                     0.054847   0.042262     1.000000   \n",
       "Total Time Spent on Website     0.022928   0.357881     0.361454   \n",
       "Page Views Per Visit            0.062341  -0.003768     0.778850   \n",
       "\n",
       "                             Total Time Spent on Website  Page Views Per Visit  \n",
       "Lead Number                                     0.022928              0.062341  \n",
       "Converted                                       0.357881             -0.003768  \n",
       "TotalVisits                                     0.361454              0.778850  \n",
       "Total Time Spent on Website                     1.000000              0.340785  \n",
       "Page Views Per Visit                            0.340785              1.000000  "
      ]
     },
     "execution_count": 106,
     "metadata": {},
     "output_type": "execute_result"
    }
   ],
   "source": [
    "#Heat Map with Correlation matrix\n",
    "corr = inp0.corr()\n",
    "corr"
   ]
  },
  {
   "cell_type": "code",
   "execution_count": 109,
   "id": "e1e4afe8",
   "metadata": {},
   "outputs": [
    {
     "data": {
      "image/png": "[encoded data removed]",
      "text/plain": [
       "<Figure size 720x720 with 2 Axes>"
      ]
     },
     "metadata": {
      "needs_background": "light"
     },
     "output_type": "display_data"
    }
   ],
   "source": [
    "#plotting heat map \n",
    "plt.figure(figsize=(10,10))\n",
    "sns.heatmap(corr, cmap=\"Blues\", annot=True)\n",
    "plt.title(\"Correlation between Variables\")\n",
    "plt.show()"
   ]
  },
  {
   "cell_type": "markdown",
   "id": "3bdc1e45",
   "metadata": {},
   "source": [
    "###### Converted has high correlation with Total Time Spent on Website\n",
    "###### Total Time Spent On Website has high correlation with TotalVisits"
   ]
  },
  {
   "cell_type": "markdown",
   "id": "3fb48343",
   "metadata": {},
   "source": [
    "### Model Building \n",
    "- Creation of dummy variables\n",
    "- Test-Train Split\n",
    "- Feature Scaling\n",
    "- Feature Selection Using RFE "
   ]
  },
  {
   "cell_type": "markdown",
   "id": "3c67e05c",
   "metadata": {},
   "source": [
    "###### Creation of dummy variables  "
   ]
  },
  {
   "cell_type": "code",
   "execution_count": 110,
   "id": "4e08f16e",
   "metadata": {},
   "outputs": [
    {
     "data": {
      "text/plain": [
       "Index(['Prospect ID', 'Lead Origin', 'Lead Source', 'Do Not Email',\n",
       "       'Last Activity', 'Specialization', 'How did you hear about X Education',\n",
       "       'What is your current occupation',\n",
       "       'What matters most to you in choosing a course', 'Lead Profile', 'City',\n",
       "       'A free copy of Mastering The Interview', 'Last Notable Activity'],\n",
       "      dtype='object')"
      ]
     },
     "execution_count": 110,
     "metadata": {},
     "output_type": "execute_result"
    }
   ],
   "source": [
    "#Getting list of categorical columns \n",
    "categ_cols= inp0.select_dtypes(include=['object']).columns\n",
    "categ_cols"
   ]
  },
  {
   "cell_type": "code",
   "execution_count": 111,
   "id": "ea94ce8f",
   "metadata": {},
   "outputs": [
    {
     "data": {
      "text/html": [
       "<div>\n",
       "<style scoped>\n",
       "    .dataframe tbody tr th:only-of-type {\n",
       "        vertical-align: middle;\n",
       "    }\n",
       "\n",
       "    .dataframe tbody tr th {\n",
       "        vertical-align: top;\n",
       "    }\n",
       "\n",
       "    .dataframe thead th {\n",
       "        text-align: right;\n",
       "    }\n",
       "</style>\n",
       "<table border=\"1\" class=\"dataframe\">\n",
       "  <thead>\n",
       "    <tr style=\"text-align: right;\">\n",
       "      <th></th>\n",
       "      <th>Prospect ID</th>\n",
       "      <th>Lead Number</th>\n",
       "      <th>Lead Origin</th>\n",
       "      <th>Lead Source</th>\n",
       "      <th>Do Not Email</th>\n",
       "      <th>Converted</th>\n",
       "      <th>TotalVisits</th>\n",
       "      <th>Total Time Spent on Website</th>\n",
       "      <th>Page Views Per Visit</th>\n",
       "      <th>Last Activity</th>\n",
       "      <th>Specialization</th>\n",
       "      <th>How did you hear about X Education</th>\n",
       "      <th>What is your current occupation</th>\n",
       "      <th>What matters most to you in choosing a course</th>\n",
       "      <th>Lead Profile</th>\n",
       "      <th>City</th>\n",
       "      <th>A free copy of Mastering The Interview</th>\n",
       "      <th>Last Notable Activity</th>\n",
       "    </tr>\n",
       "  </thead>\n",
       "  <tbody>\n",
       "    <tr>\n",
       "      <th>0</th>\n",
       "      <td>7927b2df-8bba-4d29-b9a2-b6e0beafe620</td>\n",
       "      <td>660737</td>\n",
       "      <td>API</td>\n",
       "      <td>Olark Chat</td>\n",
       "      <td>No</td>\n",
       "      <td>0</td>\n",
       "      <td>0.0</td>\n",
       "      <td>0</td>\n",
       "      <td>0.0</td>\n",
       "      <td>Page Visited on Website</td>\n",
       "      <td>Select</td>\n",
       "      <td>Select</td>\n",
       "      <td>Unemployed</td>\n",
       "      <td>Better Career Prospects</td>\n",
       "      <td>Select</td>\n",
       "      <td>Select</td>\n",
       "      <td>No</td>\n",
       "      <td>Modified</td>\n",
       "    </tr>\n",
       "    <tr>\n",
       "      <th>1</th>\n",
       "      <td>2a272436-5132-4136-86fa-dcc88c88f482</td>\n",
       "      <td>660728</td>\n",
       "      <td>API</td>\n",
       "      <td>Organic Search</td>\n",
       "      <td>No</td>\n",
       "      <td>0</td>\n",
       "      <td>5.0</td>\n",
       "      <td>674</td>\n",
       "      <td>2.5</td>\n",
       "      <td>Email Opened</td>\n",
       "      <td>Select</td>\n",
       "      <td>Select</td>\n",
       "      <td>Unemployed</td>\n",
       "      <td>Better Career Prospects</td>\n",
       "      <td>Select</td>\n",
       "      <td>Select</td>\n",
       "      <td>No</td>\n",
       "      <td>Email Opened</td>\n",
       "    </tr>\n",
       "    <tr>\n",
       "      <th>2</th>\n",
       "      <td>8cc8c611-a219-4f35-ad23-fdfd2656bd8a</td>\n",
       "      <td>660727</td>\n",
       "      <td>Landing Page Submission</td>\n",
       "      <td>Direct Traffic</td>\n",
       "      <td>No</td>\n",
       "      <td>1</td>\n",
       "      <td>2.0</td>\n",
       "      <td>1532</td>\n",
       "      <td>2.0</td>\n",
       "      <td>Email Opened</td>\n",
       "      <td>Business Administration</td>\n",
       "      <td>Select</td>\n",
       "      <td>Student</td>\n",
       "      <td>Better Career Prospects</td>\n",
       "      <td>Potential Lead</td>\n",
       "      <td>Mumbai</td>\n",
       "      <td>Yes</td>\n",
       "      <td>Email Opened</td>\n",
       "    </tr>\n",
       "    <tr>\n",
       "      <th>3</th>\n",
       "      <td>0cc2df48-7cf4-4e39-9de9-19797f9b38cc</td>\n",
       "      <td>660719</td>\n",
       "      <td>Landing Page Submission</td>\n",
       "      <td>Direct Traffic</td>\n",
       "      <td>No</td>\n",
       "      <td>0</td>\n",
       "      <td>1.0</td>\n",
       "      <td>305</td>\n",
       "      <td>1.0</td>\n",
       "      <td>Others</td>\n",
       "      <td>Media and Advertising</td>\n",
       "      <td>Word Of Mouth</td>\n",
       "      <td>Unemployed</td>\n",
       "      <td>Better Career Prospects</td>\n",
       "      <td>Select</td>\n",
       "      <td>Mumbai</td>\n",
       "      <td>No</td>\n",
       "      <td>Modified</td>\n",
       "    </tr>\n",
       "    <tr>\n",
       "      <th>4</th>\n",
       "      <td>3256f628-e534-4826-9d63-4a8b88782852</td>\n",
       "      <td>660681</td>\n",
       "      <td>Landing Page Submission</td>\n",
       "      <td>Google</td>\n",
       "      <td>No</td>\n",
       "      <td>1</td>\n",
       "      <td>2.0</td>\n",
       "      <td>1428</td>\n",
       "      <td>1.0</td>\n",
       "      <td>Converted to Lead</td>\n",
       "      <td>Select</td>\n",
       "      <td>Other</td>\n",
       "      <td>Unemployed</td>\n",
       "      <td>Better Career Prospects</td>\n",
       "      <td>Select</td>\n",
       "      <td>Mumbai</td>\n",
       "      <td>No</td>\n",
       "      <td>Modified</td>\n",
       "    </tr>\n",
       "  </tbody>\n",
       "</table>\n",
       "</div>"
      ],
      "text/plain": [
       "                            Prospect ID  Lead Number              Lead Origin  \\\n",
       "0  7927b2df-8bba-4d29-b9a2-b6e0beafe620       660737                      API   \n",
       "1  2a272436-5132-4136-86fa-dcc88c88f482       660728                      API   \n",
       "2  8cc8c611-a219-4f35-ad23-fdfd2656bd8a       660727  Landing Page Submission   \n",
       "3  0cc2df48-7cf4-4e39-9de9-19797f9b38cc       660719  Landing Page Submission   \n",
       "4  3256f628-e534-4826-9d63-4a8b88782852       660681  Landing Page Submission   \n",
       "\n",
       "      Lead Source Do Not Email  Converted  TotalVisits  \\\n",
       "0      Olark Chat           No          0          0.0   \n",
       "1  Organic Search           No          0          5.0   \n",
       "2  Direct Traffic           No          1          2.0   \n",
       "3  Direct Traffic           No          0          1.0   \n",
       "4          Google           No          1          2.0   \n",
       "\n",
       "   Total Time Spent on Website  Page Views Per Visit            Last Activity  \\\n",
       "0                            0                   0.0  Page Visited on Website   \n",
       "1                          674                   2.5             Email Opened   \n",
       "2                         1532                   2.0             Email Opened   \n",
       "3                          305                   1.0                   Others   \n",
       "4                         1428                   1.0        Converted to Lead   \n",
       "\n",
       "            Specialization How did you hear about X Education  \\\n",
       "0                   Select                             Select   \n",
       "1                   Select                             Select   \n",
       "2  Business Administration                             Select   \n",
       "3    Media and Advertising                      Word Of Mouth   \n",
       "4                   Select                              Other   \n",
       "\n",
       "  What is your current occupation  \\\n",
       "0                      Unemployed   \n",
       "1                      Unemployed   \n",
       "2                         Student   \n",
       "3                      Unemployed   \n",
       "4                      Unemployed   \n",
       "\n",
       "  What matters most to you in choosing a course    Lead Profile    City  \\\n",
       "0                       Better Career Prospects          Select  Select   \n",
       "1                       Better Career Prospects          Select  Select   \n",
       "2                       Better Career Prospects  Potential Lead  Mumbai   \n",
       "3                       Better Career Prospects          Select  Mumbai   \n",
       "4                       Better Career Prospects          Select  Mumbai   \n",
       "\n",
       "  A free copy of Mastering The Interview Last Notable Activity  \n",
       "0                                     No              Modified  \n",
       "1                                     No          Email Opened  \n",
       "2                                    Yes          Email Opened  \n",
       "3                                     No              Modified  \n",
       "4                                     No              Modified  "
      ]
     },
     "execution_count": 111,
     "metadata": {},
     "output_type": "execute_result"
    }
   ],
   "source": [
    "inp0.head()"
   ]
  },
  {
   "cell_type": "code",
   "execution_count": 112,
   "id": "4109d6d0",
   "metadata": {},
   "outputs": [],
   "source": [
    "var_li =  ['A free copy of Mastering The Interview','Do Not Email']\n",
    "\n",
    "# Defining the map function\n",
    "def binary_map(x):\n",
    "    return x.map({'Yes': 1, \"No\": 0})\n",
    "\n",
    "# Applying the function to the list\n",
    "inp0[var_li] = inp0[var_li].apply(binary_map)"
   ]
  },
  {
   "cell_type": "code",
   "execution_count": 116,
   "id": "9ebd1a8c",
   "metadata": {},
   "outputs": [],
   "source": [
    "dummy = pd.get_dummies(leads[['Lead Origin','What is your current occupation',\n",
    "                             'City']], drop_first=True)"
   ]
  },
  {
   "cell_type": "code",
   "execution_count": 119,
   "id": "c997cab7",
   "metadata": {},
   "outputs": [
    {
     "name": "stdout",
     "output_type": "stream",
     "text": [
      "<class 'pandas.core.frame.DataFrame'>\n",
      "Int64Index: 9018 entries, 0 to 9239\n",
      "Data columns (total 35 columns):\n",
      " #   Column                                                Non-Null Count  Dtype  \n",
      "---  ------                                                --------------  -----  \n",
      " 0   Prospect ID                                           9018 non-null   object \n",
      " 1   Lead Number                                           9018 non-null   int64  \n",
      " 2   Lead Origin                                           9018 non-null   object \n",
      " 3   Lead Source                                           9018 non-null   object \n",
      " 4   Do Not Email                                          9018 non-null   int64  \n",
      " 5   Converted                                             9018 non-null   int64  \n",
      " 6   TotalVisits                                           9018 non-null   float64\n",
      " 7   Total Time Spent on Website                           9018 non-null   int64  \n",
      " 8   Page Views Per Visit                                  9018 non-null   float64\n",
      " 9   Last Activity                                         9018 non-null   object \n",
      " 10  Specialization                                        9018 non-null   object \n",
      " 11  How did you hear about X Education                    9018 non-null   object \n",
      " 12  What is your current occupation                       9018 non-null   object \n",
      " 13  What matters most to you in choosing a course         9018 non-null   object \n",
      " 14  Lead Profile                                          9018 non-null   object \n",
      " 15  City                                                  9018 non-null   object \n",
      " 16  A free copy of Mastering The Interview                9018 non-null   int64  \n",
      " 17  Last Notable Activity                                 9018 non-null   object \n",
      " 18  Lead Origin_Landing Page Submission                   9018 non-null   uint8  \n",
      " 19  Lead Origin_Lead Add Form                             9018 non-null   uint8  \n",
      " 20  Lead Origin_Lead Import                               9018 non-null   uint8  \n",
      " 21  Lead Origin_Quick Add Form                            9018 non-null   uint8  \n",
      " 22  What is your current occupation_Housewife             9018 non-null   uint8  \n",
      " 23  What is your current occupation_Not Specified         9018 non-null   uint8  \n",
      " 24  What is your current occupation_Other                 9018 non-null   uint8  \n",
      " 25  What is your current occupation_Student               9018 non-null   uint8  \n",
      " 26  What is your current occupation_Unemployed            9018 non-null   uint8  \n",
      " 27  What is your current occupation_Working Professional  9018 non-null   uint8  \n",
      " 28  City_Not Specified                                    9018 non-null   uint8  \n",
      " 29  City_Other Cities                                     9018 non-null   uint8  \n",
      " 30  City_Other Cities of Maharashtra                      9018 non-null   uint8  \n",
      " 31  City_Other Metro Cities                               9018 non-null   uint8  \n",
      " 32  City_Select                                           9018 non-null   uint8  \n",
      " 33  City_Thane & Outskirts                                9018 non-null   uint8  \n",
      " 34  City_Tier II Cities                                   9018 non-null   uint8  \n",
      "dtypes: float64(2), int64(5), object(11), uint8(17)\n",
      "memory usage: 1.5+ MB\n"
     ]
    }
   ],
   "source": [
    "leads.info()"
   ]
  },
  {
   "cell_type": "code",
   "execution_count": 120,
   "id": "8e74601f",
   "metadata": {},
   "outputs": [],
   "source": [
    "dummy = pd.get_dummies(leads['Specialization'], prefix  = 'Specialization')\n",
    "dummy = dummy.drop(['Specialization_Not Specified'], 1)\n",
    "leads = pd.concat([leads, dummy], axis = 1)"
   ]
  },
  {
   "cell_type": "code",
   "execution_count": 121,
   "id": "dc3d3450",
   "metadata": {},
   "outputs": [
    {
     "data": {
      "text/plain": [
       "(9018, 54)"
      ]
     },
     "execution_count": 121,
     "metadata": {},
     "output_type": "execute_result"
    }
   ],
   "source": [
    "leads.shape"
   ]
  },
  {
   "cell_type": "code",
   "execution_count": 122,
   "id": "9c129d26",
   "metadata": {},
   "outputs": [],
   "source": [
    "dummy = pd.get_dummies(leads['Lead Source'], prefix  = 'Lead Source')\n",
    "dummy = dummy.drop(['Lead Source_Others'], 1)\n",
    "leads = pd.concat([leads, dummy], axis = 1)"
   ]
  },
  {
   "cell_type": "code",
   "execution_count": 123,
   "id": "3102f0dd",
   "metadata": {},
   "outputs": [
    {
     "data": {
      "text/plain": [
       "(9018, 64)"
      ]
     },
     "execution_count": 123,
     "metadata": {},
     "output_type": "execute_result"
    }
   ],
   "source": [
    "leads.shape"
   ]
  },
  {
   "cell_type": "code",
   "execution_count": 125,
   "id": "7ccf8c7d",
   "metadata": {},
   "outputs": [],
   "source": [
    "dummy = pd.get_dummies(leads['Last Activity'], prefix  = 'Last Activity')\n",
    "dummy = dummy.drop(['Last Activity_Others'], 1)\n",
    "leads = pd.concat([leads, dummy], axis = 1)"
   ]
  },
  {
   "cell_type": "code",
   "execution_count": 128,
   "id": "b1d0aa3d",
   "metadata": {},
   "outputs": [
    {
     "data": {
      "text/html": [
       "<div>\n",
       "<style scoped>\n",
       "    .dataframe tbody tr th:only-of-type {\n",
       "        vertical-align: middle;\n",
       "    }\n",
       "\n",
       "    .dataframe tbody tr th {\n",
       "        vertical-align: top;\n",
       "    }\n",
       "\n",
       "    .dataframe thead th {\n",
       "        text-align: right;\n",
       "    }\n",
       "</style>\n",
       "<table border=\"1\" class=\"dataframe\">\n",
       "  <thead>\n",
       "    <tr style=\"text-align: right;\">\n",
       "      <th></th>\n",
       "      <th>Lead Number</th>\n",
       "      <th>Converted</th>\n",
       "      <th>TotalVisits</th>\n",
       "      <th>Total Time Spent on Website</th>\n",
       "      <th>Page Views Per Visit</th>\n",
       "      <th>Lead Origin_Landing Page Submission</th>\n",
       "      <th>Lead Origin_Lead Add Form</th>\n",
       "      <th>Lead Origin_Lead Import</th>\n",
       "      <th>Lead Origin_Quick Add Form</th>\n",
       "      <th>What is your current occupation_Housewife</th>\n",
       "      <th>...</th>\n",
       "      <th>Lead Source_Welingak Website</th>\n",
       "      <th>Lead Source_google</th>\n",
       "      <th>Last Activity_Converted to Lead</th>\n",
       "      <th>Last Activity_Email Bounced</th>\n",
       "      <th>Last Activity_Email Link Clicked</th>\n",
       "      <th>Last Activity_Email Opened</th>\n",
       "      <th>Last Activity_Form Submitted on Website</th>\n",
       "      <th>Last Activity_Olark Chat Conversation</th>\n",
       "      <th>Last Activity_Page Visited on Website</th>\n",
       "      <th>Last Activity_SMS Sent</th>\n",
       "    </tr>\n",
       "  </thead>\n",
       "  <tbody>\n",
       "    <tr>\n",
       "      <th>0</th>\n",
       "      <td>660737</td>\n",
       "      <td>0</td>\n",
       "      <td>0.0</td>\n",
       "      <td>0</td>\n",
       "      <td>0.0</td>\n",
       "      <td>0</td>\n",
       "      <td>0</td>\n",
       "      <td>0</td>\n",
       "      <td>0</td>\n",
       "      <td>0</td>\n",
       "      <td>...</td>\n",
       "      <td>0</td>\n",
       "      <td>0</td>\n",
       "      <td>0</td>\n",
       "      <td>0</td>\n",
       "      <td>0</td>\n",
       "      <td>0</td>\n",
       "      <td>0</td>\n",
       "      <td>0</td>\n",
       "      <td>1</td>\n",
       "      <td>0</td>\n",
       "    </tr>\n",
       "    <tr>\n",
       "      <th>1</th>\n",
       "      <td>660728</td>\n",
       "      <td>0</td>\n",
       "      <td>5.0</td>\n",
       "      <td>674</td>\n",
       "      <td>2.5</td>\n",
       "      <td>0</td>\n",
       "      <td>0</td>\n",
       "      <td>0</td>\n",
       "      <td>0</td>\n",
       "      <td>0</td>\n",
       "      <td>...</td>\n",
       "      <td>0</td>\n",
       "      <td>0</td>\n",
       "      <td>0</td>\n",
       "      <td>0</td>\n",
       "      <td>0</td>\n",
       "      <td>1</td>\n",
       "      <td>0</td>\n",
       "      <td>0</td>\n",
       "      <td>0</td>\n",
       "      <td>0</td>\n",
       "    </tr>\n",
       "    <tr>\n",
       "      <th>2</th>\n",
       "      <td>660727</td>\n",
       "      <td>1</td>\n",
       "      <td>2.0</td>\n",
       "      <td>1532</td>\n",
       "      <td>2.0</td>\n",
       "      <td>1</td>\n",
       "      <td>0</td>\n",
       "      <td>0</td>\n",
       "      <td>0</td>\n",
       "      <td>0</td>\n",
       "      <td>...</td>\n",
       "      <td>0</td>\n",
       "      <td>0</td>\n",
       "      <td>0</td>\n",
       "      <td>0</td>\n",
       "      <td>0</td>\n",
       "      <td>1</td>\n",
       "      <td>0</td>\n",
       "      <td>0</td>\n",
       "      <td>0</td>\n",
       "      <td>0</td>\n",
       "    </tr>\n",
       "    <tr>\n",
       "      <th>3</th>\n",
       "      <td>660719</td>\n",
       "      <td>0</td>\n",
       "      <td>1.0</td>\n",
       "      <td>305</td>\n",
       "      <td>1.0</td>\n",
       "      <td>1</td>\n",
       "      <td>0</td>\n",
       "      <td>0</td>\n",
       "      <td>0</td>\n",
       "      <td>0</td>\n",
       "      <td>...</td>\n",
       "      <td>0</td>\n",
       "      <td>0</td>\n",
       "      <td>0</td>\n",
       "      <td>0</td>\n",
       "      <td>0</td>\n",
       "      <td>0</td>\n",
       "      <td>0</td>\n",
       "      <td>0</td>\n",
       "      <td>0</td>\n",
       "      <td>0</td>\n",
       "    </tr>\n",
       "    <tr>\n",
       "      <th>4</th>\n",
       "      <td>660681</td>\n",
       "      <td>1</td>\n",
       "      <td>2.0</td>\n",
       "      <td>1428</td>\n",
       "      <td>1.0</td>\n",
       "      <td>1</td>\n",
       "      <td>0</td>\n",
       "      <td>0</td>\n",
       "      <td>0</td>\n",
       "      <td>0</td>\n",
       "      <td>...</td>\n",
       "      <td>0</td>\n",
       "      <td>0</td>\n",
       "      <td>1</td>\n",
       "      <td>0</td>\n",
       "      <td>0</td>\n",
       "      <td>0</td>\n",
       "      <td>0</td>\n",
       "      <td>0</td>\n",
       "      <td>0</td>\n",
       "      <td>0</td>\n",
       "    </tr>\n",
       "  </tbody>\n",
       "</table>\n",
       "<p>5 rows × 59 columns</p>\n",
       "</div>"
      ],
      "text/plain": [
       "   Lead Number  Converted  TotalVisits  Total Time Spent on Website  \\\n",
       "0       660737          0          0.0                            0   \n",
       "1       660728          0          5.0                          674   \n",
       "2       660727          1          2.0                         1532   \n",
       "3       660719          0          1.0                          305   \n",
       "4       660681          1          2.0                         1428   \n",
       "\n",
       "   Page Views Per Visit  Lead Origin_Landing Page Submission  \\\n",
       "0                   0.0                                    0   \n",
       "1                   2.5                                    0   \n",
       "2                   2.0                                    1   \n",
       "3                   1.0                                    1   \n",
       "4                   1.0                                    1   \n",
       "\n",
       "   Lead Origin_Lead Add Form  Lead Origin_Lead Import  \\\n",
       "0                          0                        0   \n",
       "1                          0                        0   \n",
       "2                          0                        0   \n",
       "3                          0                        0   \n",
       "4                          0                        0   \n",
       "\n",
       "   Lead Origin_Quick Add Form  What is your current occupation_Housewife  ...  \\\n",
       "0                           0                                          0  ...   \n",
       "1                           0                                          0  ...   \n",
       "2                           0                                          0  ...   \n",
       "3                           0                                          0  ...   \n",
       "4                           0                                          0  ...   \n",
       "\n",
       "   Lead Source_Welingak Website  Lead Source_google  \\\n",
       "0                             0                   0   \n",
       "1                             0                   0   \n",
       "2                             0                   0   \n",
       "3                             0                   0   \n",
       "4                             0                   0   \n",
       "\n",
       "   Last Activity_Converted to Lead  Last Activity_Email Bounced  \\\n",
       "0                                0                            0   \n",
       "1                                0                            0   \n",
       "2                                0                            0   \n",
       "3                                0                            0   \n",
       "4                                1                            0   \n",
       "\n",
       "   Last Activity_Email Link Clicked  Last Activity_Email Opened  \\\n",
       "0                                 0                           0   \n",
       "1                                 0                           1   \n",
       "2                                 0                           1   \n",
       "3                                 0                           0   \n",
       "4                                 0                           0   \n",
       "\n",
       "   Last Activity_Form Submitted on Website  \\\n",
       "0                                        0   \n",
       "1                                        0   \n",
       "2                                        0   \n",
       "3                                        0   \n",
       "4                                        0   \n",
       "\n",
       "   Last Activity_Olark Chat Conversation  \\\n",
       "0                                      0   \n",
       "1                                      0   \n",
       "2                                      0   \n",
       "3                                      0   \n",
       "4                                      0   \n",
       "\n",
       "   Last Activity_Page Visited on Website  Last Activity_SMS Sent  \n",
       "0                                      1                       0  \n",
       "1                                      0                       0  \n",
       "2                                      0                       0  \n",
       "3                                      0                       0  \n",
       "4                                      0                       0  \n",
       "\n",
       "[5 rows x 59 columns]"
      ]
     },
     "execution_count": 128,
     "metadata": {},
     "output_type": "execute_result"
    }
   ],
   "source": [
    "leads.drop(categ_cols,1,inplace = True)\n",
    "leads.head()"
   ]
  },
  {
   "cell_type": "markdown",
   "id": "9f6bd274",
   "metadata": {},
   "source": [
    "###### Test-Train Split "
   ]
  },
  {
   "cell_type": "code",
   "execution_count": 129,
   "id": "7a3dc45c",
   "metadata": {},
   "outputs": [],
   "source": [
    "from sklearn.model_selection import train_test_split"
   ]
  },
  {
   "cell_type": "code",
   "execution_count": 131,
   "id": "d2bf6924",
   "metadata": {},
   "outputs": [
    {
     "data": {
      "text/html": [
       "<div>\n",
       "<style scoped>\n",
       "    .dataframe tbody tr th:only-of-type {\n",
       "        vertical-align: middle;\n",
       "    }\n",
       "\n",
       "    .dataframe tbody tr th {\n",
       "        vertical-align: top;\n",
       "    }\n",
       "\n",
       "    .dataframe thead th {\n",
       "        text-align: right;\n",
       "    }\n",
       "</style>\n",
       "<table border=\"1\" class=\"dataframe\">\n",
       "  <thead>\n",
       "    <tr style=\"text-align: right;\">\n",
       "      <th></th>\n",
       "      <th>TotalVisits</th>\n",
       "      <th>Total Time Spent on Website</th>\n",
       "      <th>Page Views Per Visit</th>\n",
       "      <th>Lead Origin_Landing Page Submission</th>\n",
       "      <th>Lead Origin_Lead Add Form</th>\n",
       "      <th>Lead Origin_Lead Import</th>\n",
       "      <th>Lead Origin_Quick Add Form</th>\n",
       "      <th>What is your current occupation_Housewife</th>\n",
       "      <th>What is your current occupation_Not Specified</th>\n",
       "      <th>What is your current occupation_Other</th>\n",
       "      <th>...</th>\n",
       "      <th>Lead Source_Welingak Website</th>\n",
       "      <th>Lead Source_google</th>\n",
       "      <th>Last Activity_Converted to Lead</th>\n",
       "      <th>Last Activity_Email Bounced</th>\n",
       "      <th>Last Activity_Email Link Clicked</th>\n",
       "      <th>Last Activity_Email Opened</th>\n",
       "      <th>Last Activity_Form Submitted on Website</th>\n",
       "      <th>Last Activity_Olark Chat Conversation</th>\n",
       "      <th>Last Activity_Page Visited on Website</th>\n",
       "      <th>Last Activity_SMS Sent</th>\n",
       "    </tr>\n",
       "  </thead>\n",
       "  <tbody>\n",
       "    <tr>\n",
       "      <th>0</th>\n",
       "      <td>0.0</td>\n",
       "      <td>0</td>\n",
       "      <td>0.0</td>\n",
       "      <td>0</td>\n",
       "      <td>0</td>\n",
       "      <td>0</td>\n",
       "      <td>0</td>\n",
       "      <td>0</td>\n",
       "      <td>0</td>\n",
       "      <td>0</td>\n",
       "      <td>...</td>\n",
       "      <td>0</td>\n",
       "      <td>0</td>\n",
       "      <td>0</td>\n",
       "      <td>0</td>\n",
       "      <td>0</td>\n",
       "      <td>0</td>\n",
       "      <td>0</td>\n",
       "      <td>0</td>\n",
       "      <td>1</td>\n",
       "      <td>0</td>\n",
       "    </tr>\n",
       "    <tr>\n",
       "      <th>1</th>\n",
       "      <td>5.0</td>\n",
       "      <td>674</td>\n",
       "      <td>2.5</td>\n",
       "      <td>0</td>\n",
       "      <td>0</td>\n",
       "      <td>0</td>\n",
       "      <td>0</td>\n",
       "      <td>0</td>\n",
       "      <td>0</td>\n",
       "      <td>0</td>\n",
       "      <td>...</td>\n",
       "      <td>0</td>\n",
       "      <td>0</td>\n",
       "      <td>0</td>\n",
       "      <td>0</td>\n",
       "      <td>0</td>\n",
       "      <td>1</td>\n",
       "      <td>0</td>\n",
       "      <td>0</td>\n",
       "      <td>0</td>\n",
       "      <td>0</td>\n",
       "    </tr>\n",
       "    <tr>\n",
       "      <th>2</th>\n",
       "      <td>2.0</td>\n",
       "      <td>1532</td>\n",
       "      <td>2.0</td>\n",
       "      <td>1</td>\n",
       "      <td>0</td>\n",
       "      <td>0</td>\n",
       "      <td>0</td>\n",
       "      <td>0</td>\n",
       "      <td>0</td>\n",
       "      <td>0</td>\n",
       "      <td>...</td>\n",
       "      <td>0</td>\n",
       "      <td>0</td>\n",
       "      <td>0</td>\n",
       "      <td>0</td>\n",
       "      <td>0</td>\n",
       "      <td>1</td>\n",
       "      <td>0</td>\n",
       "      <td>0</td>\n",
       "      <td>0</td>\n",
       "      <td>0</td>\n",
       "    </tr>\n",
       "    <tr>\n",
       "      <th>3</th>\n",
       "      <td>1.0</td>\n",
       "      <td>305</td>\n",
       "      <td>1.0</td>\n",
       "      <td>1</td>\n",
       "      <td>0</td>\n",
       "      <td>0</td>\n",
       "      <td>0</td>\n",
       "      <td>0</td>\n",
       "      <td>0</td>\n",
       "      <td>0</td>\n",
       "      <td>...</td>\n",
       "      <td>0</td>\n",
       "      <td>0</td>\n",
       "      <td>0</td>\n",
       "      <td>0</td>\n",
       "      <td>0</td>\n",
       "      <td>0</td>\n",
       "      <td>0</td>\n",
       "      <td>0</td>\n",
       "      <td>0</td>\n",
       "      <td>0</td>\n",
       "    </tr>\n",
       "    <tr>\n",
       "      <th>4</th>\n",
       "      <td>2.0</td>\n",
       "      <td>1428</td>\n",
       "      <td>1.0</td>\n",
       "      <td>1</td>\n",
       "      <td>0</td>\n",
       "      <td>0</td>\n",
       "      <td>0</td>\n",
       "      <td>0</td>\n",
       "      <td>0</td>\n",
       "      <td>0</td>\n",
       "      <td>...</td>\n",
       "      <td>0</td>\n",
       "      <td>0</td>\n",
       "      <td>1</td>\n",
       "      <td>0</td>\n",
       "      <td>0</td>\n",
       "      <td>0</td>\n",
       "      <td>0</td>\n",
       "      <td>0</td>\n",
       "      <td>0</td>\n",
       "      <td>0</td>\n",
       "    </tr>\n",
       "  </tbody>\n",
       "</table>\n",
       "<p>5 rows × 57 columns</p>\n",
       "</div>"
      ],
      "text/plain": [
       "   TotalVisits  Total Time Spent on Website  Page Views Per Visit  \\\n",
       "0          0.0                            0                   0.0   \n",
       "1          5.0                          674                   2.5   \n",
       "2          2.0                         1532                   2.0   \n",
       "3          1.0                          305                   1.0   \n",
       "4          2.0                         1428                   1.0   \n",
       "\n",
       "   Lead Origin_Landing Page Submission  Lead Origin_Lead Add Form  \\\n",
       "0                                    0                          0   \n",
       "1                                    0                          0   \n",
       "2                                    1                          0   \n",
       "3                                    1                          0   \n",
       "4                                    1                          0   \n",
       "\n",
       "   Lead Origin_Lead Import  Lead Origin_Quick Add Form  \\\n",
       "0                        0                           0   \n",
       "1                        0                           0   \n",
       "2                        0                           0   \n",
       "3                        0                           0   \n",
       "4                        0                           0   \n",
       "\n",
       "   What is your current occupation_Housewife  \\\n",
       "0                                          0   \n",
       "1                                          0   \n",
       "2                                          0   \n",
       "3                                          0   \n",
       "4                                          0   \n",
       "\n",
       "   What is your current occupation_Not Specified  \\\n",
       "0                                              0   \n",
       "1                                              0   \n",
       "2                                              0   \n",
       "3                                              0   \n",
       "4                                              0   \n",
       "\n",
       "   What is your current occupation_Other  ...  Lead Source_Welingak Website  \\\n",
       "0                                      0  ...                             0   \n",
       "1                                      0  ...                             0   \n",
       "2                                      0  ...                             0   \n",
       "3                                      0  ...                             0   \n",
       "4                                      0  ...                             0   \n",
       "\n",
       "   Lead Source_google  Last Activity_Converted to Lead  \\\n",
       "0                   0                                0   \n",
       "1                   0                                0   \n",
       "2                   0                                0   \n",
       "3                   0                                0   \n",
       "4                   0                                1   \n",
       "\n",
       "   Last Activity_Email Bounced  Last Activity_Email Link Clicked  \\\n",
       "0                            0                                 0   \n",
       "1                            0                                 0   \n",
       "2                            0                                 0   \n",
       "3                            0                                 0   \n",
       "4                            0                                 0   \n",
       "\n",
       "   Last Activity_Email Opened  Last Activity_Form Submitted on Website  \\\n",
       "0                           0                                        0   \n",
       "1                           1                                        0   \n",
       "2                           1                                        0   \n",
       "3                           0                                        0   \n",
       "4                           0                                        0   \n",
       "\n",
       "   Last Activity_Olark Chat Conversation  \\\n",
       "0                                      0   \n",
       "1                                      0   \n",
       "2                                      0   \n",
       "3                                      0   \n",
       "4                                      0   \n",
       "\n",
       "   Last Activity_Page Visited on Website  Last Activity_SMS Sent  \n",
       "0                                      1                       0  \n",
       "1                                      0                       0  \n",
       "2                                      0                       0  \n",
       "3                                      0                       0  \n",
       "4                                      0                       0  \n",
       "\n",
       "[5 rows x 57 columns]"
      ]
     },
     "execution_count": 131,
     "metadata": {},
     "output_type": "execute_result"
    }
   ],
   "source": [
    "# Putting feature variable to X removing targte Converted variable and Lead Number which is unqiue and does not add any value to the analysis\n",
    "X = leads.drop(['Converted','Lead Number'], axis=1)\n",
    "X.head()"
   ]
  },
  {
   "cell_type": "code",
   "execution_count": 133,
   "id": "8b20cb1f",
   "metadata": {},
   "outputs": [
    {
     "data": {
      "text/plain": [
       "0    0\n",
       "1    0\n",
       "2    1\n",
       "3    0\n",
       "4    1\n",
       "Name: Converted, dtype: int64"
      ]
     },
     "execution_count": 133,
     "metadata": {},
     "output_type": "execute_result"
    }
   ],
   "source": [
    "# Putting response variable to y\n",
    "y = leads['Converted']\n",
    "y.head()"
   ]
  },
  {
   "cell_type": "code",
   "execution_count": 134,
   "id": "3a43eb1f",
   "metadata": {},
   "outputs": [],
   "source": [
    "# Splitting the data into train and test\n",
    "X_train, X_test, y_train, y_test = train_test_split(X, y, train_size=0.7, test_size=0.3, random_state=100)"
   ]
  },
  {
   "cell_type": "markdown",
   "id": "88e87d3c",
   "metadata": {},
   "source": [
    "###### Feature Scaling "
   ]
  },
  {
   "cell_type": "code",
   "execution_count": 135,
   "id": "d42e08c0",
   "metadata": {},
   "outputs": [
    {
     "data": {
      "text/html": [
       "<div>\n",
       "<style scoped>\n",
       "    .dataframe tbody tr th:only-of-type {\n",
       "        vertical-align: middle;\n",
       "    }\n",
       "\n",
       "    .dataframe tbody tr th {\n",
       "        vertical-align: top;\n",
       "    }\n",
       "\n",
       "    .dataframe thead th {\n",
       "        text-align: right;\n",
       "    }\n",
       "</style>\n",
       "<table border=\"1\" class=\"dataframe\">\n",
       "  <thead>\n",
       "    <tr style=\"text-align: right;\">\n",
       "      <th></th>\n",
       "      <th>TotalVisits</th>\n",
       "      <th>Total Time Spent on Website</th>\n",
       "      <th>Page Views Per Visit</th>\n",
       "      <th>Lead Origin_Landing Page Submission</th>\n",
       "      <th>Lead Origin_Lead Add Form</th>\n",
       "      <th>Lead Origin_Lead Import</th>\n",
       "      <th>Lead Origin_Quick Add Form</th>\n",
       "      <th>What is your current occupation_Housewife</th>\n",
       "      <th>What is your current occupation_Not Specified</th>\n",
       "      <th>What is your current occupation_Other</th>\n",
       "      <th>...</th>\n",
       "      <th>Lead Source_Welingak Website</th>\n",
       "      <th>Lead Source_google</th>\n",
       "      <th>Last Activity_Converted to Lead</th>\n",
       "      <th>Last Activity_Email Bounced</th>\n",
       "      <th>Last Activity_Email Link Clicked</th>\n",
       "      <th>Last Activity_Email Opened</th>\n",
       "      <th>Last Activity_Form Submitted on Website</th>\n",
       "      <th>Last Activity_Olark Chat Conversation</th>\n",
       "      <th>Last Activity_Page Visited on Website</th>\n",
       "      <th>Last Activity_SMS Sent</th>\n",
       "    </tr>\n",
       "  </thead>\n",
       "  <tbody>\n",
       "    <tr>\n",
       "      <th>2853</th>\n",
       "      <td>1.134825</td>\n",
       "      <td>0.878135</td>\n",
       "      <td>1.911837</td>\n",
       "      <td>1</td>\n",
       "      <td>0</td>\n",
       "      <td>0</td>\n",
       "      <td>0</td>\n",
       "      <td>0</td>\n",
       "      <td>0</td>\n",
       "      <td>0</td>\n",
       "      <td>...</td>\n",
       "      <td>0</td>\n",
       "      <td>0</td>\n",
       "      <td>0</td>\n",
       "      <td>0</td>\n",
       "      <td>0</td>\n",
       "      <td>0</td>\n",
       "      <td>0</td>\n",
       "      <td>0</td>\n",
       "      <td>0</td>\n",
       "      <td>1</td>\n",
       "    </tr>\n",
       "    <tr>\n",
       "      <th>6804</th>\n",
       "      <td>-0.005661</td>\n",
       "      <td>-0.783492</td>\n",
       "      <td>-0.396854</td>\n",
       "      <td>1</td>\n",
       "      <td>0</td>\n",
       "      <td>0</td>\n",
       "      <td>0</td>\n",
       "      <td>0</td>\n",
       "      <td>1</td>\n",
       "      <td>0</td>\n",
       "      <td>...</td>\n",
       "      <td>0</td>\n",
       "      <td>0</td>\n",
       "      <td>0</td>\n",
       "      <td>0</td>\n",
       "      <td>0</td>\n",
       "      <td>0</td>\n",
       "      <td>0</td>\n",
       "      <td>0</td>\n",
       "      <td>1</td>\n",
       "      <td>0</td>\n",
       "    </tr>\n",
       "    <tr>\n",
       "      <th>6591</th>\n",
       "      <td>-0.385824</td>\n",
       "      <td>1.208990</td>\n",
       "      <td>-0.140333</td>\n",
       "      <td>0</td>\n",
       "      <td>0</td>\n",
       "      <td>0</td>\n",
       "      <td>0</td>\n",
       "      <td>0</td>\n",
       "      <td>0</td>\n",
       "      <td>0</td>\n",
       "      <td>...</td>\n",
       "      <td>0</td>\n",
       "      <td>0</td>\n",
       "      <td>0</td>\n",
       "      <td>0</td>\n",
       "      <td>0</td>\n",
       "      <td>1</td>\n",
       "      <td>0</td>\n",
       "      <td>0</td>\n",
       "      <td>0</td>\n",
       "      <td>0</td>\n",
       "    </tr>\n",
       "    <tr>\n",
       "      <th>4922</th>\n",
       "      <td>-0.005661</td>\n",
       "      <td>2.319192</td>\n",
       "      <td>0.372709</td>\n",
       "      <td>1</td>\n",
       "      <td>0</td>\n",
       "      <td>0</td>\n",
       "      <td>0</td>\n",
       "      <td>0</td>\n",
       "      <td>1</td>\n",
       "      <td>0</td>\n",
       "      <td>...</td>\n",
       "      <td>0</td>\n",
       "      <td>0</td>\n",
       "      <td>0</td>\n",
       "      <td>0</td>\n",
       "      <td>0</td>\n",
       "      <td>1</td>\n",
       "      <td>0</td>\n",
       "      <td>0</td>\n",
       "      <td>0</td>\n",
       "      <td>0</td>\n",
       "    </tr>\n",
       "    <tr>\n",
       "      <th>5931</th>\n",
       "      <td>-0.005661</td>\n",
       "      <td>1.464484</td>\n",
       "      <td>0.372709</td>\n",
       "      <td>1</td>\n",
       "      <td>0</td>\n",
       "      <td>0</td>\n",
       "      <td>0</td>\n",
       "      <td>0</td>\n",
       "      <td>1</td>\n",
       "      <td>0</td>\n",
       "      <td>...</td>\n",
       "      <td>0</td>\n",
       "      <td>0</td>\n",
       "      <td>0</td>\n",
       "      <td>0</td>\n",
       "      <td>0</td>\n",
       "      <td>0</td>\n",
       "      <td>0</td>\n",
       "      <td>0</td>\n",
       "      <td>0</td>\n",
       "      <td>1</td>\n",
       "    </tr>\n",
       "  </tbody>\n",
       "</table>\n",
       "<p>5 rows × 57 columns</p>\n",
       "</div>"
      ],
      "text/plain": [
       "      TotalVisits  Total Time Spent on Website  Page Views Per Visit  \\\n",
       "2853     1.134825                     0.878135              1.911837   \n",
       "6804    -0.005661                    -0.783492             -0.396854   \n",
       "6591    -0.385824                     1.208990             -0.140333   \n",
       "4922    -0.005661                     2.319192              0.372709   \n",
       "5931    -0.005661                     1.464484              0.372709   \n",
       "\n",
       "      Lead Origin_Landing Page Submission  Lead Origin_Lead Add Form  \\\n",
       "2853                                    1                          0   \n",
       "6804                                    1                          0   \n",
       "6591                                    0                          0   \n",
       "4922                                    1                          0   \n",
       "5931                                    1                          0   \n",
       "\n",
       "      Lead Origin_Lead Import  Lead Origin_Quick Add Form  \\\n",
       "2853                        0                           0   \n",
       "6804                        0                           0   \n",
       "6591                        0                           0   \n",
       "4922                        0                           0   \n",
       "5931                        0                           0   \n",
       "\n",
       "      What is your current occupation_Housewife  \\\n",
       "2853                                          0   \n",
       "6804                                          0   \n",
       "6591                                          0   \n",
       "4922                                          0   \n",
       "5931                                          0   \n",
       "\n",
       "      What is your current occupation_Not Specified  \\\n",
       "2853                                              0   \n",
       "6804                                              1   \n",
       "6591                                              0   \n",
       "4922                                              1   \n",
       "5931                                              1   \n",
       "\n",
       "      What is your current occupation_Other  ...  \\\n",
       "2853                                      0  ...   \n",
       "6804                                      0  ...   \n",
       "6591                                      0  ...   \n",
       "4922                                      0  ...   \n",
       "5931                                      0  ...   \n",
       "\n",
       "      Lead Source_Welingak Website  Lead Source_google  \\\n",
       "2853                             0                   0   \n",
       "6804                             0                   0   \n",
       "6591                             0                   0   \n",
       "4922                             0                   0   \n",
       "5931                             0                   0   \n",
       "\n",
       "      Last Activity_Converted to Lead  Last Activity_Email Bounced  \\\n",
       "2853                                0                            0   \n",
       "6804                                0                            0   \n",
       "6591                                0                            0   \n",
       "4922                                0                            0   \n",
       "5931                                0                            0   \n",
       "\n",
       "      Last Activity_Email Link Clicked  Last Activity_Email Opened  \\\n",
       "2853                                 0                           0   \n",
       "6804                                 0                           0   \n",
       "6591                                 0                           1   \n",
       "4922                                 0                           1   \n",
       "5931                                 0                           0   \n",
       "\n",
       "      Last Activity_Form Submitted on Website  \\\n",
       "2853                                        0   \n",
       "6804                                        0   \n",
       "6591                                        0   \n",
       "4922                                        0   \n",
       "5931                                        0   \n",
       "\n",
       "      Last Activity_Olark Chat Conversation  \\\n",
       "2853                                      0   \n",
       "6804                                      0   \n",
       "6591                                      0   \n",
       "4922                                      0   \n",
       "5931                                      0   \n",
       "\n",
       "      Last Activity_Page Visited on Website  Last Activity_SMS Sent  \n",
       "2853                                      0                       1  \n",
       "6804                                      1                       0  \n",
       "6591                                      0                       0  \n",
       "4922                                      0                       0  \n",
       "5931                                      0                       1  \n",
       "\n",
       "[5 rows x 57 columns]"
      ]
     },
     "execution_count": 135,
     "metadata": {},
     "output_type": "execute_result"
    }
   ],
   "source": [
    "from sklearn.preprocessing import StandardScaler\n",
    "\n",
    "scaler = StandardScaler()\n",
    "\n",
    "num_cols=X_train.select_dtypes(include=['float64', 'int64']).columns\n",
    "X_train[num_cols] = scaler.fit_transform(X_train[num_cols])\n",
    "X_train.head()"
   ]
  },
  {
   "cell_type": "markdown",
   "id": "0090c95c",
   "metadata": {},
   "source": [
    "###### Feature Selection Using RFE "
   ]
  },
  {
   "cell_type": "code",
   "execution_count": 147,
   "id": "15b2b6df",
   "metadata": {},
   "outputs": [],
   "source": [
    "from sklearn.linear_model import LogisticRegression\n",
    "logreg = LogisticRegression()"
   ]
  },
  {
   "cell_type": "code",
   "execution_count": 149,
   "id": "74d8d49d",
   "metadata": {},
   "outputs": [],
   "source": [
    "from sklearn.feature_selection import RFE\n",
    "rfe = RFE(logreg) \n",
    "rfe = rfe.fit(X_train, y_train)"
   ]
  },
  {
   "cell_type": "code",
   "execution_count": 150,
   "id": "a20d1487",
   "metadata": {},
   "outputs": [
    {
     "data": {
      "text/plain": [
       "array([ True,  True, False,  True,  True,  True, False,  True,  True,\n",
       "        True,  True,  True,  True,  True, False, False, False,  True,\n",
       "       False, False, False, False,  True, False, False, False, False,\n",
       "       False, False, False, False, False, False, False, False, False,\n",
       "       False, False, False,  True,  True, False,  True,  True, False,\n",
       "        True, False,  True,  True,  True,  True, False,  True,  True,\n",
       "        True,  True,  True])"
      ]
     },
     "execution_count": 150,
     "metadata": {},
     "output_type": "execute_result"
    }
   ],
   "source": [
    "rfe.support_"
   ]
  },
  {
   "cell_type": "code",
   "execution_count": 151,
   "id": "1514dbb8",
   "metadata": {},
   "outputs": [
    {
     "data": {
      "text/plain": [
       "[('TotalVisits', True, 1),\n",
       " ('Total Time Spent on Website', True, 1),\n",
       " ('Page Views Per Visit', False, 2),\n",
       " ('Lead Origin_Landing Page Submission', True, 1),\n",
       " ('Lead Origin_Lead Add Form', True, 1),\n",
       " ('Lead Origin_Lead Import', True, 1),\n",
       " ('Lead Origin_Quick Add Form', False, 20),\n",
       " ('What is your current occupation_Housewife', True, 1),\n",
       " ('What is your current occupation_Not Specified', True, 1),\n",
       " ('What is your current occupation_Other', True, 1),\n",
       " ('What is your current occupation_Student', True, 1),\n",
       " ('What is your current occupation_Unemployed', True, 1),\n",
       " ('What is your current occupation_Working Professional', True, 1),\n",
       " ('City_Not Specified', True, 1),\n",
       " ('City_Other Cities', False, 25),\n",
       " ('City_Other Cities of Maharashtra', False, 19),\n",
       " ('City_Other Metro Cities', False, 26),\n",
       " ('City_Select', True, 1),\n",
       " ('City_Thane & Outskirts', False, 24),\n",
       " ('City_Tier II Cities', False, 27),\n",
       " ('Specialization_Banking, Investment And Insurance', False, 3),\n",
       " ('Specialization_Business Administration', False, 10),\n",
       " ('Specialization_E-Business', True, 1),\n",
       " ('Specialization_E-COMMERCE', False, 15),\n",
       " ('Specialization_Finance Management', False, 8),\n",
       " ('Specialization_Healthcare Management', False, 12),\n",
       " ('Specialization_Hospitality Management', False, 18),\n",
       " ('Specialization_Human Resource Management', False, 9),\n",
       " ('Specialization_IT Projects Management', False, 11),\n",
       " ('Specialization_International Business', False, 6),\n",
       " ('Specialization_Marketing Management', False, 5),\n",
       " ('Specialization_Media and Advertising', False, 16),\n",
       " ('Specialization_Operations Management', False, 7),\n",
       " ('Specialization_Retail Management', False, 23),\n",
       " ('Specialization_Rural and Agribusiness', False, 4),\n",
       " ('Specialization_Select', False, 28),\n",
       " ('Specialization_Services Excellence', False, 14),\n",
       " ('Specialization_Supply Chain Management', False, 13),\n",
       " ('Specialization_Travel and Tourism', False, 30),\n",
       " ('Lead Source_Direct Traffic', True, 1),\n",
       " ('Lead Source_Google', True, 1),\n",
       " ('Lead Source_Live Chat', False, 17),\n",
       " ('Lead Source_Olark Chat', True, 1),\n",
       " ('Lead Source_Organic Search', True, 1),\n",
       " ('Lead Source_Reference', False, 29),\n",
       " ('Lead Source_Referral Sites', True, 1),\n",
       " ('Lead Source_Social Media', False, 21),\n",
       " ('Lead Source_Welingak Website', True, 1),\n",
       " ('Lead Source_google', True, 1),\n",
       " ('Last Activity_Converted to Lead', True, 1),\n",
       " ('Last Activity_Email Bounced', True, 1),\n",
       " ('Last Activity_Email Link Clicked', False, 22),\n",
       " ('Last Activity_Email Opened', True, 1),\n",
       " ('Last Activity_Form Submitted on Website', True, 1),\n",
       " ('Last Activity_Olark Chat Conversation', True, 1),\n",
       " ('Last Activity_Page Visited on Website', True, 1),\n",
       " ('Last Activity_SMS Sent', True, 1)]"
      ]
     },
     "execution_count": 151,
     "metadata": {},
     "output_type": "execute_result"
    }
   ],
   "source": [
    "list(zip(X_train.columns, rfe.support_, rfe.ranking_))"
   ]
  },
  {
   "cell_type": "code",
   "execution_count": 152,
   "id": "4f12ef12",
   "metadata": {},
   "outputs": [],
   "source": [
    "col = X_train.columns[rfe.support_]"
   ]
  },
  {
   "cell_type": "code",
   "execution_count": 153,
   "id": "100ac377",
   "metadata": {},
   "outputs": [
    {
     "data": {
      "text/plain": [
       "Index(['Page Views Per Visit', 'Lead Origin_Quick Add Form',\n",
       "       'City_Other Cities', 'City_Other Cities of Maharashtra',\n",
       "       'City_Other Metro Cities', 'City_Thane & Outskirts',\n",
       "       'City_Tier II Cities',\n",
       "       'Specialization_Banking, Investment And Insurance',\n",
       "       'Specialization_Business Administration', 'Specialization_E-COMMERCE',\n",
       "       'Specialization_Finance Management',\n",
       "       'Specialization_Healthcare Management',\n",
       "       'Specialization_Hospitality Management',\n",
       "       'Specialization_Human Resource Management',\n",
       "       'Specialization_IT Projects Management',\n",
       "       'Specialization_International Business',\n",
       "       'Specialization_Marketing Management',\n",
       "       'Specialization_Media and Advertising',\n",
       "       'Specialization_Operations Management',\n",
       "       'Specialization_Retail Management',\n",
       "       'Specialization_Rural and Agribusiness', 'Specialization_Select',\n",
       "       'Specialization_Services Excellence',\n",
       "       'Specialization_Supply Chain Management',\n",
       "       'Specialization_Travel and Tourism', 'Lead Source_Live Chat',\n",
       "       'Lead Source_Reference', 'Lead Source_Social Media',\n",
       "       'Last Activity_Email Link Clicked'],\n",
       "      dtype='object')"
      ]
     },
     "execution_count": 153,
     "metadata": {},
     "output_type": "execute_result"
    }
   ],
   "source": [
    "X_train.columns[~rfe.support_]"
   ]
  },
  {
   "cell_type": "code",
   "execution_count": 156,
   "id": "ac334ae5",
   "metadata": {},
   "outputs": [
    {
     "data": {
      "text/html": [
       "<table class=\"simpletable\">\n",
       "<caption>Generalized Linear Model Regression Results</caption>\n",
       "<tr>\n",
       "  <th>Dep. Variable:</th>       <td>Converted</td>    <th>  No. Observations:  </th>  <td>  6312</td> \n",
       "</tr>\n",
       "<tr>\n",
       "  <th>Model:</th>                  <td>GLM</td>       <th>  Df Residuals:      </th>  <td>  6283</td> \n",
       "</tr>\n",
       "<tr>\n",
       "  <th>Model Family:</th>        <td>Binomial</td>     <th>  Df Model:          </th>  <td>    28</td> \n",
       "</tr>\n",
       "<tr>\n",
       "  <th>Link Function:</th>         <td>Logit</td>      <th>  Scale:             </th> <td>  1.0000</td>\n",
       "</tr>\n",
       "<tr>\n",
       "  <th>Method:</th>                <td>IRLS</td>       <th>  Log-Likelihood:    </th> <td> -2537.2</td>\n",
       "</tr>\n",
       "<tr>\n",
       "  <th>Date:</th>            <td>Mon, 23 Jan 2023</td> <th>  Deviance:          </th> <td>  5074.3</td>\n",
       "</tr>\n",
       "<tr>\n",
       "  <th>Time:</th>                <td>17:45:50</td>     <th>  Pearson chi2:      </th> <td>6.61e+03</td>\n",
       "</tr>\n",
       "<tr>\n",
       "  <th>No. Iterations:</th>         <td>21</td>        <th>  Pseudo R-squ. (CS):</th>  <td>0.4115</td> \n",
       "</tr>\n",
       "<tr>\n",
       "  <th>Covariance Type:</th>     <td>nonrobust</td>    <th>                     </th>     <td> </td>   \n",
       "</tr>\n",
       "</table>\n",
       "<table class=\"simpletable\">\n",
       "<tr>\n",
       "                            <td></td>                              <th>coef</th>     <th>std err</th>      <th>z</th>      <th>P>|z|</th>  <th>[0.025</th>    <th>0.975]</th>  \n",
       "</tr>\n",
       "<tr>\n",
       "  <th>const</th>                                                <td>    1.6017</td> <td>    1.187</td> <td>    1.350</td> <td> 0.177</td> <td>   -0.724</td> <td>    3.928</td>\n",
       "</tr>\n",
       "<tr>\n",
       "  <th>TotalVisits</th>                                          <td>    0.1498</td> <td>    0.048</td> <td>    3.129</td> <td> 0.002</td> <td>    0.056</td> <td>    0.244</td>\n",
       "</tr>\n",
       "<tr>\n",
       "  <th>Total Time Spent on Website</th>                          <td>    1.0729</td> <td>    0.041</td> <td>   26.167</td> <td> 0.000</td> <td>    0.993</td> <td>    1.153</td>\n",
       "</tr>\n",
       "<tr>\n",
       "  <th>Lead Origin_Landing Page Submission</th>                  <td>   -0.9919</td> <td>    0.146</td> <td>   -6.776</td> <td> 0.000</td> <td>   -1.279</td> <td>   -0.705</td>\n",
       "</tr>\n",
       "<tr>\n",
       "  <th>Lead Origin_Lead Add Form</th>                            <td>    2.1226</td> <td>    0.650</td> <td>    3.265</td> <td> 0.001</td> <td>    0.849</td> <td>    3.397</td>\n",
       "</tr>\n",
       "<tr>\n",
       "  <th>Lead Origin_Lead Import</th>                              <td>   -1.5088</td> <td>    0.755</td> <td>   -1.998</td> <td> 0.046</td> <td>   -2.989</td> <td>   -0.029</td>\n",
       "</tr>\n",
       "<tr>\n",
       "  <th>What is your current occupation_Housewife</th>            <td>   21.8332</td> <td> 1.46e+04</td> <td>    0.001</td> <td> 0.999</td> <td>-2.86e+04</td> <td> 2.87e+04</td>\n",
       "</tr>\n",
       "<tr>\n",
       "  <th>What is your current occupation_Not Specified</th>        <td>   -2.2941</td> <td>    1.005</td> <td>   -2.283</td> <td> 0.022</td> <td>   -4.263</td> <td>   -0.325</td>\n",
       "</tr>\n",
       "<tr>\n",
       "  <th>What is your current occupation_Other</th>                <td>   -1.6597</td> <td>    1.296</td> <td>   -1.280</td> <td> 0.200</td> <td>   -4.200</td> <td>    0.881</td>\n",
       "</tr>\n",
       "<tr>\n",
       "  <th>What is your current occupation_Student</th>              <td>   -1.1207</td> <td>    1.025</td> <td>   -1.094</td> <td> 0.274</td> <td>   -3.129</td> <td>    0.888</td>\n",
       "</tr>\n",
       "<tr>\n",
       "  <th>What is your current occupation_Unemployed</th>           <td>   -1.0941</td> <td>    0.999</td> <td>   -1.095</td> <td> 0.274</td> <td>   -3.053</td> <td>    0.864</td>\n",
       "</tr>\n",
       "<tr>\n",
       "  <th>What is your current occupation_Working Professional</th> <td>    1.4246</td> <td>    1.015</td> <td>    1.404</td> <td> 0.160</td> <td>   -0.564</td> <td>    3.413</td>\n",
       "</tr>\n",
       "<tr>\n",
       "  <th>City_Not Specified</th>                                   <td>   -0.9646</td> <td>    0.201</td> <td>   -4.789</td> <td> 0.000</td> <td>   -1.359</td> <td>   -0.570</td>\n",
       "</tr>\n",
       "<tr>\n",
       "  <th>City_Select</th>                                          <td>   -0.7828</td> <td>    0.139</td> <td>   -5.625</td> <td> 0.000</td> <td>   -1.056</td> <td>   -0.510</td>\n",
       "</tr>\n",
       "<tr>\n",
       "  <th>Specialization_E-Business</th>                            <td>    0.5461</td> <td>    0.409</td> <td>    1.335</td> <td> 0.182</td> <td>   -0.255</td> <td>    1.348</td>\n",
       "</tr>\n",
       "<tr>\n",
       "  <th>Lead Source_Direct Traffic</th>                           <td>   -1.1673</td> <td>    0.625</td> <td>   -1.869</td> <td> 0.062</td> <td>   -2.391</td> <td>    0.057</td>\n",
       "</tr>\n",
       "<tr>\n",
       "  <th>Lead Source_Google</th>                                   <td>   -0.9463</td> <td>    0.623</td> <td>   -1.519</td> <td> 0.129</td> <td>   -2.168</td> <td>    0.275</td>\n",
       "</tr>\n",
       "<tr>\n",
       "  <th>Lead Source_Olark Chat</th>                               <td>    0.3364</td> <td>    0.633</td> <td>    0.532</td> <td> 0.595</td> <td>   -0.903</td> <td>    1.576</td>\n",
       "</tr>\n",
       "<tr>\n",
       "  <th>Lead Source_Organic Search</th>                           <td>   -1.1584</td> <td>    0.629</td> <td>   -1.841</td> <td> 0.066</td> <td>   -2.391</td> <td>    0.075</td>\n",
       "</tr>\n",
       "<tr>\n",
       "  <th>Lead Source_Referral Sites</th>                           <td>   -1.3905</td> <td>    0.720</td> <td>   -1.932</td> <td> 0.053</td> <td>   -2.801</td> <td>    0.020</td>\n",
       "</tr>\n",
       "<tr>\n",
       "  <th>Lead Source_Welingak Website</th>                         <td>    3.0128</td> <td>    1.035</td> <td>    2.912</td> <td> 0.004</td> <td>    0.985</td> <td>    5.040</td>\n",
       "</tr>\n",
       "<tr>\n",
       "  <th>Lead Source_google</th>                                   <td>  -21.2287</td> <td> 2.54e+04</td> <td>   -0.001</td> <td> 0.999</td> <td>-4.99e+04</td> <td> 4.98e+04</td>\n",
       "</tr>\n",
       "<tr>\n",
       "  <th>Last Activity_Converted to Lead</th>                      <td>   -0.4751</td> <td>    0.253</td> <td>   -1.881</td> <td> 0.060</td> <td>   -0.970</td> <td>    0.020</td>\n",
       "</tr>\n",
       "<tr>\n",
       "  <th>Last Activity_Email Bounced</th>                          <td>   -1.8378</td> <td>    0.372</td> <td>   -4.945</td> <td> 0.000</td> <td>   -2.566</td> <td>   -1.109</td>\n",
       "</tr>\n",
       "<tr>\n",
       "  <th>Last Activity_Email Opened</th>                           <td>    0.3555</td> <td>    0.159</td> <td>    2.241</td> <td> 0.025</td> <td>    0.045</td> <td>    0.666</td>\n",
       "</tr>\n",
       "<tr>\n",
       "  <th>Last Activity_Form Submitted on Website</th>              <td>   -0.5627</td> <td>    0.369</td> <td>   -1.526</td> <td> 0.127</td> <td>   -1.285</td> <td>    0.160</td>\n",
       "</tr>\n",
       "<tr>\n",
       "  <th>Last Activity_Olark Chat Conversation</th>                <td>   -1.1107</td> <td>    0.221</td> <td>   -5.024</td> <td> 0.000</td> <td>   -1.544</td> <td>   -0.677</td>\n",
       "</tr>\n",
       "<tr>\n",
       "  <th>Last Activity_Page Visited on Website</th>                <td>   -0.2855</td> <td>    0.215</td> <td>   -1.327</td> <td> 0.185</td> <td>   -0.707</td> <td>    0.136</td>\n",
       "</tr>\n",
       "<tr>\n",
       "  <th>Last Activity_SMS Sent</th>                               <td>    1.5015</td> <td>    0.161</td> <td>    9.352</td> <td> 0.000</td> <td>    1.187</td> <td>    1.816</td>\n",
       "</tr>\n",
       "</table>"
      ],
      "text/plain": [
       "<class 'statsmodels.iolib.summary.Summary'>\n",
       "\"\"\"\n",
       "                 Generalized Linear Model Regression Results                  \n",
       "==============================================================================\n",
       "Dep. Variable:              Converted   No. Observations:                 6312\n",
       "Model:                            GLM   Df Residuals:                     6283\n",
       "Model Family:                Binomial   Df Model:                           28\n",
       "Link Function:                  Logit   Scale:                          1.0000\n",
       "Method:                          IRLS   Log-Likelihood:                -2537.2\n",
       "Date:                Mon, 23 Jan 2023   Deviance:                       5074.3\n",
       "Time:                        17:45:50   Pearson chi2:                 6.61e+03\n",
       "No. Iterations:                    21   Pseudo R-squ. (CS):             0.4115\n",
       "Covariance Type:            nonrobust                                         \n",
       "========================================================================================================================\n",
       "                                                           coef    std err          z      P>|z|      [0.025      0.975]\n",
       "------------------------------------------------------------------------------------------------------------------------\n",
       "const                                                    1.6017      1.187      1.350      0.177      -0.724       3.928\n",
       "TotalVisits                                              0.1498      0.048      3.129      0.002       0.056       0.244\n",
       "Total Time Spent on Website                              1.0729      0.041     26.167      0.000       0.993       1.153\n",
       "Lead Origin_Landing Page Submission                     -0.9919      0.146     -6.776      0.000      -1.279      -0.705\n",
       "Lead Origin_Lead Add Form                                2.1226      0.650      3.265      0.001       0.849       3.397\n",
       "Lead Origin_Lead Import                                 -1.5088      0.755     -1.998      0.046      -2.989      -0.029\n",
       "What is your current occupation_Housewife               21.8332   1.46e+04      0.001      0.999   -2.86e+04    2.87e+04\n",
       "What is your current occupation_Not Specified           -2.2941      1.005     -2.283      0.022      -4.263      -0.325\n",
       "What is your current occupation_Other                   -1.6597      1.296     -1.280      0.200      -4.200       0.881\n",
       "What is your current occupation_Student                 -1.1207      1.025     -1.094      0.274      -3.129       0.888\n",
       "What is your current occupation_Unemployed              -1.0941      0.999     -1.095      0.274      -3.053       0.864\n",
       "What is your current occupation_Working Professional     1.4246      1.015      1.404      0.160      -0.564       3.413\n",
       "City_Not Specified                                      -0.9646      0.201     -4.789      0.000      -1.359      -0.570\n",
       "City_Select                                             -0.7828      0.139     -5.625      0.000      -1.056      -0.510\n",
       "Specialization_E-Business                                0.5461      0.409      1.335      0.182      -0.255       1.348\n",
       "Lead Source_Direct Traffic                              -1.1673      0.625     -1.869      0.062      -2.391       0.057\n",
       "Lead Source_Google                                      -0.9463      0.623     -1.519      0.129      -2.168       0.275\n",
       "Lead Source_Olark Chat                                   0.3364      0.633      0.532      0.595      -0.903       1.576\n",
       "Lead Source_Organic Search                              -1.1584      0.629     -1.841      0.066      -2.391       0.075\n",
       "Lead Source_Referral Sites                              -1.3905      0.720     -1.932      0.053      -2.801       0.020\n",
       "Lead Source_Welingak Website                             3.0128      1.035      2.912      0.004       0.985       5.040\n",
       "Lead Source_google                                     -21.2287   2.54e+04     -0.001      0.999   -4.99e+04    4.98e+04\n",
       "Last Activity_Converted to Lead                         -0.4751      0.253     -1.881      0.060      -0.970       0.020\n",
       "Last Activity_Email Bounced                             -1.8378      0.372     -4.945      0.000      -2.566      -1.109\n",
       "Last Activity_Email Opened                               0.3555      0.159      2.241      0.025       0.045       0.666\n",
       "Last Activity_Form Submitted on Website                 -0.5627      0.369     -1.526      0.127      -1.285       0.160\n",
       "Last Activity_Olark Chat Conversation                   -1.1107      0.221     -5.024      0.000      -1.544      -0.677\n",
       "Last Activity_Page Visited on Website                   -0.2855      0.215     -1.327      0.185      -0.707       0.136\n",
       "Last Activity_SMS Sent                                   1.5015      0.161      9.352      0.000       1.187       1.816\n",
       "========================================================================================================================\n",
       "\"\"\""
      ]
     },
     "execution_count": 156,
     "metadata": {},
     "output_type": "execute_result"
    }
   ],
   "source": [
    "#accessing the model with stats model \n",
    "import statsmodels.api as sm\n",
    "X_train_sm = sm.add_constant(X_train[col])\n",
    "logm2 = sm.GLM(y_train,X_train_sm, family = sm.families.Binomial())\n",
    "res = logm2.fit()\n",
    "res.summary()"
   ]
  },
  {
   "cell_type": "code",
   "execution_count": 157,
   "id": "6802fec1",
   "metadata": {},
   "outputs": [],
   "source": [
    "#Removing columns having high P > |Z| values \n",
    "col = col.drop('What is your current occupation_Housewife',1)\n",
    "col = col.drop('Lead Source_google',1)\n",
    "col = col.drop('Lead Source_Olark Chat',1)\n",
    "col = col.drop('What is your current occupation_Student',1)\n",
    "col = col.drop('What is your current occupation_Unemployed',1)\n",
    "col = col.drop('What is your current occupation_Other',1)\n",
    "col = col.drop('Last Activity_Page Visited on Website',1)\n",
    "col = col.drop('What is your current occupation_Working Professional',1)\n",
    "col = col.drop('Specialization_E-Business',1)"
   ]
  },
  {
   "cell_type": "code",
   "execution_count": 158,
   "id": "13e7b5b0",
   "metadata": {},
   "outputs": [
    {
     "data": {
      "text/html": [
       "<table class=\"simpletable\">\n",
       "<caption>Generalized Linear Model Regression Results</caption>\n",
       "<tr>\n",
       "  <th>Dep. Variable:</th>       <td>Converted</td>    <th>  No. Observations:  </th>  <td>  6312</td> \n",
       "</tr>\n",
       "<tr>\n",
       "  <th>Model:</th>                  <td>GLM</td>       <th>  Df Residuals:      </th>  <td>  6292</td> \n",
       "</tr>\n",
       "<tr>\n",
       "  <th>Model Family:</th>        <td>Binomial</td>     <th>  Df Model:          </th>  <td>    19</td> \n",
       "</tr>\n",
       "<tr>\n",
       "  <th>Link Function:</th>         <td>Logit</td>      <th>  Scale:             </th> <td>  1.0000</td>\n",
       "</tr>\n",
       "<tr>\n",
       "  <th>Method:</th>                <td>IRLS</td>       <th>  Log-Likelihood:    </th> <td> -2678.6</td>\n",
       "</tr>\n",
       "<tr>\n",
       "  <th>Date:</th>            <td>Mon, 23 Jan 2023</td> <th>  Deviance:          </th> <td>  5357.1</td>\n",
       "</tr>\n",
       "<tr>\n",
       "  <th>Time:</th>                <td>18:05:58</td>     <th>  Pearson chi2:      </th> <td>6.26e+03</td>\n",
       "</tr>\n",
       "<tr>\n",
       "  <th>No. Iterations:</th>          <td>7</td>        <th>  Pseudo R-squ. (CS):</th>  <td>0.3845</td> \n",
       "</tr>\n",
       "<tr>\n",
       "  <th>Covariance Type:</th>     <td>nonrobust</td>    <th>                     </th>     <td> </td>   \n",
       "</tr>\n",
       "</table>\n",
       "<table class=\"simpletable\">\n",
       "<tr>\n",
       "                        <td></td>                           <th>coef</th>     <th>std err</th>      <th>z</th>      <th>P>|z|</th>  <th>[0.025</th>    <th>0.975]</th>  \n",
       "</tr>\n",
       "<tr>\n",
       "  <th>const</th>                                         <td>    0.8377</td> <td>    0.173</td> <td>    4.841</td> <td> 0.000</td> <td>    0.499</td> <td>    1.177</td>\n",
       "</tr>\n",
       "<tr>\n",
       "  <th>TotalVisits</th>                                   <td>    0.1272</td> <td>    0.046</td> <td>    2.759</td> <td> 0.006</td> <td>    0.037</td> <td>    0.217</td>\n",
       "</tr>\n",
       "<tr>\n",
       "  <th>Total Time Spent on Website</th>                   <td>    1.0734</td> <td>    0.040</td> <td>   26.922</td> <td> 0.000</td> <td>    0.995</td> <td>    1.152</td>\n",
       "</tr>\n",
       "<tr>\n",
       "  <th>Lead Origin_Landing Page Submission</th>           <td>   -0.9446</td> <td>    0.141</td> <td>   -6.686</td> <td> 0.000</td> <td>   -1.222</td> <td>   -0.668</td>\n",
       "</tr>\n",
       "<tr>\n",
       "  <th>Lead Origin_Lead Add Form</th>                     <td>    2.0693</td> <td>    0.206</td> <td>   10.055</td> <td> 0.000</td> <td>    1.666</td> <td>    2.473</td>\n",
       "</tr>\n",
       "<tr>\n",
       "  <th>Lead Origin_Lead Import</th>                       <td>   -1.7444</td> <td>    0.417</td> <td>   -4.183</td> <td> 0.000</td> <td>   -2.562</td> <td>   -0.927</td>\n",
       "</tr>\n",
       "<tr>\n",
       "  <th>What is your current occupation_Not Specified</th> <td>   -1.4268</td> <td>    0.116</td> <td>  -12.274</td> <td> 0.000</td> <td>   -1.655</td> <td>   -1.199</td>\n",
       "</tr>\n",
       "<tr>\n",
       "  <th>City_Not Specified</th>                            <td>   -0.9170</td> <td>    0.199</td> <td>   -4.604</td> <td> 0.000</td> <td>   -1.307</td> <td>   -0.527</td>\n",
       "</tr>\n",
       "<tr>\n",
       "  <th>City_Select</th>                                   <td>   -0.8326</td> <td>    0.136</td> <td>   -6.134</td> <td> 0.000</td> <td>   -1.099</td> <td>   -0.567</td>\n",
       "</tr>\n",
       "<tr>\n",
       "  <th>Lead Source_Direct Traffic</th>                    <td>   -1.4726</td> <td>    0.151</td> <td>   -9.783</td> <td> 0.000</td> <td>   -1.768</td> <td>   -1.178</td>\n",
       "</tr>\n",
       "<tr>\n",
       "  <th>Lead Source_Google</th>                            <td>   -1.2300</td> <td>    0.135</td> <td>   -9.132</td> <td> 0.000</td> <td>   -1.494</td> <td>   -0.966</td>\n",
       "</tr>\n",
       "<tr>\n",
       "  <th>Lead Source_Organic Search</th>                    <td>   -1.4313</td> <td>    0.163</td> <td>   -8.784</td> <td> 0.000</td> <td>   -1.751</td> <td>   -1.112</td>\n",
       "</tr>\n",
       "<tr>\n",
       "  <th>Lead Source_Referral Sites</th>                    <td>   -1.4983</td> <td>    0.352</td> <td>   -4.257</td> <td> 0.000</td> <td>   -2.188</td> <td>   -0.809</td>\n",
       "</tr>\n",
       "<tr>\n",
       "  <th>Lead Source_Welingak Website</th>                  <td>    2.6220</td> <td>    1.033</td> <td>    2.538</td> <td> 0.011</td> <td>    0.597</td> <td>    4.647</td>\n",
       "</tr>\n",
       "<tr>\n",
       "  <th>Last Activity_Converted to Lead</th>               <td>   -0.3203</td> <td>    0.222</td> <td>   -1.444</td> <td> 0.149</td> <td>   -0.755</td> <td>    0.115</td>\n",
       "</tr>\n",
       "<tr>\n",
       "  <th>Last Activity_Email Bounced</th>                   <td>   -1.6647</td> <td>    0.347</td> <td>   -4.793</td> <td> 0.000</td> <td>   -2.345</td> <td>   -0.984</td>\n",
       "</tr>\n",
       "<tr>\n",
       "  <th>Last Activity_Email Opened</th>                    <td>    0.5048</td> <td>    0.115</td> <td>    4.371</td> <td> 0.000</td> <td>    0.278</td> <td>    0.731</td>\n",
       "</tr>\n",
       "<tr>\n",
       "  <th>Last Activity_Form Submitted on Website</th>       <td>   -0.2241</td> <td>    0.334</td> <td>   -0.671</td> <td> 0.502</td> <td>   -0.878</td> <td>    0.430</td>\n",
       "</tr>\n",
       "<tr>\n",
       "  <th>Last Activity_Olark Chat Conversation</th>         <td>   -0.9978</td> <td>    0.192</td> <td>   -5.197</td> <td> 0.000</td> <td>   -1.374</td> <td>   -0.622</td>\n",
       "</tr>\n",
       "<tr>\n",
       "  <th>Last Activity_SMS Sent</th>                        <td>    1.6564</td> <td>    0.118</td> <td>   13.990</td> <td> 0.000</td> <td>    1.424</td> <td>    1.888</td>\n",
       "</tr>\n",
       "</table>"
      ],
      "text/plain": [
       "<class 'statsmodels.iolib.summary.Summary'>\n",
       "\"\"\"\n",
       "                 Generalized Linear Model Regression Results                  \n",
       "==============================================================================\n",
       "Dep. Variable:              Converted   No. Observations:                 6312\n",
       "Model:                            GLM   Df Residuals:                     6292\n",
       "Model Family:                Binomial   Df Model:                           19\n",
       "Link Function:                  Logit   Scale:                          1.0000\n",
       "Method:                          IRLS   Log-Likelihood:                -2678.6\n",
       "Date:                Mon, 23 Jan 2023   Deviance:                       5357.1\n",
       "Time:                        18:05:58   Pearson chi2:                 6.26e+03\n",
       "No. Iterations:                     7   Pseudo R-squ. (CS):             0.3845\n",
       "Covariance Type:            nonrobust                                         \n",
       "=================================================================================================================\n",
       "                                                    coef    std err          z      P>|z|      [0.025      0.975]\n",
       "-----------------------------------------------------------------------------------------------------------------\n",
       "const                                             0.8377      0.173      4.841      0.000       0.499       1.177\n",
       "TotalVisits                                       0.1272      0.046      2.759      0.006       0.037       0.217\n",
       "Total Time Spent on Website                       1.0734      0.040     26.922      0.000       0.995       1.152\n",
       "Lead Origin_Landing Page Submission              -0.9446      0.141     -6.686      0.000      -1.222      -0.668\n",
       "Lead Origin_Lead Add Form                         2.0693      0.206     10.055      0.000       1.666       2.473\n",
       "Lead Origin_Lead Import                          -1.7444      0.417     -4.183      0.000      -2.562      -0.927\n",
       "What is your current occupation_Not Specified    -1.4268      0.116    -12.274      0.000      -1.655      -1.199\n",
       "City_Not Specified                               -0.9170      0.199     -4.604      0.000      -1.307      -0.527\n",
       "City_Select                                      -0.8326      0.136     -6.134      0.000      -1.099      -0.567\n",
       "Lead Source_Direct Traffic                       -1.4726      0.151     -9.783      0.000      -1.768      -1.178\n",
       "Lead Source_Google                               -1.2300      0.135     -9.132      0.000      -1.494      -0.966\n",
       "Lead Source_Organic Search                       -1.4313      0.163     -8.784      0.000      -1.751      -1.112\n",
       "Lead Source_Referral Sites                       -1.4983      0.352     -4.257      0.000      -2.188      -0.809\n",
       "Lead Source_Welingak Website                      2.6220      1.033      2.538      0.011       0.597       4.647\n",
       "Last Activity_Converted to Lead                  -0.3203      0.222     -1.444      0.149      -0.755       0.115\n",
       "Last Activity_Email Bounced                      -1.6647      0.347     -4.793      0.000      -2.345      -0.984\n",
       "Last Activity_Email Opened                        0.5048      0.115      4.371      0.000       0.278       0.731\n",
       "Last Activity_Form Submitted on Website          -0.2241      0.334     -0.671      0.502      -0.878       0.430\n",
       "Last Activity_Olark Chat Conversation            -0.9978      0.192     -5.197      0.000      -1.374      -0.622\n",
       "Last Activity_SMS Sent                            1.6564      0.118     13.990      0.000       1.424       1.888\n",
       "=================================================================================================================\n",
       "\"\"\""
      ]
     },
     "execution_count": 158,
     "metadata": {},
     "output_type": "execute_result"
    }
   ],
   "source": [
    "X_train_sm = sm.add_constant(X_train[col])\n",
    "logm2 = sm.GLM(y_train,X_train_sm, family = sm.families.Binomial())\n",
    "res = logm2.fit()\n",
    "res.summary()"
   ]
  },
  {
   "cell_type": "code",
   "execution_count": 159,
   "id": "c8c5b3fb",
   "metadata": {},
   "outputs": [],
   "source": [
    "col = col.drop('Last Activity_Form Submitted on Website',1)\n",
    "col = col.drop('Last Activity_Converted to Lead',1)"
   ]
  },
  {
   "cell_type": "code",
   "execution_count": 160,
   "id": "d6669178",
   "metadata": {},
   "outputs": [
    {
     "data": {
      "text/html": [
       "<table class=\"simpletable\">\n",
       "<caption>Generalized Linear Model Regression Results</caption>\n",
       "<tr>\n",
       "  <th>Dep. Variable:</th>       <td>Converted</td>    <th>  No. Observations:  </th>  <td>  6312</td> \n",
       "</tr>\n",
       "<tr>\n",
       "  <th>Model:</th>                  <td>GLM</td>       <th>  Df Residuals:      </th>  <td>  6294</td> \n",
       "</tr>\n",
       "<tr>\n",
       "  <th>Model Family:</th>        <td>Binomial</td>     <th>  Df Model:          </th>  <td>    17</td> \n",
       "</tr>\n",
       "<tr>\n",
       "  <th>Link Function:</th>         <td>Logit</td>      <th>  Scale:             </th> <td>  1.0000</td>\n",
       "</tr>\n",
       "<tr>\n",
       "  <th>Method:</th>                <td>IRLS</td>       <th>  Log-Likelihood:    </th> <td> -2679.7</td>\n",
       "</tr>\n",
       "<tr>\n",
       "  <th>Date:</th>            <td>Mon, 23 Jan 2023</td> <th>  Deviance:          </th> <td>  5359.5</td>\n",
       "</tr>\n",
       "<tr>\n",
       "  <th>Time:</th>                <td>18:07:30</td>     <th>  Pearson chi2:      </th> <td>6.27e+03</td>\n",
       "</tr>\n",
       "<tr>\n",
       "  <th>No. Iterations:</th>          <td>7</td>        <th>  Pseudo R-squ. (CS):</th>  <td>0.3843</td> \n",
       "</tr>\n",
       "<tr>\n",
       "  <th>Covariance Type:</th>     <td>nonrobust</td>    <th>                     </th>     <td> </td>   \n",
       "</tr>\n",
       "</table>\n",
       "<table class=\"simpletable\">\n",
       "<tr>\n",
       "                        <td></td>                           <th>coef</th>     <th>std err</th>      <th>z</th>      <th>P>|z|</th>  <th>[0.025</th>    <th>0.975]</th>  \n",
       "</tr>\n",
       "<tr>\n",
       "  <th>const</th>                                         <td>    0.7699</td> <td>    0.167</td> <td>    4.623</td> <td> 0.000</td> <td>    0.443</td> <td>    1.096</td>\n",
       "</tr>\n",
       "<tr>\n",
       "  <th>TotalVisits</th>                                   <td>    0.1426</td> <td>    0.045</td> <td>    3.171</td> <td> 0.002</td> <td>    0.054</td> <td>    0.231</td>\n",
       "</tr>\n",
       "<tr>\n",
       "  <th>Total Time Spent on Website</th>                   <td>    1.0743</td> <td>    0.040</td> <td>   26.957</td> <td> 0.000</td> <td>    0.996</td> <td>    1.152</td>\n",
       "</tr>\n",
       "<tr>\n",
       "  <th>Lead Origin_Landing Page Submission</th>           <td>   -0.9401</td> <td>    0.141</td> <td>   -6.666</td> <td> 0.000</td> <td>   -1.217</td> <td>   -0.664</td>\n",
       "</tr>\n",
       "<tr>\n",
       "  <th>Lead Origin_Lead Add Form</th>                     <td>    2.0771</td> <td>    0.206</td> <td>   10.088</td> <td> 0.000</td> <td>    1.674</td> <td>    2.481</td>\n",
       "</tr>\n",
       "<tr>\n",
       "  <th>Lead Origin_Lead Import</th>                       <td>   -1.7304</td> <td>    0.417</td> <td>   -4.151</td> <td> 0.000</td> <td>   -2.547</td> <td>   -0.913</td>\n",
       "</tr>\n",
       "<tr>\n",
       "  <th>What is your current occupation_Not Specified</th> <td>   -1.4296</td> <td>    0.116</td> <td>  -12.295</td> <td> 0.000</td> <td>   -1.657</td> <td>   -1.202</td>\n",
       "</tr>\n",
       "<tr>\n",
       "  <th>City_Not Specified</th>                            <td>   -0.9097</td> <td>    0.199</td> <td>   -4.580</td> <td> 0.000</td> <td>   -1.299</td> <td>   -0.520</td>\n",
       "</tr>\n",
       "<tr>\n",
       "  <th>City_Select</th>                                   <td>   -0.8272</td> <td>    0.135</td> <td>   -6.119</td> <td> 0.000</td> <td>   -1.092</td> <td>   -0.562</td>\n",
       "</tr>\n",
       "<tr>\n",
       "  <th>Lead Source_Direct Traffic</th>                    <td>   -1.5041</td> <td>    0.149</td> <td>  -10.089</td> <td> 0.000</td> <td>   -1.796</td> <td>   -1.212</td>\n",
       "</tr>\n",
       "<tr>\n",
       "  <th>Lead Source_Google</th>                            <td>   -1.2606</td> <td>    0.133</td> <td>   -9.456</td> <td> 0.000</td> <td>   -1.522</td> <td>   -0.999</td>\n",
       "</tr>\n",
       "<tr>\n",
       "  <th>Lead Source_Organic Search</th>                    <td>   -1.4709</td> <td>    0.161</td> <td>   -9.147</td> <td> 0.000</td> <td>   -1.786</td> <td>   -1.156</td>\n",
       "</tr>\n",
       "<tr>\n",
       "  <th>Lead Source_Referral Sites</th>                    <td>   -1.5307</td> <td>    0.351</td> <td>   -4.358</td> <td> 0.000</td> <td>   -2.219</td> <td>   -0.842</td>\n",
       "</tr>\n",
       "<tr>\n",
       "  <th>Lead Source_Welingak Website</th>                  <td>    2.6186</td> <td>    1.033</td> <td>    2.535</td> <td> 0.011</td> <td>    0.594</td> <td>    4.643</td>\n",
       "</tr>\n",
       "<tr>\n",
       "  <th>Last Activity_Email Bounced</th>                   <td>   -1.5757</td> <td>    0.343</td> <td>   -4.592</td> <td> 0.000</td> <td>   -2.248</td> <td>   -0.903</td>\n",
       "</tr>\n",
       "<tr>\n",
       "  <th>Last Activity_Email Opened</th>                    <td>    0.5907</td> <td>    0.101</td> <td>    5.830</td> <td> 0.000</td> <td>    0.392</td> <td>    0.789</td>\n",
       "</tr>\n",
       "<tr>\n",
       "  <th>Last Activity_Olark Chat Conversation</th>         <td>   -0.9153</td> <td>    0.185</td> <td>   -4.958</td> <td> 0.000</td> <td>   -1.277</td> <td>   -0.553</td>\n",
       "</tr>\n",
       "<tr>\n",
       "  <th>Last Activity_SMS Sent</th>                        <td>    1.7440</td> <td>    0.104</td> <td>   16.747</td> <td> 0.000</td> <td>    1.540</td> <td>    1.948</td>\n",
       "</tr>\n",
       "</table>"
      ],
      "text/plain": [
       "<class 'statsmodels.iolib.summary.Summary'>\n",
       "\"\"\"\n",
       "                 Generalized Linear Model Regression Results                  \n",
       "==============================================================================\n",
       "Dep. Variable:              Converted   No. Observations:                 6312\n",
       "Model:                            GLM   Df Residuals:                     6294\n",
       "Model Family:                Binomial   Df Model:                           17\n",
       "Link Function:                  Logit   Scale:                          1.0000\n",
       "Method:                          IRLS   Log-Likelihood:                -2679.7\n",
       "Date:                Mon, 23 Jan 2023   Deviance:                       5359.5\n",
       "Time:                        18:07:30   Pearson chi2:                 6.27e+03\n",
       "No. Iterations:                     7   Pseudo R-squ. (CS):             0.3843\n",
       "Covariance Type:            nonrobust                                         \n",
       "=================================================================================================================\n",
       "                                                    coef    std err          z      P>|z|      [0.025      0.975]\n",
       "-----------------------------------------------------------------------------------------------------------------\n",
       "const                                             0.7699      0.167      4.623      0.000       0.443       1.096\n",
       "TotalVisits                                       0.1426      0.045      3.171      0.002       0.054       0.231\n",
       "Total Time Spent on Website                       1.0743      0.040     26.957      0.000       0.996       1.152\n",
       "Lead Origin_Landing Page Submission              -0.9401      0.141     -6.666      0.000      -1.217      -0.664\n",
       "Lead Origin_Lead Add Form                         2.0771      0.206     10.088      0.000       1.674       2.481\n",
       "Lead Origin_Lead Import                          -1.7304      0.417     -4.151      0.000      -2.547      -0.913\n",
       "What is your current occupation_Not Specified    -1.4296      0.116    -12.295      0.000      -1.657      -1.202\n",
       "City_Not Specified                               -0.9097      0.199     -4.580      0.000      -1.299      -0.520\n",
       "City_Select                                      -0.8272      0.135     -6.119      0.000      -1.092      -0.562\n",
       "Lead Source_Direct Traffic                       -1.5041      0.149    -10.089      0.000      -1.796      -1.212\n",
       "Lead Source_Google                               -1.2606      0.133     -9.456      0.000      -1.522      -0.999\n",
       "Lead Source_Organic Search                       -1.4709      0.161     -9.147      0.000      -1.786      -1.156\n",
       "Lead Source_Referral Sites                       -1.5307      0.351     -4.358      0.000      -2.219      -0.842\n",
       "Lead Source_Welingak Website                      2.6186      1.033      2.535      0.011       0.594       4.643\n",
       "Last Activity_Email Bounced                      -1.5757      0.343     -4.592      0.000      -2.248      -0.903\n",
       "Last Activity_Email Opened                        0.5907      0.101      5.830      0.000       0.392       0.789\n",
       "Last Activity_Olark Chat Conversation            -0.9153      0.185     -4.958      0.000      -1.277      -0.553\n",
       "Last Activity_SMS Sent                            1.7440      0.104     16.747      0.000       1.540       1.948\n",
       "=================================================================================================================\n",
       "\"\"\""
      ]
     },
     "execution_count": 160,
     "metadata": {},
     "output_type": "execute_result"
    }
   ],
   "source": [
    "X_train_sm = sm.add_constant(X_train[col])\n",
    "logm2 = sm.GLM(y_train,X_train_sm, family = sm.families.Binomial())\n",
    "res = logm2.fit()\n",
    "res.summary()"
   ]
  },
  {
   "cell_type": "code",
   "execution_count": 161,
   "id": "7e123605",
   "metadata": {},
   "outputs": [
    {
     "data": {
      "text/plain": [
       "2853    0.764020\n",
       "6804    0.018956\n",
       "6591    0.567853\n",
       "4922    0.494382\n",
       "5931    0.552943\n",
       "7110    0.213823\n",
       "7910    0.666401\n",
       "4719    0.760392\n",
       "5806    0.934133\n",
       "874     0.835199\n",
       "dtype: float64"
      ]
     },
     "execution_count": 161,
     "metadata": {},
     "output_type": "execute_result"
    }
   ],
   "source": [
    "# Getting the predicted values on the train set\n",
    "y_train_pred = res.predict(X_train_sm)\n",
    "y_train_pred[:10]"
   ]
  },
  {
   "cell_type": "code",
   "execution_count": 162,
   "id": "6478d82b",
   "metadata": {},
   "outputs": [
    {
     "data": {
      "text/plain": [
       "array([0.76401953, 0.01895574, 0.56785258, 0.49438163, 0.55294298,\n",
       "       0.21382251, 0.66640089, 0.76039229, 0.93413253, 0.83519868])"
      ]
     },
     "execution_count": 162,
     "metadata": {},
     "output_type": "execute_result"
    }
   ],
   "source": [
    "y_train_pred = y_train_pred.values.reshape(-1)\n",
    "y_train_pred[:10]"
   ]
  },
  {
   "cell_type": "code",
   "execution_count": 164,
   "id": "669a326c",
   "metadata": {},
   "outputs": [
    {
     "data": {
      "text/html": [
       "<div>\n",
       "<style scoped>\n",
       "    .dataframe tbody tr th:only-of-type {\n",
       "        vertical-align: middle;\n",
       "    }\n",
       "\n",
       "    .dataframe tbody tr th {\n",
       "        vertical-align: top;\n",
       "    }\n",
       "\n",
       "    .dataframe thead th {\n",
       "        text-align: right;\n",
       "    }\n",
       "</style>\n",
       "<table border=\"1\" class=\"dataframe\">\n",
       "  <thead>\n",
       "    <tr style=\"text-align: right;\">\n",
       "      <th></th>\n",
       "      <th>Converted</th>\n",
       "      <th>Converted_Prob</th>\n",
       "      <th>CustID</th>\n",
       "    </tr>\n",
       "  </thead>\n",
       "  <tbody>\n",
       "    <tr>\n",
       "      <th>0</th>\n",
       "      <td>1</td>\n",
       "      <td>0.764020</td>\n",
       "      <td>2853</td>\n",
       "    </tr>\n",
       "    <tr>\n",
       "      <th>1</th>\n",
       "      <td>0</td>\n",
       "      <td>0.018956</td>\n",
       "      <td>6804</td>\n",
       "    </tr>\n",
       "    <tr>\n",
       "      <th>2</th>\n",
       "      <td>1</td>\n",
       "      <td>0.567853</td>\n",
       "      <td>6591</td>\n",
       "    </tr>\n",
       "    <tr>\n",
       "      <th>3</th>\n",
       "      <td>1</td>\n",
       "      <td>0.494382</td>\n",
       "      <td>4922</td>\n",
       "    </tr>\n",
       "    <tr>\n",
       "      <th>4</th>\n",
       "      <td>1</td>\n",
       "      <td>0.552943</td>\n",
       "      <td>5931</td>\n",
       "    </tr>\n",
       "  </tbody>\n",
       "</table>\n",
       "</div>"
      ],
      "text/plain": [
       "   Converted  Converted_Prob  CustID\n",
       "0          1        0.764020    2853\n",
       "1          0        0.018956    6804\n",
       "2          1        0.567853    6591\n",
       "3          1        0.494382    4922\n",
       "4          1        0.552943    5931"
      ]
     },
     "execution_count": 164,
     "metadata": {},
     "output_type": "execute_result"
    }
   ],
   "source": [
    "#creating new dataframe for predicted value\n",
    "y_train_pred_final = pd.DataFrame({'Converted':y_train.values, 'Converted_Prob':y_train_pred})\n",
    "y_train_pred_final['CustID'] = y_train.index\n",
    "y_train_pred_final.head()"
   ]
  },
  {
   "cell_type": "code",
   "execution_count": 165,
   "id": "ca3d7270",
   "metadata": {},
   "outputs": [
    {
     "data": {
      "text/html": [
       "<div>\n",
       "<style scoped>\n",
       "    .dataframe tbody tr th:only-of-type {\n",
       "        vertical-align: middle;\n",
       "    }\n",
       "\n",
       "    .dataframe tbody tr th {\n",
       "        vertical-align: top;\n",
       "    }\n",
       "\n",
       "    .dataframe thead th {\n",
       "        text-align: right;\n",
       "    }\n",
       "</style>\n",
       "<table border=\"1\" class=\"dataframe\">\n",
       "  <thead>\n",
       "    <tr style=\"text-align: right;\">\n",
       "      <th></th>\n",
       "      <th>Converted</th>\n",
       "      <th>Converted_Prob</th>\n",
       "      <th>CustID</th>\n",
       "      <th>predicted</th>\n",
       "    </tr>\n",
       "  </thead>\n",
       "  <tbody>\n",
       "    <tr>\n",
       "      <th>0</th>\n",
       "      <td>1</td>\n",
       "      <td>0.764020</td>\n",
       "      <td>2853</td>\n",
       "      <td>1</td>\n",
       "    </tr>\n",
       "    <tr>\n",
       "      <th>1</th>\n",
       "      <td>0</td>\n",
       "      <td>0.018956</td>\n",
       "      <td>6804</td>\n",
       "      <td>0</td>\n",
       "    </tr>\n",
       "    <tr>\n",
       "      <th>2</th>\n",
       "      <td>1</td>\n",
       "      <td>0.567853</td>\n",
       "      <td>6591</td>\n",
       "      <td>1</td>\n",
       "    </tr>\n",
       "    <tr>\n",
       "      <th>3</th>\n",
       "      <td>1</td>\n",
       "      <td>0.494382</td>\n",
       "      <td>4922</td>\n",
       "      <td>0</td>\n",
       "    </tr>\n",
       "    <tr>\n",
       "      <th>4</th>\n",
       "      <td>1</td>\n",
       "      <td>0.552943</td>\n",
       "      <td>5931</td>\n",
       "      <td>1</td>\n",
       "    </tr>\n",
       "  </tbody>\n",
       "</table>\n",
       "</div>"
      ],
      "text/plain": [
       "   Converted  Converted_Prob  CustID  predicted\n",
       "0          1        0.764020    2853          1\n",
       "1          0        0.018956    6804          0\n",
       "2          1        0.567853    6591          1\n",
       "3          1        0.494382    4922          0\n",
       "4          1        0.552943    5931          1"
      ]
     },
     "execution_count": 165,
     "metadata": {},
     "output_type": "execute_result"
    }
   ],
   "source": [
    "y_train_pred_final['predicted'] = y_train_pred_final.Converted_Prob.map(lambda x: 1 if x > 0.5 else 0)\n",
    "\n",
    "# Let's see the head\n",
    "y_train_pred_final.head()"
   ]
  },
  {
   "cell_type": "code",
   "execution_count": 167,
   "id": "653bb7a6",
   "metadata": {},
   "outputs": [],
   "source": [
    "from sklearn import metrics"
   ]
  },
  {
   "cell_type": "code",
   "execution_count": 171,
   "id": "079ead08",
   "metadata": {},
   "outputs": [
    {
     "name": "stdout",
     "output_type": "stream",
     "text": [
      "[[3390  484]\n",
      " [ 721 1717]]\n"
     ]
    }
   ],
   "source": [
    "# Confusion matrix \n",
    "confusion = metrics.confusion_matrix(y_train_pred_final.Converted, y_train_pred_final.predicted )\n",
    "print(confusion)"
   ]
  },
  {
   "cell_type": "code",
   "execution_count": 169,
   "id": "422181af",
   "metadata": {},
   "outputs": [
    {
     "name": "stdout",
     "output_type": "stream",
     "text": [
      "0.8090937896070975\n"
     ]
    }
   ],
   "source": [
    "# Let's check the overall accuracy.\n",
    "print(metrics.accuracy_score(y_train_pred_final.Converted, y_train_pred_final.predicted))"
   ]
  },
  {
   "cell_type": "code",
   "execution_count": 173,
   "id": "d632d78e",
   "metadata": {},
   "outputs": [],
   "source": [
    "# Check for the VIF values of the feature variables. \n",
    "from statsmodels.stats.outliers_influence import variance_inflation_factor"
   ]
  },
  {
   "cell_type": "code",
   "execution_count": 174,
   "id": "271fd557",
   "metadata": {},
   "outputs": [
    {
     "data": {
      "text/html": [
       "<div>\n",
       "<style scoped>\n",
       "    .dataframe tbody tr th:only-of-type {\n",
       "        vertical-align: middle;\n",
       "    }\n",
       "\n",
       "    .dataframe tbody tr th {\n",
       "        vertical-align: top;\n",
       "    }\n",
       "\n",
       "    .dataframe thead th {\n",
       "        text-align: right;\n",
       "    }\n",
       "</style>\n",
       "<table border=\"1\" class=\"dataframe\">\n",
       "  <thead>\n",
       "    <tr style=\"text-align: right;\">\n",
       "      <th></th>\n",
       "      <th>Features</th>\n",
       "      <th>VIF</th>\n",
       "    </tr>\n",
       "  </thead>\n",
       "  <tbody>\n",
       "    <tr>\n",
       "      <th>2</th>\n",
       "      <td>Lead Origin_Landing Page Submission</td>\n",
       "      <td>7.03</td>\n",
       "    </tr>\n",
       "    <tr>\n",
       "      <th>8</th>\n",
       "      <td>Lead Source_Direct Traffic</td>\n",
       "      <td>4.35</td>\n",
       "    </tr>\n",
       "    <tr>\n",
       "      <th>9</th>\n",
       "      <td>Lead Source_Google</td>\n",
       "      <td>3.54</td>\n",
       "    </tr>\n",
       "    <tr>\n",
       "      <th>6</th>\n",
       "      <td>City_Not Specified</td>\n",
       "      <td>3.42</td>\n",
       "    </tr>\n",
       "    <tr>\n",
       "      <th>5</th>\n",
       "      <td>What is your current occupation_Not Specified</td>\n",
       "      <td>2.86</td>\n",
       "    </tr>\n",
       "    <tr>\n",
       "      <th>7</th>\n",
       "      <td>City_Select</td>\n",
       "      <td>2.60</td>\n",
       "    </tr>\n",
       "    <tr>\n",
       "      <th>14</th>\n",
       "      <td>Last Activity_Email Opened</td>\n",
       "      <td>2.40</td>\n",
       "    </tr>\n",
       "    <tr>\n",
       "      <th>16</th>\n",
       "      <td>Last Activity_SMS Sent</td>\n",
       "      <td>2.32</td>\n",
       "    </tr>\n",
       "    <tr>\n",
       "      <th>10</th>\n",
       "      <td>Lead Source_Organic Search</td>\n",
       "      <td>2.22</td>\n",
       "    </tr>\n",
       "    <tr>\n",
       "      <th>0</th>\n",
       "      <td>TotalVisits</td>\n",
       "      <td>1.83</td>\n",
       "    </tr>\n",
       "    <tr>\n",
       "      <th>15</th>\n",
       "      <td>Last Activity_Olark Chat Conversation</td>\n",
       "      <td>1.61</td>\n",
       "    </tr>\n",
       "    <tr>\n",
       "      <th>3</th>\n",
       "      <td>Lead Origin_Lead Add Form</td>\n",
       "      <td>1.58</td>\n",
       "    </tr>\n",
       "    <tr>\n",
       "      <th>1</th>\n",
       "      <td>Total Time Spent on Website</td>\n",
       "      <td>1.28</td>\n",
       "    </tr>\n",
       "    <tr>\n",
       "      <th>12</th>\n",
       "      <td>Lead Source_Welingak Website</td>\n",
       "      <td>1.27</td>\n",
       "    </tr>\n",
       "    <tr>\n",
       "      <th>13</th>\n",
       "      <td>Last Activity_Email Bounced</td>\n",
       "      <td>1.20</td>\n",
       "    </tr>\n",
       "    <tr>\n",
       "      <th>11</th>\n",
       "      <td>Lead Source_Referral Sites</td>\n",
       "      <td>1.11</td>\n",
       "    </tr>\n",
       "    <tr>\n",
       "      <th>4</th>\n",
       "      <td>Lead Origin_Lead Import</td>\n",
       "      <td>1.02</td>\n",
       "    </tr>\n",
       "  </tbody>\n",
       "</table>\n",
       "</div>"
      ],
      "text/plain": [
       "                                         Features   VIF\n",
       "2             Lead Origin_Landing Page Submission  7.03\n",
       "8                      Lead Source_Direct Traffic  4.35\n",
       "9                              Lead Source_Google  3.54\n",
       "6                              City_Not Specified  3.42\n",
       "5   What is your current occupation_Not Specified  2.86\n",
       "7                                     City_Select  2.60\n",
       "14                     Last Activity_Email Opened  2.40\n",
       "16                         Last Activity_SMS Sent  2.32\n",
       "10                     Lead Source_Organic Search  2.22\n",
       "0                                     TotalVisits  1.83\n",
       "15          Last Activity_Olark Chat Conversation  1.61\n",
       "3                       Lead Origin_Lead Add Form  1.58\n",
       "1                     Total Time Spent on Website  1.28\n",
       "12                   Lead Source_Welingak Website  1.27\n",
       "13                    Last Activity_Email Bounced  1.20\n",
       "11                     Lead Source_Referral Sites  1.11\n",
       "4                         Lead Origin_Lead Import  1.02"
      ]
     },
     "execution_count": 174,
     "metadata": {},
     "output_type": "execute_result"
    }
   ],
   "source": [
    "#checking VIF's again\n",
    "vif = pd.DataFrame()\n",
    "vif['Features'] = X_train[col].columns\n",
    "vif['VIF'] = [variance_inflation_factor(X_train[col].values, i) for i in range(X_train[col].shape[1])]\n",
    "vif['VIF'] = round(vif['VIF'], 2)\n",
    "vif = vif.sort_values(by = \"VIF\", ascending = False)\n",
    "vif"
   ]
  },
  {
   "cell_type": "raw",
   "id": "e9a879cf",
   "metadata": {},
   "source": [
    "Some of the variables has highest VIF which does not help in model evaluation and unnecessarily makes the model complex "
   ]
  },
  {
   "cell_type": "code",
   "execution_count": 175,
   "id": "47aa8b46",
   "metadata": {},
   "outputs": [
    {
     "data": {
      "text/plain": [
       "Index(['TotalVisits', 'Total Time Spent on Website',\n",
       "       'Lead Origin_Lead Add Form', 'Lead Origin_Lead Import',\n",
       "       'What is your current occupation_Not Specified', 'City_Not Specified',\n",
       "       'City_Select', 'Lead Source_Direct Traffic', 'Lead Source_Google',\n",
       "       'Lead Source_Organic Search', 'Lead Source_Referral Sites',\n",
       "       'Lead Source_Welingak Website', 'Last Activity_Email Bounced',\n",
       "       'Last Activity_Email Opened', 'Last Activity_Olark Chat Conversation',\n",
       "       'Last Activity_SMS Sent'],\n",
       "      dtype='object')"
      ]
     },
     "execution_count": 175,
     "metadata": {},
     "output_type": "execute_result"
    }
   ],
   "source": [
    "col = col.drop('Lead Origin_Landing Page Submission', 1)\n",
    "col"
   ]
  },
  {
   "cell_type": "code",
   "execution_count": 176,
   "id": "df725371",
   "metadata": {},
   "outputs": [
    {
     "data": {
      "text/html": [
       "<table class=\"simpletable\">\n",
       "<caption>Generalized Linear Model Regression Results</caption>\n",
       "<tr>\n",
       "  <th>Dep. Variable:</th>       <td>Converted</td>    <th>  No. Observations:  </th>  <td>  6312</td> \n",
       "</tr>\n",
       "<tr>\n",
       "  <th>Model:</th>                  <td>GLM</td>       <th>  Df Residuals:      </th>  <td>  6295</td> \n",
       "</tr>\n",
       "<tr>\n",
       "  <th>Model Family:</th>        <td>Binomial</td>     <th>  Df Model:          </th>  <td>    16</td> \n",
       "</tr>\n",
       "<tr>\n",
       "  <th>Link Function:</th>         <td>Logit</td>      <th>  Scale:             </th> <td>  1.0000</td>\n",
       "</tr>\n",
       "<tr>\n",
       "  <th>Method:</th>                <td>IRLS</td>       <th>  Log-Likelihood:    </th> <td> -2702.5</td>\n",
       "</tr>\n",
       "<tr>\n",
       "  <th>Date:</th>            <td>Mon, 23 Jan 2023</td> <th>  Deviance:          </th> <td>  5405.0</td>\n",
       "</tr>\n",
       "<tr>\n",
       "  <th>Time:</th>                <td>18:26:32</td>     <th>  Pearson chi2:      </th> <td>6.24e+03</td>\n",
       "</tr>\n",
       "<tr>\n",
       "  <th>No. Iterations:</th>          <td>7</td>        <th>  Pseudo R-squ. (CS):</th>  <td>0.3798</td> \n",
       "</tr>\n",
       "<tr>\n",
       "  <th>Covariance Type:</th>     <td>nonrobust</td>    <th>                     </th>     <td> </td>   \n",
       "</tr>\n",
       "</table>\n",
       "<table class=\"simpletable\">\n",
       "<tr>\n",
       "                        <td></td>                           <th>coef</th>     <th>std err</th>      <th>z</th>      <th>P>|z|</th>  <th>[0.025</th>    <th>0.975]</th>  \n",
       "</tr>\n",
       "<tr>\n",
       "  <th>const</th>                                         <td>    0.2297</td> <td>    0.143</td> <td>    1.610</td> <td> 0.107</td> <td>   -0.050</td> <td>    0.509</td>\n",
       "</tr>\n",
       "<tr>\n",
       "  <th>TotalVisits</th>                                   <td>    0.1258</td> <td>    0.045</td> <td>    2.816</td> <td> 0.005</td> <td>    0.038</td> <td>    0.213</td>\n",
       "</tr>\n",
       "<tr>\n",
       "  <th>Total Time Spent on Website</th>                   <td>    1.0781</td> <td>    0.040</td> <td>   27.174</td> <td> 0.000</td> <td>    1.000</td> <td>    1.156</td>\n",
       "</tr>\n",
       "<tr>\n",
       "  <th>Lead Origin_Lead Add Form</th>                     <td>    2.2412</td> <td>    0.205</td> <td>   10.946</td> <td> 0.000</td> <td>    1.840</td> <td>    2.643</td>\n",
       "</tr>\n",
       "<tr>\n",
       "  <th>Lead Origin_Lead Import</th>                       <td>   -1.1804</td> <td>    0.407</td> <td>   -2.904</td> <td> 0.004</td> <td>   -1.977</td> <td>   -0.384</td>\n",
       "</tr>\n",
       "<tr>\n",
       "  <th>What is your current occupation_Not Specified</th> <td>   -1.4786</td> <td>    0.116</td> <td>  -12.765</td> <td> 0.000</td> <td>   -1.706</td> <td>   -1.252</td>\n",
       "</tr>\n",
       "<tr>\n",
       "  <th>City_Not Specified</th>                            <td>   -0.2426</td> <td>    0.171</td> <td>   -1.418</td> <td> 0.156</td> <td>   -0.578</td> <td>    0.093</td>\n",
       "</tr>\n",
       "<tr>\n",
       "  <th>City_Select</th>                                   <td>   -0.2174</td> <td>    0.097</td> <td>   -2.233</td> <td> 0.026</td> <td>   -0.408</td> <td>   -0.027</td>\n",
       "</tr>\n",
       "<tr>\n",
       "  <th>Lead Source_Direct Traffic</th>                    <td>   -1.8732</td> <td>    0.139</td> <td>  -13.523</td> <td> 0.000</td> <td>   -2.145</td> <td>   -1.602</td>\n",
       "</tr>\n",
       "<tr>\n",
       "  <th>Lead Source_Google</th>                            <td>   -1.4620</td> <td>    0.129</td> <td>  -11.313</td> <td> 0.000</td> <td>   -1.715</td> <td>   -1.209</td>\n",
       "</tr>\n",
       "<tr>\n",
       "  <th>Lead Source_Organic Search</th>                    <td>   -1.6842</td> <td>    0.157</td> <td>  -10.738</td> <td> 0.000</td> <td>   -1.992</td> <td>   -1.377</td>\n",
       "</tr>\n",
       "<tr>\n",
       "  <th>Lead Source_Referral Sites</th>                    <td>   -1.5834</td> <td>    0.354</td> <td>   -4.473</td> <td> 0.000</td> <td>   -2.277</td> <td>   -0.890</td>\n",
       "</tr>\n",
       "<tr>\n",
       "  <th>Lead Source_Welingak Website</th>                  <td>    2.4429</td> <td>    1.032</td> <td>    2.367</td> <td> 0.018</td> <td>    0.420</td> <td>    4.466</td>\n",
       "</tr>\n",
       "<tr>\n",
       "  <th>Last Activity_Email Bounced</th>                   <td>   -1.6619</td> <td>    0.341</td> <td>   -4.869</td> <td> 0.000</td> <td>   -2.331</td> <td>   -0.993</td>\n",
       "</tr>\n",
       "<tr>\n",
       "  <th>Last Activity_Email Opened</th>                    <td>    0.5886</td> <td>    0.101</td> <td>    5.847</td> <td> 0.000</td> <td>    0.391</td> <td>    0.786</td>\n",
       "</tr>\n",
       "<tr>\n",
       "  <th>Last Activity_Olark Chat Conversation</th>         <td>   -0.8899</td> <td>    0.183</td> <td>   -4.852</td> <td> 0.000</td> <td>   -1.249</td> <td>   -0.530</td>\n",
       "</tr>\n",
       "<tr>\n",
       "  <th>Last Activity_SMS Sent</th>                        <td>    1.7080</td> <td>    0.103</td> <td>   16.510</td> <td> 0.000</td> <td>    1.505</td> <td>    1.911</td>\n",
       "</tr>\n",
       "</table>"
      ],
      "text/plain": [
       "<class 'statsmodels.iolib.summary.Summary'>\n",
       "\"\"\"\n",
       "                 Generalized Linear Model Regression Results                  \n",
       "==============================================================================\n",
       "Dep. Variable:              Converted   No. Observations:                 6312\n",
       "Model:                            GLM   Df Residuals:                     6295\n",
       "Model Family:                Binomial   Df Model:                           16\n",
       "Link Function:                  Logit   Scale:                          1.0000\n",
       "Method:                          IRLS   Log-Likelihood:                -2702.5\n",
       "Date:                Mon, 23 Jan 2023   Deviance:                       5405.0\n",
       "Time:                        18:26:32   Pearson chi2:                 6.24e+03\n",
       "No. Iterations:                     7   Pseudo R-squ. (CS):             0.3798\n",
       "Covariance Type:            nonrobust                                         \n",
       "=================================================================================================================\n",
       "                                                    coef    std err          z      P>|z|      [0.025      0.975]\n",
       "-----------------------------------------------------------------------------------------------------------------\n",
       "const                                             0.2297      0.143      1.610      0.107      -0.050       0.509\n",
       "TotalVisits                                       0.1258      0.045      2.816      0.005       0.038       0.213\n",
       "Total Time Spent on Website                       1.0781      0.040     27.174      0.000       1.000       1.156\n",
       "Lead Origin_Lead Add Form                         2.2412      0.205     10.946      0.000       1.840       2.643\n",
       "Lead Origin_Lead Import                          -1.1804      0.407     -2.904      0.004      -1.977      -0.384\n",
       "What is your current occupation_Not Specified    -1.4786      0.116    -12.765      0.000      -1.706      -1.252\n",
       "City_Not Specified                               -0.2426      0.171     -1.418      0.156      -0.578       0.093\n",
       "City_Select                                      -0.2174      0.097     -2.233      0.026      -0.408      -0.027\n",
       "Lead Source_Direct Traffic                       -1.8732      0.139    -13.523      0.000      -2.145      -1.602\n",
       "Lead Source_Google                               -1.4620      0.129    -11.313      0.000      -1.715      -1.209\n",
       "Lead Source_Organic Search                       -1.6842      0.157    -10.738      0.000      -1.992      -1.377\n",
       "Lead Source_Referral Sites                       -1.5834      0.354     -4.473      0.000      -2.277      -0.890\n",
       "Lead Source_Welingak Website                      2.4429      1.032      2.367      0.018       0.420       4.466\n",
       "Last Activity_Email Bounced                      -1.6619      0.341     -4.869      0.000      -2.331      -0.993\n",
       "Last Activity_Email Opened                        0.5886      0.101      5.847      0.000       0.391       0.786\n",
       "Last Activity_Olark Chat Conversation            -0.8899      0.183     -4.852      0.000      -1.249      -0.530\n",
       "Last Activity_SMS Sent                            1.7080      0.103     16.510      0.000       1.505       1.911\n",
       "=================================================================================================================\n",
       "\"\"\""
      ]
     },
     "execution_count": 176,
     "metadata": {},
     "output_type": "execute_result"
    }
   ],
   "source": [
    "# Let's re-run the model using the selected variables\n",
    "X_train_sm = sm.add_constant(X_train[col])\n",
    "logm3 = sm.GLM(y_train,X_train_sm, family = sm.families.Binomial())\n",
    "res = logm3.fit()\n",
    "res.summary()"
   ]
  },
  {
   "cell_type": "code",
   "execution_count": 177,
   "id": "adb7f46c",
   "metadata": {},
   "outputs": [
    {
     "data": {
      "text/plain": [
       "Index(['TotalVisits', 'Total Time Spent on Website',\n",
       "       'Lead Origin_Lead Add Form', 'Lead Origin_Lead Import',\n",
       "       'What is your current occupation_Not Specified', 'City_Select',\n",
       "       'Lead Source_Direct Traffic', 'Lead Source_Google',\n",
       "       'Lead Source_Organic Search', 'Lead Source_Referral Sites',\n",
       "       'Lead Source_Welingak Website', 'Last Activity_Email Bounced',\n",
       "       'Last Activity_Email Opened', 'Last Activity_Olark Chat Conversation',\n",
       "       'Last Activity_SMS Sent'],\n",
       "      dtype='object')"
      ]
     },
     "execution_count": 177,
     "metadata": {},
     "output_type": "execute_result"
    }
   ],
   "source": [
    "col = col.drop('City_Not Specified', 1)\n",
    "col"
   ]
  },
  {
   "cell_type": "code",
   "execution_count": 178,
   "id": "aba9a211",
   "metadata": {},
   "outputs": [
    {
     "data": {
      "text/html": [
       "<table class=\"simpletable\">\n",
       "<caption>Generalized Linear Model Regression Results</caption>\n",
       "<tr>\n",
       "  <th>Dep. Variable:</th>       <td>Converted</td>    <th>  No. Observations:  </th>  <td>  6312</td> \n",
       "</tr>\n",
       "<tr>\n",
       "  <th>Model:</th>                  <td>GLM</td>       <th>  Df Residuals:      </th>  <td>  6296</td> \n",
       "</tr>\n",
       "<tr>\n",
       "  <th>Model Family:</th>        <td>Binomial</td>     <th>  Df Model:          </th>  <td>    15</td> \n",
       "</tr>\n",
       "<tr>\n",
       "  <th>Link Function:</th>         <td>Logit</td>      <th>  Scale:             </th> <td>  1.0000</td>\n",
       "</tr>\n",
       "<tr>\n",
       "  <th>Method:</th>                <td>IRLS</td>       <th>  Log-Likelihood:    </th> <td> -2703.5</td>\n",
       "</tr>\n",
       "<tr>\n",
       "  <th>Date:</th>            <td>Mon, 23 Jan 2023</td> <th>  Deviance:          </th> <td>  5407.0</td>\n",
       "</tr>\n",
       "<tr>\n",
       "  <th>Time:</th>                <td>18:27:22</td>     <th>  Pearson chi2:      </th> <td>6.26e+03</td>\n",
       "</tr>\n",
       "<tr>\n",
       "  <th>No. Iterations:</th>          <td>7</td>        <th>  Pseudo R-squ. (CS):</th>  <td>0.3796</td> \n",
       "</tr>\n",
       "<tr>\n",
       "  <th>Covariance Type:</th>     <td>nonrobust</td>    <th>                     </th>     <td> </td>   \n",
       "</tr>\n",
       "</table>\n",
       "<table class=\"simpletable\">\n",
       "<tr>\n",
       "                        <td></td>                           <th>coef</th>     <th>std err</th>      <th>z</th>      <th>P>|z|</th>  <th>[0.025</th>    <th>0.975]</th>  \n",
       "</tr>\n",
       "<tr>\n",
       "  <th>const</th>                                         <td>    0.1908</td> <td>    0.140</td> <td>    1.365</td> <td> 0.172</td> <td>   -0.083</td> <td>    0.465</td>\n",
       "</tr>\n",
       "<tr>\n",
       "  <th>TotalVisits</th>                                   <td>    0.1374</td> <td>    0.044</td> <td>    3.126</td> <td> 0.002</td> <td>    0.051</td> <td>    0.224</td>\n",
       "</tr>\n",
       "<tr>\n",
       "  <th>Total Time Spent on Website</th>                   <td>    1.0809</td> <td>    0.040</td> <td>   27.228</td> <td> 0.000</td> <td>    1.003</td> <td>    1.159</td>\n",
       "</tr>\n",
       "<tr>\n",
       "  <th>Lead Origin_Lead Add Form</th>                     <td>    2.2758</td> <td>    0.203</td> <td>   11.197</td> <td> 0.000</td> <td>    1.877</td> <td>    2.674</td>\n",
       "</tr>\n",
       "<tr>\n",
       "  <th>Lead Origin_Lead Import</th>                       <td>   -1.1197</td> <td>    0.404</td> <td>   -2.770</td> <td> 0.006</td> <td>   -1.912</td> <td>   -0.327</td>\n",
       "</tr>\n",
       "<tr>\n",
       "  <th>What is your current occupation_Not Specified</th> <td>   -1.5753</td> <td>    0.095</td> <td>  -16.545</td> <td> 0.000</td> <td>   -1.762</td> <td>   -1.389</td>\n",
       "</tr>\n",
       "<tr>\n",
       "  <th>City_Select</th>                                   <td>   -0.1879</td> <td>    0.095</td> <td>   -1.977</td> <td> 0.048</td> <td>   -0.374</td> <td>   -0.002</td>\n",
       "</tr>\n",
       "<tr>\n",
       "  <th>Lead Source_Direct Traffic</th>                    <td>   -1.8289</td> <td>    0.135</td> <td>  -13.578</td> <td> 0.000</td> <td>   -2.093</td> <td>   -1.565</td>\n",
       "</tr>\n",
       "<tr>\n",
       "  <th>Lead Source_Google</th>                            <td>   -1.4342</td> <td>    0.127</td> <td>  -11.262</td> <td> 0.000</td> <td>   -1.684</td> <td>   -1.185</td>\n",
       "</tr>\n",
       "<tr>\n",
       "  <th>Lead Source_Organic Search</th>                    <td>   -1.6668</td> <td>    0.156</td> <td>  -10.672</td> <td> 0.000</td> <td>   -1.973</td> <td>   -1.361</td>\n",
       "</tr>\n",
       "<tr>\n",
       "  <th>Lead Source_Referral Sites</th>                    <td>   -1.5885</td> <td>    0.353</td> <td>   -4.503</td> <td> 0.000</td> <td>   -2.280</td> <td>   -0.897</td>\n",
       "</tr>\n",
       "<tr>\n",
       "  <th>Lead Source_Welingak Website</th>                  <td>    2.4356</td> <td>    1.032</td> <td>    2.359</td> <td> 0.018</td> <td>    0.412</td> <td>    4.459</td>\n",
       "</tr>\n",
       "<tr>\n",
       "  <th>Last Activity_Email Bounced</th>                   <td>   -1.6620</td> <td>    0.342</td> <td>   -4.866</td> <td> 0.000</td> <td>   -2.331</td> <td>   -0.992</td>\n",
       "</tr>\n",
       "<tr>\n",
       "  <th>Last Activity_Email Opened</th>                    <td>    0.5892</td> <td>    0.101</td> <td>    5.853</td> <td> 0.000</td> <td>    0.392</td> <td>    0.787</td>\n",
       "</tr>\n",
       "<tr>\n",
       "  <th>Last Activity_Olark Chat Conversation</th>         <td>   -0.9058</td> <td>    0.183</td> <td>   -4.957</td> <td> 0.000</td> <td>   -1.264</td> <td>   -0.548</td>\n",
       "</tr>\n",
       "<tr>\n",
       "  <th>Last Activity_SMS Sent</th>                        <td>    1.7108</td> <td>    0.103</td> <td>   16.535</td> <td> 0.000</td> <td>    1.508</td> <td>    1.914</td>\n",
       "</tr>\n",
       "</table>"
      ],
      "text/plain": [
       "<class 'statsmodels.iolib.summary.Summary'>\n",
       "\"\"\"\n",
       "                 Generalized Linear Model Regression Results                  \n",
       "==============================================================================\n",
       "Dep. Variable:              Converted   No. Observations:                 6312\n",
       "Model:                            GLM   Df Residuals:                     6296\n",
       "Model Family:                Binomial   Df Model:                           15\n",
       "Link Function:                  Logit   Scale:                          1.0000\n",
       "Method:                          IRLS   Log-Likelihood:                -2703.5\n",
       "Date:                Mon, 23 Jan 2023   Deviance:                       5407.0\n",
       "Time:                        18:27:22   Pearson chi2:                 6.26e+03\n",
       "No. Iterations:                     7   Pseudo R-squ. (CS):             0.3796\n",
       "Covariance Type:            nonrobust                                         \n",
       "=================================================================================================================\n",
       "                                                    coef    std err          z      P>|z|      [0.025      0.975]\n",
       "-----------------------------------------------------------------------------------------------------------------\n",
       "const                                             0.1908      0.140      1.365      0.172      -0.083       0.465\n",
       "TotalVisits                                       0.1374      0.044      3.126      0.002       0.051       0.224\n",
       "Total Time Spent on Website                       1.0809      0.040     27.228      0.000       1.003       1.159\n",
       "Lead Origin_Lead Add Form                         2.2758      0.203     11.197      0.000       1.877       2.674\n",
       "Lead Origin_Lead Import                          -1.1197      0.404     -2.770      0.006      -1.912      -0.327\n",
       "What is your current occupation_Not Specified    -1.5753      0.095    -16.545      0.000      -1.762      -1.389\n",
       "City_Select                                      -0.1879      0.095     -1.977      0.048      -0.374      -0.002\n",
       "Lead Source_Direct Traffic                       -1.8289      0.135    -13.578      0.000      -2.093      -1.565\n",
       "Lead Source_Google                               -1.4342      0.127    -11.262      0.000      -1.684      -1.185\n",
       "Lead Source_Organic Search                       -1.6668      0.156    -10.672      0.000      -1.973      -1.361\n",
       "Lead Source_Referral Sites                       -1.5885      0.353     -4.503      0.000      -2.280      -0.897\n",
       "Lead Source_Welingak Website                      2.4356      1.032      2.359      0.018       0.412       4.459\n",
       "Last Activity_Email Bounced                      -1.6620      0.342     -4.866      0.000      -2.331      -0.992\n",
       "Last Activity_Email Opened                        0.5892      0.101      5.853      0.000       0.392       0.787\n",
       "Last Activity_Olark Chat Conversation            -0.9058      0.183     -4.957      0.000      -1.264      -0.548\n",
       "Last Activity_SMS Sent                            1.7108      0.103     16.535      0.000       1.508       1.914\n",
       "=================================================================================================================\n",
       "\"\"\""
      ]
     },
     "execution_count": 178,
     "metadata": {},
     "output_type": "execute_result"
    }
   ],
   "source": [
    "# Let's re-run the model using the selected variables\n",
    "X_train_sm = sm.add_constant(X_train[col])\n",
    "logm3 = sm.GLM(y_train,X_train_sm, family = sm.families.Binomial())\n",
    "res = logm3.fit()\n",
    "res.summary()"
   ]
  },
  {
   "cell_type": "code",
   "execution_count": 179,
   "id": "e0b050db",
   "metadata": {},
   "outputs": [],
   "source": [
    "y_train_pred = res.predict(X_train_sm).values.reshape(-1)"
   ]
  },
  {
   "cell_type": "code",
   "execution_count": 180,
   "id": "a5a8b684",
   "metadata": {},
   "outputs": [
    {
     "data": {
      "text/plain": [
       "array([0.76455223, 0.01693995, 0.50425979, 0.47049956, 0.51989288,\n",
       "       0.19497005, 0.67759026, 0.79386136, 0.94674922, 0.70059487])"
      ]
     },
     "execution_count": 180,
     "metadata": {},
     "output_type": "execute_result"
    }
   ],
   "source": [
    "y_train_pred[:10]"
   ]
  },
  {
   "cell_type": "code",
   "execution_count": 181,
   "id": "e044e3b8",
   "metadata": {},
   "outputs": [],
   "source": [
    "y_train_pred_final['Converted_Prob'] = y_train_pred"
   ]
  },
  {
   "cell_type": "code",
   "execution_count": 182,
   "id": "8a7888d7",
   "metadata": {},
   "outputs": [
    {
     "data": {
      "text/html": [
       "<div>\n",
       "<style scoped>\n",
       "    .dataframe tbody tr th:only-of-type {\n",
       "        vertical-align: middle;\n",
       "    }\n",
       "\n",
       "    .dataframe tbody tr th {\n",
       "        vertical-align: top;\n",
       "    }\n",
       "\n",
       "    .dataframe thead th {\n",
       "        text-align: right;\n",
       "    }\n",
       "</style>\n",
       "<table border=\"1\" class=\"dataframe\">\n",
       "  <thead>\n",
       "    <tr style=\"text-align: right;\">\n",
       "      <th></th>\n",
       "      <th>Converted</th>\n",
       "      <th>Converted_Prob</th>\n",
       "      <th>CustID</th>\n",
       "      <th>predicted</th>\n",
       "    </tr>\n",
       "  </thead>\n",
       "  <tbody>\n",
       "    <tr>\n",
       "      <th>0</th>\n",
       "      <td>1</td>\n",
       "      <td>0.764552</td>\n",
       "      <td>2853</td>\n",
       "      <td>1</td>\n",
       "    </tr>\n",
       "    <tr>\n",
       "      <th>1</th>\n",
       "      <td>0</td>\n",
       "      <td>0.016940</td>\n",
       "      <td>6804</td>\n",
       "      <td>0</td>\n",
       "    </tr>\n",
       "    <tr>\n",
       "      <th>2</th>\n",
       "      <td>1</td>\n",
       "      <td>0.504260</td>\n",
       "      <td>6591</td>\n",
       "      <td>1</td>\n",
       "    </tr>\n",
       "    <tr>\n",
       "      <th>3</th>\n",
       "      <td>1</td>\n",
       "      <td>0.470500</td>\n",
       "      <td>4922</td>\n",
       "      <td>0</td>\n",
       "    </tr>\n",
       "    <tr>\n",
       "      <th>4</th>\n",
       "      <td>1</td>\n",
       "      <td>0.519893</td>\n",
       "      <td>5931</td>\n",
       "      <td>1</td>\n",
       "    </tr>\n",
       "  </tbody>\n",
       "</table>\n",
       "</div>"
      ],
      "text/plain": [
       "   Converted  Converted_Prob  CustID  predicted\n",
       "0          1        0.764552    2853          1\n",
       "1          0        0.016940    6804          0\n",
       "2          1        0.504260    6591          1\n",
       "3          1        0.470500    4922          0\n",
       "4          1        0.519893    5931          1"
      ]
     },
     "execution_count": 182,
     "metadata": {},
     "output_type": "execute_result"
    }
   ],
   "source": [
    "# Creating new column 'predicted' with 1 if Churn_Prob > 0.5 else 0\n",
    "y_train_pred_final['predicted'] = y_train_pred_final.Converted_Prob.map(lambda x: 1 if x > 0.5 else 0)\n",
    "y_train_pred_final.head()"
   ]
  },
  {
   "cell_type": "code",
   "execution_count": 184,
   "id": "8a61e15b",
   "metadata": {},
   "outputs": [
    {
     "name": "stdout",
     "output_type": "stream",
     "text": [
      "0.8048162230671736\n"
     ]
    }
   ],
   "source": [
    "# Let's check the overall accuracy.\n",
    "print(metrics.accuracy_score(y_train_pred_final.Converted, y_train_pred_final.predicted))"
   ]
  },
  {
   "cell_type": "code",
   "execution_count": 185,
   "id": "3599a717",
   "metadata": {},
   "outputs": [
    {
     "data": {
      "text/html": [
       "<div>\n",
       "<style scoped>\n",
       "    .dataframe tbody tr th:only-of-type {\n",
       "        vertical-align: middle;\n",
       "    }\n",
       "\n",
       "    .dataframe tbody tr th {\n",
       "        vertical-align: top;\n",
       "    }\n",
       "\n",
       "    .dataframe thead th {\n",
       "        text-align: right;\n",
       "    }\n",
       "</style>\n",
       "<table border=\"1\" class=\"dataframe\">\n",
       "  <thead>\n",
       "    <tr style=\"text-align: right;\">\n",
       "      <th></th>\n",
       "      <th>Features</th>\n",
       "      <th>VIF</th>\n",
       "    </tr>\n",
       "  </thead>\n",
       "  <tbody>\n",
       "    <tr>\n",
       "      <th>7</th>\n",
       "      <td>Lead Source_Google</td>\n",
       "      <td>2.19</td>\n",
       "    </tr>\n",
       "    <tr>\n",
       "      <th>12</th>\n",
       "      <td>Last Activity_Email Opened</td>\n",
       "      <td>2.18</td>\n",
       "    </tr>\n",
       "    <tr>\n",
       "      <th>14</th>\n",
       "      <td>Last Activity_SMS Sent</td>\n",
       "      <td>2.11</td>\n",
       "    </tr>\n",
       "    <tr>\n",
       "      <th>6</th>\n",
       "      <td>Lead Source_Direct Traffic</td>\n",
       "      <td>1.88</td>\n",
       "    </tr>\n",
       "    <tr>\n",
       "      <th>5</th>\n",
       "      <td>City_Select</td>\n",
       "      <td>1.82</td>\n",
       "    </tr>\n",
       "    <tr>\n",
       "      <th>0</th>\n",
       "      <td>TotalVisits</td>\n",
       "      <td>1.71</td>\n",
       "    </tr>\n",
       "    <tr>\n",
       "      <th>4</th>\n",
       "      <td>What is your current occupation_Not Specified</td>\n",
       "      <td>1.69</td>\n",
       "    </tr>\n",
       "    <tr>\n",
       "      <th>8</th>\n",
       "      <td>Lead Source_Organic Search</td>\n",
       "      <td>1.63</td>\n",
       "    </tr>\n",
       "    <tr>\n",
       "      <th>2</th>\n",
       "      <td>Lead Origin_Lead Add Form</td>\n",
       "      <td>1.57</td>\n",
       "    </tr>\n",
       "    <tr>\n",
       "      <th>13</th>\n",
       "      <td>Last Activity_Olark Chat Conversation</td>\n",
       "      <td>1.40</td>\n",
       "    </tr>\n",
       "    <tr>\n",
       "      <th>1</th>\n",
       "      <td>Total Time Spent on Website</td>\n",
       "      <td>1.27</td>\n",
       "    </tr>\n",
       "    <tr>\n",
       "      <th>10</th>\n",
       "      <td>Lead Source_Welingak Website</td>\n",
       "      <td>1.26</td>\n",
       "    </tr>\n",
       "    <tr>\n",
       "      <th>11</th>\n",
       "      <td>Last Activity_Email Bounced</td>\n",
       "      <td>1.17</td>\n",
       "    </tr>\n",
       "    <tr>\n",
       "      <th>9</th>\n",
       "      <td>Lead Source_Referral Sites</td>\n",
       "      <td>1.08</td>\n",
       "    </tr>\n",
       "    <tr>\n",
       "      <th>3</th>\n",
       "      <td>Lead Origin_Lead Import</td>\n",
       "      <td>1.01</td>\n",
       "    </tr>\n",
       "  </tbody>\n",
       "</table>\n",
       "</div>"
      ],
      "text/plain": [
       "                                         Features   VIF\n",
       "7                              Lead Source_Google  2.19\n",
       "12                     Last Activity_Email Opened  2.18\n",
       "14                         Last Activity_SMS Sent  2.11\n",
       "6                      Lead Source_Direct Traffic  1.88\n",
       "5                                     City_Select  1.82\n",
       "0                                     TotalVisits  1.71\n",
       "4   What is your current occupation_Not Specified  1.69\n",
       "8                      Lead Source_Organic Search  1.63\n",
       "2                       Lead Origin_Lead Add Form  1.57\n",
       "13          Last Activity_Olark Chat Conversation  1.40\n",
       "1                     Total Time Spent on Website  1.27\n",
       "10                   Lead Source_Welingak Website  1.26\n",
       "11                    Last Activity_Email Bounced  1.17\n",
       "9                      Lead Source_Referral Sites  1.08\n",
       "3                         Lead Origin_Lead Import  1.01"
      ]
     },
     "execution_count": 185,
     "metadata": {},
     "output_type": "execute_result"
    }
   ],
   "source": [
    "vif = pd.DataFrame()\n",
    "vif['Features'] = X_train[col].columns\n",
    "vif['VIF'] = [variance_inflation_factor(X_train[col].values, i) for i in range(X_train[col].shape[1])]\n",
    "vif['VIF'] = round(vif['VIF'], 2)\n",
    "vif = vif.sort_values(by = \"VIF\", ascending = False)\n",
    "vif"
   ]
  },
  {
   "cell_type": "markdown",
   "id": "4c0d44ec",
   "metadata": {},
   "source": [
    "All variables have a good value of VIF. So we need not drop any more variables and we can proceed with making predictions using this model only"
   ]
  },
  {
   "cell_type": "code",
   "execution_count": 187,
   "id": "c75c0e69",
   "metadata": {},
   "outputs": [
    {
     "data": {
      "text/plain": [
       "array([[3390,  484],\n",
       "       [ 748, 1690]])"
      ]
     },
     "execution_count": 187,
     "metadata": {},
     "output_type": "execute_result"
    }
   ],
   "source": [
    "# Let's take a look at the confusion matrix again \n",
    "confusion = metrics.confusion_matrix(y_train_pred_final.Converted, y_train_pred_final.predicted )\n",
    "confusion"
   ]
  },
  {
   "cell_type": "code",
   "execution_count": 189,
   "id": "a75bb31a",
   "metadata": {},
   "outputs": [
    {
     "data": {
      "text/plain": [
       "0.8048162230671736"
      ]
     },
     "execution_count": 189,
     "metadata": {},
     "output_type": "execute_result"
    }
   ],
   "source": [
    "# Let's check the overall accuracy.\n",
    "metrics.accuracy_score(y_train_pred_final.Converted, y_train_pred_final.predicted)"
   ]
  },
  {
   "cell_type": "markdown",
   "id": "8c7c0b79",
   "metadata": {},
   "source": [
    "### Model Evaluation and Testing  "
   ]
  },
  {
   "cell_type": "code",
   "execution_count": 190,
   "id": "a35c1320",
   "metadata": {},
   "outputs": [],
   "source": [
    "TP = confusion[1,1] # true positive \n",
    "TN = confusion[0,0] # true negatives\n",
    "FP = confusion[0,1] # false positives\n",
    "FN = confusion[1,0] # false negatives"
   ]
  },
  {
   "cell_type": "code",
   "execution_count": 191,
   "id": "ba5f873d",
   "metadata": {},
   "outputs": [
    {
     "data": {
      "text/plain": [
       "0.6931911402789172"
      ]
     },
     "execution_count": 191,
     "metadata": {},
     "output_type": "execute_result"
    }
   ],
   "source": [
    "# Let's see the sensitivity of our logistic regression model , the metric that evaluates a model's ability to predict true positives of each available category\n",
    "TP / float(TP+FN)"
   ]
  },
  {
   "cell_type": "code",
   "execution_count": 192,
   "id": "0bb46ee0",
   "metadata": {},
   "outputs": [
    {
     "data": {
      "text/plain": [
       "0.8750645327826536"
      ]
     },
     "execution_count": 192,
     "metadata": {},
     "output_type": "execute_result"
    }
   ],
   "source": [
    "# Let us calculate specificity ,  the metric that evaluates a model's ability to predict true negatives of each available category\n",
    "TN / float(TN+FP)"
   ]
  },
  {
   "cell_type": "code",
   "execution_count": 193,
   "id": "a638e7ed",
   "metadata": {},
   "outputs": [
    {
     "name": "stdout",
     "output_type": "stream",
     "text": [
      "0.12493546721734641\n"
     ]
    }
   ],
   "source": [
    "# Calculate false postive rate - predicting converted when customer does not have converted\n",
    "print(FP/ float(TN+FP))"
   ]
  },
  {
   "cell_type": "code",
   "execution_count": 194,
   "id": "3993ec2f",
   "metadata": {},
   "outputs": [
    {
     "name": "stdout",
     "output_type": "stream",
     "text": [
      "0.7773689052437902\n"
     ]
    }
   ],
   "source": [
    "# positive predictive value \n",
    "print (TP / float(TP+FP))"
   ]
  },
  {
   "cell_type": "code",
   "execution_count": 195,
   "id": "cb30e56d",
   "metadata": {},
   "outputs": [
    {
     "name": "stdout",
     "output_type": "stream",
     "text": [
      "0.819236346060899\n"
     ]
    }
   ],
   "source": [
    "# Negative predictive value\n",
    "print (TN / float(TN+ FN))"
   ]
  },
  {
   "cell_type": "raw",
   "id": "2e33b047",
   "metadata": {},
   "source": [
    "Plotting the ROC Curve"
   ]
  },
  {
   "cell_type": "markdown",
   "id": "521facbf",
   "metadata": {},
   "source": [
    "##### An ROC curve demonstrates several things:\n",
    "\n",
    "- It shows the tradeoff between sensitivity and specificity (any increase in sensitivity will be accompanied by a decrease in specificity).\n",
    "- The closer the curve follows the left-hand border and then the top border of the ROC space, the more accurate the test.\n",
    "- The closer the curve comes to the 45-degree diagonal of the ROC space, the less accurate the test."
   ]
  },
  {
   "cell_type": "code",
   "execution_count": 197,
   "id": "aa4545a3",
   "metadata": {},
   "outputs": [],
   "source": [
    "def draw_roc( actual, probs ):\n",
    "    fpr, tpr, thresholds = metrics.roc_curve( actual, probs,\n",
    "                                              drop_intermediate = False )\n",
    "    auc_score = metrics.roc_auc_score( actual, probs )\n",
    "    plt.figure(figsize=(5, 5))\n",
    "    plt.plot( fpr, tpr, label='ROC curve (area = %0.2f)' % auc_score )\n",
    "    plt.plot([0, 1], [0, 1], 'k--')\n",
    "    plt.xlim([0.0, 1.0])\n",
    "    plt.ylim([0.0, 1.05])\n",
    "    plt.xlabel('False Positive Rate or [1 - True Negative Rate]')\n",
    "    plt.ylabel('True Positive Rate')\n",
    "    plt.title('Receiver operating characteristic example')\n",
    "    plt.legend(loc=\"lower right\")\n",
    "    plt.show()\n",
    "\n",
    "    return None"
   ]
  },
  {
   "cell_type": "code",
   "execution_count": 199,
   "id": "518fca35",
   "metadata": {},
   "outputs": [],
   "source": [
    "fpr, tpr, thresholds = metrics.roc_curve( y_train_pred_final.Converted, y_train_pred_final.Converted_Prob, drop_intermediate = False )"
   ]
  },
  {
   "cell_type": "code",
   "execution_count": 201,
   "id": "975afddc",
   "metadata": {},
   "outputs": [
    {
     "data": {
      "image/png": "[encoded data removed]",
      "text/plain": [
       "<Figure size 360x360 with 1 Axes>"
      ]
     },
     "metadata": {
      "needs_background": "light"
     },
     "output_type": "display_data"
    }
   ],
   "source": [
    "draw_roc(y_train_pred_final.Converted, y_train_pred_final.Converted_Prob)"
   ]
  },
  {
   "cell_type": "code",
   "execution_count": 202,
   "id": "9a999c6e",
   "metadata": {},
   "outputs": [
    {
     "data": {
      "text/html": [
       "<div>\n",
       "<style scoped>\n",
       "    .dataframe tbody tr th:only-of-type {\n",
       "        vertical-align: middle;\n",
       "    }\n",
       "\n",
       "    .dataframe tbody tr th {\n",
       "        vertical-align: top;\n",
       "    }\n",
       "\n",
       "    .dataframe thead th {\n",
       "        text-align: right;\n",
       "    }\n",
       "</style>\n",
       "<table border=\"1\" class=\"dataframe\">\n",
       "  <thead>\n",
       "    <tr style=\"text-align: right;\">\n",
       "      <th></th>\n",
       "      <th>Converted</th>\n",
       "      <th>Converted_Prob</th>\n",
       "      <th>CustID</th>\n",
       "      <th>predicted</th>\n",
       "      <th>0.0</th>\n",
       "      <th>0.1</th>\n",
       "      <th>0.2</th>\n",
       "      <th>0.3</th>\n",
       "      <th>0.4</th>\n",
       "      <th>0.5</th>\n",
       "      <th>0.6</th>\n",
       "      <th>0.7</th>\n",
       "      <th>0.8</th>\n",
       "      <th>0.9</th>\n",
       "    </tr>\n",
       "  </thead>\n",
       "  <tbody>\n",
       "    <tr>\n",
       "      <th>0</th>\n",
       "      <td>1</td>\n",
       "      <td>0.764552</td>\n",
       "      <td>2853</td>\n",
       "      <td>1</td>\n",
       "      <td>1</td>\n",
       "      <td>1</td>\n",
       "      <td>1</td>\n",
       "      <td>1</td>\n",
       "      <td>1</td>\n",
       "      <td>1</td>\n",
       "      <td>1</td>\n",
       "      <td>1</td>\n",
       "      <td>0</td>\n",
       "      <td>0</td>\n",
       "    </tr>\n",
       "    <tr>\n",
       "      <th>1</th>\n",
       "      <td>0</td>\n",
       "      <td>0.016940</td>\n",
       "      <td>6804</td>\n",
       "      <td>0</td>\n",
       "      <td>1</td>\n",
       "      <td>0</td>\n",
       "      <td>0</td>\n",
       "      <td>0</td>\n",
       "      <td>0</td>\n",
       "      <td>0</td>\n",
       "      <td>0</td>\n",
       "      <td>0</td>\n",
       "      <td>0</td>\n",
       "      <td>0</td>\n",
       "    </tr>\n",
       "    <tr>\n",
       "      <th>2</th>\n",
       "      <td>1</td>\n",
       "      <td>0.504260</td>\n",
       "      <td>6591</td>\n",
       "      <td>1</td>\n",
       "      <td>1</td>\n",
       "      <td>1</td>\n",
       "      <td>1</td>\n",
       "      <td>1</td>\n",
       "      <td>1</td>\n",
       "      <td>1</td>\n",
       "      <td>0</td>\n",
       "      <td>0</td>\n",
       "      <td>0</td>\n",
       "      <td>0</td>\n",
       "    </tr>\n",
       "    <tr>\n",
       "      <th>3</th>\n",
       "      <td>1</td>\n",
       "      <td>0.470500</td>\n",
       "      <td>4922</td>\n",
       "      <td>0</td>\n",
       "      <td>1</td>\n",
       "      <td>1</td>\n",
       "      <td>1</td>\n",
       "      <td>1</td>\n",
       "      <td>1</td>\n",
       "      <td>0</td>\n",
       "      <td>0</td>\n",
       "      <td>0</td>\n",
       "      <td>0</td>\n",
       "      <td>0</td>\n",
       "    </tr>\n",
       "    <tr>\n",
       "      <th>4</th>\n",
       "      <td>1</td>\n",
       "      <td>0.519893</td>\n",
       "      <td>5931</td>\n",
       "      <td>1</td>\n",
       "      <td>1</td>\n",
       "      <td>1</td>\n",
       "      <td>1</td>\n",
       "      <td>1</td>\n",
       "      <td>1</td>\n",
       "      <td>1</td>\n",
       "      <td>0</td>\n",
       "      <td>0</td>\n",
       "      <td>0</td>\n",
       "      <td>0</td>\n",
       "    </tr>\n",
       "  </tbody>\n",
       "</table>\n",
       "</div>"
      ],
      "text/plain": [
       "   Converted  Converted_Prob  CustID  predicted  0.0  0.1  0.2  0.3  0.4  0.5  \\\n",
       "0          1        0.764552    2853          1    1    1    1    1    1    1   \n",
       "1          0        0.016940    6804          0    1    0    0    0    0    0   \n",
       "2          1        0.504260    6591          1    1    1    1    1    1    1   \n",
       "3          1        0.470500    4922          0    1    1    1    1    1    0   \n",
       "4          1        0.519893    5931          1    1    1    1    1    1    1   \n",
       "\n",
       "   0.6  0.7  0.8  0.9  \n",
       "0    1    1    0    0  \n",
       "1    0    0    0    0  \n",
       "2    0    0    0    0  \n",
       "3    0    0    0    0  \n",
       "4    0    0    0    0  "
      ]
     },
     "execution_count": 202,
     "metadata": {},
     "output_type": "execute_result"
    }
   ],
   "source": [
    "# Let's create columns with different probability cutoffs \n",
    "numbers = [float(x)/10 for x in range(10)]\n",
    "for i in numbers:\n",
    "    y_train_pred_final[i]= y_train_pred_final.Converted_Prob.map(lambda x: 1 if x > i else 0)\n",
    "y_train_pred_final.head()"
   ]
  },
  {
   "cell_type": "code",
   "execution_count": 203,
   "id": "0d689aa1",
   "metadata": {},
   "outputs": [
    {
     "name": "stdout",
     "output_type": "stream",
     "text": [
      "     prob  accuracy     sensi     speci\n",
      "0.0   0.0  0.386248  1.000000  0.000000\n",
      "0.1   0.1  0.595849  0.979491  0.354414\n",
      "0.2   0.2  0.736058  0.916325  0.622612\n",
      "0.3   0.3  0.780735  0.872847  0.722767\n",
      "0.4   0.4  0.798162  0.772765  0.814146\n",
      "0.5   0.5  0.804816  0.693191  0.875065\n",
      "0.6   0.6  0.796420  0.611567  0.912752\n",
      "0.7   0.7  0.764100  0.478261  0.943986\n",
      "0.8   0.8  0.735266  0.371616  0.964120\n",
      "0.9   0.9  0.684886  0.204676  0.987093\n"
     ]
    }
   ],
   "source": [
    "# Now let's calculate accuracy sensitivity and specificity for various probability cutoffs.\n",
    "cutoff_df = pd.DataFrame( columns = ['prob','accuracy','sensi','speci'])\n",
    "from sklearn.metrics import confusion_matrix\n",
    "\n",
    "# TP = confusion[1,1] # true positive \n",
    "# TN = confusion[0,0] # true negatives\n",
    "# FP = confusion[0,1] # false positives\n",
    "# FN = confusion[1,0] # false negatives\n",
    "\n",
    "num = [0.0,0.1,0.2,0.3,0.4,0.5,0.6,0.7,0.8,0.9]\n",
    "for i in num:\n",
    "    cm1 = metrics.confusion_matrix(y_train_pred_final.Converted, y_train_pred_final[i] )\n",
    "    total1=sum(sum(cm1))\n",
    "    accuracy = (cm1[0,0]+cm1[1,1])/total1\n",
    "    \n",
    "    speci = cm1[0,0]/(cm1[0,0]+cm1[0,1])\n",
    "    sensi = cm1[1,1]/(cm1[1,0]+cm1[1,1])\n",
    "    cutoff_df.loc[i] =[ i ,accuracy,sensi,speci]\n",
    "print(cutoff_df)"
   ]
  },
  {
   "cell_type": "code",
   "execution_count": 204,
   "id": "bd76f3b6",
   "metadata": {},
   "outputs": [
    {
     "data": {
      "image/png": "[encoded data removed]",
      "text/plain": [
       "<Figure size 432x288 with 1 Axes>"
      ]
     },
     "metadata": {
      "needs_background": "light"
     },
     "output_type": "display_data"
    }
   ],
   "source": [
    "# Let's plot accuracy sensitivity and specificity for various probabilities.\n",
    "cutoff_df.plot.line(x='prob', y=['accuracy','sensi','speci'])\n",
    "plt.show()"
   ]
  },
  {
   "cell_type": "markdown",
   "id": "a3914cd2",
   "metadata": {},
   "source": [
    "#### From the curve above, 0.3 is the optimum point to take it as a cutoff probability."
   ]
  },
  {
   "cell_type": "code",
   "execution_count": 205,
   "id": "062120f5",
   "metadata": {},
   "outputs": [
    {
     "data": {
      "text/html": [
       "<div>\n",
       "<style scoped>\n",
       "    .dataframe tbody tr th:only-of-type {\n",
       "        vertical-align: middle;\n",
       "    }\n",
       "\n",
       "    .dataframe tbody tr th {\n",
       "        vertical-align: top;\n",
       "    }\n",
       "\n",
       "    .dataframe thead th {\n",
       "        text-align: right;\n",
       "    }\n",
       "</style>\n",
       "<table border=\"1\" class=\"dataframe\">\n",
       "  <thead>\n",
       "    <tr style=\"text-align: right;\">\n",
       "      <th></th>\n",
       "      <th>Converted</th>\n",
       "      <th>Converted_Prob</th>\n",
       "      <th>CustID</th>\n",
       "      <th>predicted</th>\n",
       "      <th>0.0</th>\n",
       "      <th>0.1</th>\n",
       "      <th>0.2</th>\n",
       "      <th>0.3</th>\n",
       "      <th>0.4</th>\n",
       "      <th>0.5</th>\n",
       "      <th>0.6</th>\n",
       "      <th>0.7</th>\n",
       "      <th>0.8</th>\n",
       "      <th>0.9</th>\n",
       "      <th>final_predicted</th>\n",
       "    </tr>\n",
       "  </thead>\n",
       "  <tbody>\n",
       "    <tr>\n",
       "      <th>0</th>\n",
       "      <td>1</td>\n",
       "      <td>0.764552</td>\n",
       "      <td>2853</td>\n",
       "      <td>1</td>\n",
       "      <td>1</td>\n",
       "      <td>1</td>\n",
       "      <td>1</td>\n",
       "      <td>1</td>\n",
       "      <td>1</td>\n",
       "      <td>1</td>\n",
       "      <td>1</td>\n",
       "      <td>1</td>\n",
       "      <td>0</td>\n",
       "      <td>0</td>\n",
       "      <td>1</td>\n",
       "    </tr>\n",
       "    <tr>\n",
       "      <th>1</th>\n",
       "      <td>0</td>\n",
       "      <td>0.016940</td>\n",
       "      <td>6804</td>\n",
       "      <td>0</td>\n",
       "      <td>1</td>\n",
       "      <td>0</td>\n",
       "      <td>0</td>\n",
       "      <td>0</td>\n",
       "      <td>0</td>\n",
       "      <td>0</td>\n",
       "      <td>0</td>\n",
       "      <td>0</td>\n",
       "      <td>0</td>\n",
       "      <td>0</td>\n",
       "      <td>0</td>\n",
       "    </tr>\n",
       "    <tr>\n",
       "      <th>2</th>\n",
       "      <td>1</td>\n",
       "      <td>0.504260</td>\n",
       "      <td>6591</td>\n",
       "      <td>1</td>\n",
       "      <td>1</td>\n",
       "      <td>1</td>\n",
       "      <td>1</td>\n",
       "      <td>1</td>\n",
       "      <td>1</td>\n",
       "      <td>1</td>\n",
       "      <td>0</td>\n",
       "      <td>0</td>\n",
       "      <td>0</td>\n",
       "      <td>0</td>\n",
       "      <td>1</td>\n",
       "    </tr>\n",
       "    <tr>\n",
       "      <th>3</th>\n",
       "      <td>1</td>\n",
       "      <td>0.470500</td>\n",
       "      <td>4922</td>\n",
       "      <td>0</td>\n",
       "      <td>1</td>\n",
       "      <td>1</td>\n",
       "      <td>1</td>\n",
       "      <td>1</td>\n",
       "      <td>1</td>\n",
       "      <td>0</td>\n",
       "      <td>0</td>\n",
       "      <td>0</td>\n",
       "      <td>0</td>\n",
       "      <td>0</td>\n",
       "      <td>1</td>\n",
       "    </tr>\n",
       "    <tr>\n",
       "      <th>4</th>\n",
       "      <td>1</td>\n",
       "      <td>0.519893</td>\n",
       "      <td>5931</td>\n",
       "      <td>1</td>\n",
       "      <td>1</td>\n",
       "      <td>1</td>\n",
       "      <td>1</td>\n",
       "      <td>1</td>\n",
       "      <td>1</td>\n",
       "      <td>1</td>\n",
       "      <td>0</td>\n",
       "      <td>0</td>\n",
       "      <td>0</td>\n",
       "      <td>0</td>\n",
       "      <td>1</td>\n",
       "    </tr>\n",
       "  </tbody>\n",
       "</table>\n",
       "</div>"
      ],
      "text/plain": [
       "   Converted  Converted_Prob  CustID  predicted  0.0  0.1  0.2  0.3  0.4  0.5  \\\n",
       "0          1        0.764552    2853          1    1    1    1    1    1    1   \n",
       "1          0        0.016940    6804          0    1    0    0    0    0    0   \n",
       "2          1        0.504260    6591          1    1    1    1    1    1    1   \n",
       "3          1        0.470500    4922          0    1    1    1    1    1    0   \n",
       "4          1        0.519893    5931          1    1    1    1    1    1    1   \n",
       "\n",
       "   0.6  0.7  0.8  0.9  final_predicted  \n",
       "0    1    1    0    0                1  \n",
       "1    0    0    0    0                0  \n",
       "2    0    0    0    0                1  \n",
       "3    0    0    0    0                1  \n",
       "4    0    0    0    0                1  "
      ]
     },
     "execution_count": 205,
     "metadata": {},
     "output_type": "execute_result"
    }
   ],
   "source": [
    "y_train_pred_final['final_predicted'] = y_train_pred_final.Converted_Prob.map( lambda x: 1 if x > 0.3 else 0)\n",
    "\n",
    "y_train_pred_final.head()"
   ]
  },
  {
   "cell_type": "code",
   "execution_count": 207,
   "id": "dfd4703a",
   "metadata": {},
   "outputs": [
    {
     "data": {
      "text/plain": [
       "0.7807351077313055"
      ]
     },
     "execution_count": 207,
     "metadata": {},
     "output_type": "execute_result"
    }
   ],
   "source": [
    "# Let's check the overall accuracy.\n",
    "metrics.accuracy_score(y_train_pred_final.Converted, y_train_pred_final.final_predicted)"
   ]
  },
  {
   "cell_type": "code",
   "execution_count": 208,
   "id": "1027e547",
   "metadata": {},
   "outputs": [
    {
     "data": {
      "text/plain": [
       "array([[2800, 1074],\n",
       "       [ 310, 2128]])"
      ]
     },
     "execution_count": 208,
     "metadata": {},
     "output_type": "execute_result"
    }
   ],
   "source": [
    "confusion2 = metrics.confusion_matrix(y_train_pred_final.Converted, y_train_pred_final.final_predicted )\n",
    "confusion2"
   ]
  },
  {
   "cell_type": "code",
   "execution_count": 209,
   "id": "605e1afb",
   "metadata": {},
   "outputs": [],
   "source": [
    "TP = confusion2[1,1] # true positive \n",
    "TN = confusion2[0,0] # true negatives\n",
    "FP = confusion2[0,1] # false positives\n",
    "FN = confusion2[1,0] # false negatives"
   ]
  },
  {
   "cell_type": "code",
   "execution_count": 210,
   "id": "6d2b2190",
   "metadata": {},
   "outputs": [
    {
     "data": {
      "text/plain": [
       "0.8728465955701394"
      ]
     },
     "execution_count": 210,
     "metadata": {},
     "output_type": "execute_result"
    }
   ],
   "source": [
    "# Let's see the sensitivity of our logistic regression model\n",
    "TP / float(TP+FN)"
   ]
  },
  {
   "cell_type": "code",
   "execution_count": 211,
   "id": "8810c769",
   "metadata": {},
   "outputs": [
    {
     "data": {
      "text/plain": [
       "0.7227671657201858"
      ]
     },
     "execution_count": 211,
     "metadata": {},
     "output_type": "execute_result"
    }
   ],
   "source": [
    "# Let us calculate specificity\n",
    "TN / float(TN+FP)"
   ]
  },
  {
   "cell_type": "code",
   "execution_count": 212,
   "id": "2566fb02",
   "metadata": {},
   "outputs": [
    {
     "name": "stdout",
     "output_type": "stream",
     "text": [
      "0.27723283427981416\n"
     ]
    }
   ],
   "source": [
    "# Calculate false postive rate - predicting churn when customer does not have churned\n",
    "print(FP/ float(TN+FP))"
   ]
  },
  {
   "cell_type": "code",
   "execution_count": 213,
   "id": "bc4d2a9c",
   "metadata": {},
   "outputs": [
    {
     "name": "stdout",
     "output_type": "stream",
     "text": [
      "0.6645846346033729\n"
     ]
    }
   ],
   "source": [
    "# Positive predictive value \n",
    "print (TP / float(TP+FP))"
   ]
  },
  {
   "cell_type": "code",
   "execution_count": 214,
   "id": "52d60ae0",
   "metadata": {},
   "outputs": [
    {
     "name": "stdout",
     "output_type": "stream",
     "text": [
      "0.9003215434083601\n"
     ]
    }
   ],
   "source": [
    "# Negative predictive value\n",
    "print (TN / float(TN+ FN))"
   ]
  },
  {
   "cell_type": "code",
   "execution_count": 255,
   "id": "a36f9b97",
   "metadata": {},
   "outputs": [
    {
     "data": {
      "text/plain": [
       "0.7421875"
      ]
     },
     "execution_count": 255,
     "metadata": {},
     "output_type": "execute_result"
    }
   ],
   "source": [
    "recall_score(y_pred_final.Converted, y_pred_final.final_predicted)"
   ]
  },
  {
   "cell_type": "markdown",
   "id": "4bee7bb1",
   "metadata": {},
   "source": [
    "### Precision and recall tradeoff"
   ]
  },
  {
   "cell_type": "code",
   "execution_count": 252,
   "id": "dae66b47",
   "metadata": {},
   "outputs": [],
   "source": [
    "from sklearn.metrics import precision_recall_curve,recall_score"
   ]
  },
  {
   "cell_type": "code",
   "execution_count": 216,
   "id": "9a8cb1a3",
   "metadata": {},
   "outputs": [
    {
     "data": {
      "text/plain": [
       "(0       1\n",
       " 1       0\n",
       " 2       1\n",
       " 3       1\n",
       " 4       1\n",
       "        ..\n",
       " 6307    0\n",
       " 6308    1\n",
       " 6309    1\n",
       " 6310    1\n",
       " 6311    1\n",
       " Name: Converted, Length: 6312, dtype: int64,\n",
       " 0       1\n",
       " 1       0\n",
       " 2       1\n",
       " 3       0\n",
       " 4       1\n",
       "        ..\n",
       " 6307    0\n",
       " 6308    1\n",
       " 6309    1\n",
       " 6310    1\n",
       " 6311    0\n",
       " Name: predicted, Length: 6312, dtype: int64)"
      ]
     },
     "execution_count": 216,
     "metadata": {},
     "output_type": "execute_result"
    }
   ],
   "source": [
    "y_train_pred_final.Converted, y_train_pred_final.predicted"
   ]
  },
  {
   "cell_type": "code",
   "execution_count": 219,
   "id": "3a7e2751",
   "metadata": {},
   "outputs": [],
   "source": [
    "p, r, thresholds = precision_recall_curve(y_train_pred_final.Converted, y_train_pred_final.Converted_Prob)"
   ]
  },
  {
   "cell_type": "code",
   "execution_count": 220,
   "id": "bdbcfa0d",
   "metadata": {},
   "outputs": [
    {
     "data": {
      "image/png": "[encoded data removed]",
      "text/plain": [
       "<Figure size 432x288 with 1 Axes>"
      ]
     },
     "metadata": {
      "needs_background": "light"
     },
     "output_type": "display_data"
    }
   ],
   "source": [
    "plt.plot(thresholds, p[:-1], \"g-\")\n",
    "plt.plot(thresholds, r[:-1], \"r-\")\n",
    "plt.show()"
   ]
  },
  {
   "cell_type": "markdown",
   "id": "af98e368",
   "metadata": {},
   "source": [
    "#####  Making predictions on the test set "
   ]
  },
  {
   "cell_type": "code",
   "execution_count": 221,
   "id": "ba574156",
   "metadata": {},
   "outputs": [],
   "source": [
    "num_cols=X_train.select_dtypes(include=['float64', 'int64']).columns\n",
    "X_test[num_cols] = scaler.fit_transform(X_test[num_cols])"
   ]
  },
  {
   "cell_type": "code",
   "execution_count": 222,
   "id": "7d9e444a",
   "metadata": {},
   "outputs": [
    {
     "data": {
      "text/html": [
       "<div>\n",
       "<style scoped>\n",
       "    .dataframe tbody tr th:only-of-type {\n",
       "        vertical-align: middle;\n",
       "    }\n",
       "\n",
       "    .dataframe tbody tr th {\n",
       "        vertical-align: top;\n",
       "    }\n",
       "\n",
       "    .dataframe thead th {\n",
       "        text-align: right;\n",
       "    }\n",
       "</style>\n",
       "<table border=\"1\" class=\"dataframe\">\n",
       "  <thead>\n",
       "    <tr style=\"text-align: right;\">\n",
       "      <th></th>\n",
       "      <th>TotalVisits</th>\n",
       "      <th>Total Time Spent on Website</th>\n",
       "      <th>Lead Origin_Lead Add Form</th>\n",
       "      <th>Lead Origin_Lead Import</th>\n",
       "      <th>What is your current occupation_Not Specified</th>\n",
       "      <th>City_Select</th>\n",
       "      <th>Lead Source_Direct Traffic</th>\n",
       "      <th>Lead Source_Google</th>\n",
       "      <th>Lead Source_Organic Search</th>\n",
       "      <th>Lead Source_Referral Sites</th>\n",
       "      <th>Lead Source_Welingak Website</th>\n",
       "      <th>Last Activity_Email Bounced</th>\n",
       "      <th>Last Activity_Email Opened</th>\n",
       "      <th>Last Activity_Olark Chat Conversation</th>\n",
       "      <th>Last Activity_SMS Sent</th>\n",
       "    </tr>\n",
       "  </thead>\n",
       "  <tbody>\n",
       "    <tr>\n",
       "      <th>5114</th>\n",
       "      <td>0.352641</td>\n",
       "      <td>-0.677001</td>\n",
       "      <td>0</td>\n",
       "      <td>0</td>\n",
       "      <td>0</td>\n",
       "      <td>0</td>\n",
       "      <td>0</td>\n",
       "      <td>1</td>\n",
       "      <td>0</td>\n",
       "      <td>0</td>\n",
       "      <td>0</td>\n",
       "      <td>0</td>\n",
       "      <td>0</td>\n",
       "      <td>0</td>\n",
       "      <td>1</td>\n",
       "    </tr>\n",
       "    <tr>\n",
       "      <th>6913</th>\n",
       "      <td>-0.025728</td>\n",
       "      <td>1.989079</td>\n",
       "      <td>0</td>\n",
       "      <td>0</td>\n",
       "      <td>0</td>\n",
       "      <td>0</td>\n",
       "      <td>0</td>\n",
       "      <td>0</td>\n",
       "      <td>1</td>\n",
       "      <td>0</td>\n",
       "      <td>0</td>\n",
       "      <td>0</td>\n",
       "      <td>0</td>\n",
       "      <td>0</td>\n",
       "      <td>0</td>\n",
       "    </tr>\n",
       "    <tr>\n",
       "      <th>1451</th>\n",
       "      <td>0.352641</td>\n",
       "      <td>-0.031777</td>\n",
       "      <td>0</td>\n",
       "      <td>0</td>\n",
       "      <td>1</td>\n",
       "      <td>0</td>\n",
       "      <td>0</td>\n",
       "      <td>1</td>\n",
       "      <td>0</td>\n",
       "      <td>0</td>\n",
       "      <td>0</td>\n",
       "      <td>0</td>\n",
       "      <td>1</td>\n",
       "      <td>0</td>\n",
       "      <td>0</td>\n",
       "    </tr>\n",
       "    <tr>\n",
       "      <th>6506</th>\n",
       "      <td>-1.160836</td>\n",
       "      <td>-0.881805</td>\n",
       "      <td>0</td>\n",
       "      <td>0</td>\n",
       "      <td>0</td>\n",
       "      <td>1</td>\n",
       "      <td>0</td>\n",
       "      <td>0</td>\n",
       "      <td>0</td>\n",
       "      <td>0</td>\n",
       "      <td>0</td>\n",
       "      <td>0</td>\n",
       "      <td>0</td>\n",
       "      <td>1</td>\n",
       "      <td>0</td>\n",
       "    </tr>\n",
       "    <tr>\n",
       "      <th>4587</th>\n",
       "      <td>-1.160836</td>\n",
       "      <td>-0.881805</td>\n",
       "      <td>0</td>\n",
       "      <td>0</td>\n",
       "      <td>1</td>\n",
       "      <td>0</td>\n",
       "      <td>0</td>\n",
       "      <td>0</td>\n",
       "      <td>0</td>\n",
       "      <td>0</td>\n",
       "      <td>0</td>\n",
       "      <td>0</td>\n",
       "      <td>0</td>\n",
       "      <td>0</td>\n",
       "      <td>1</td>\n",
       "    </tr>\n",
       "  </tbody>\n",
       "</table>\n",
       "</div>"
      ],
      "text/plain": [
       "      TotalVisits  Total Time Spent on Website  Lead Origin_Lead Add Form  \\\n",
       "5114     0.352641                    -0.677001                          0   \n",
       "6913    -0.025728                     1.989079                          0   \n",
       "1451     0.352641                    -0.031777                          0   \n",
       "6506    -1.160836                    -0.881805                          0   \n",
       "4587    -1.160836                    -0.881805                          0   \n",
       "\n",
       "      Lead Origin_Lead Import  What is your current occupation_Not Specified  \\\n",
       "5114                        0                                              0   \n",
       "6913                        0                                              0   \n",
       "1451                        0                                              1   \n",
       "6506                        0                                              0   \n",
       "4587                        0                                              1   \n",
       "\n",
       "      City_Select  Lead Source_Direct Traffic  Lead Source_Google  \\\n",
       "5114            0                           0                   1   \n",
       "6913            0                           0                   0   \n",
       "1451            0                           0                   1   \n",
       "6506            1                           0                   0   \n",
       "4587            0                           0                   0   \n",
       "\n",
       "      Lead Source_Organic Search  Lead Source_Referral Sites  \\\n",
       "5114                           0                           0   \n",
       "6913                           1                           0   \n",
       "1451                           0                           0   \n",
       "6506                           0                           0   \n",
       "4587                           0                           0   \n",
       "\n",
       "      Lead Source_Welingak Website  Last Activity_Email Bounced  \\\n",
       "5114                             0                            0   \n",
       "6913                             0                            0   \n",
       "1451                             0                            0   \n",
       "6506                             0                            0   \n",
       "4587                             0                            0   \n",
       "\n",
       "      Last Activity_Email Opened  Last Activity_Olark Chat Conversation  \\\n",
       "5114                           0                                      0   \n",
       "6913                           0                                      0   \n",
       "1451                           1                                      0   \n",
       "6506                           0                                      1   \n",
       "4587                           0                                      0   \n",
       "\n",
       "      Last Activity_SMS Sent  \n",
       "5114                       1  \n",
       "6913                       0  \n",
       "1451                       0  \n",
       "6506                       0  \n",
       "4587                       1  "
      ]
     },
     "execution_count": 222,
     "metadata": {},
     "output_type": "execute_result"
    }
   ],
   "source": [
    "X_test = X_test[col]\n",
    "X_test.head()"
   ]
  },
  {
   "cell_type": "code",
   "execution_count": 223,
   "id": "2421b553",
   "metadata": {},
   "outputs": [],
   "source": [
    "X_test_sm = sm.add_constant(X_test)"
   ]
  },
  {
   "cell_type": "code",
   "execution_count": 224,
   "id": "af55ba68",
   "metadata": {},
   "outputs": [],
   "source": [
    "y_test_pred = res.predict(X_test_sm)"
   ]
  },
  {
   "cell_type": "code",
   "execution_count": 225,
   "id": "286353c8",
   "metadata": {},
   "outputs": [
    {
     "data": {
      "text/plain": [
       "5114    0.446243\n",
       "6913    0.661604\n",
       "1451    0.098385\n",
       "6506    0.117595\n",
       "4587    0.312984\n",
       "7915    0.724381\n",
       "3939    0.119446\n",
       "6128    0.044531\n",
       "8058    0.293000\n",
       "4192    0.163155\n",
       "dtype: float64"
      ]
     },
     "execution_count": 225,
     "metadata": {},
     "output_type": "execute_result"
    }
   ],
   "source": [
    "y_test_pred[:10]"
   ]
  },
  {
   "cell_type": "code",
   "execution_count": 226,
   "id": "cc250fda",
   "metadata": {},
   "outputs": [],
   "source": [
    "# Converting y_pred to a dataframe which is an array\n",
    "y_pred_1 = pd.DataFrame(y_test_pred)"
   ]
  },
  {
   "cell_type": "code",
   "execution_count": 227,
   "id": "5374f5eb",
   "metadata": {},
   "outputs": [
    {
     "data": {
      "text/html": [
       "<div>\n",
       "<style scoped>\n",
       "    .dataframe tbody tr th:only-of-type {\n",
       "        vertical-align: middle;\n",
       "    }\n",
       "\n",
       "    .dataframe tbody tr th {\n",
       "        vertical-align: top;\n",
       "    }\n",
       "\n",
       "    .dataframe thead th {\n",
       "        text-align: right;\n",
       "    }\n",
       "</style>\n",
       "<table border=\"1\" class=\"dataframe\">\n",
       "  <thead>\n",
       "    <tr style=\"text-align: right;\">\n",
       "      <th></th>\n",
       "      <th>0</th>\n",
       "    </tr>\n",
       "  </thead>\n",
       "  <tbody>\n",
       "    <tr>\n",
       "      <th>5114</th>\n",
       "      <td>0.446243</td>\n",
       "    </tr>\n",
       "    <tr>\n",
       "      <th>6913</th>\n",
       "      <td>0.661604</td>\n",
       "    </tr>\n",
       "    <tr>\n",
       "      <th>1451</th>\n",
       "      <td>0.098385</td>\n",
       "    </tr>\n",
       "    <tr>\n",
       "      <th>6506</th>\n",
       "      <td>0.117595</td>\n",
       "    </tr>\n",
       "    <tr>\n",
       "      <th>4587</th>\n",
       "      <td>0.312984</td>\n",
       "    </tr>\n",
       "  </tbody>\n",
       "</table>\n",
       "</div>"
      ],
      "text/plain": [
       "             0\n",
       "5114  0.446243\n",
       "6913  0.661604\n",
       "1451  0.098385\n",
       "6506  0.117595\n",
       "4587  0.312984"
      ]
     },
     "execution_count": 227,
     "metadata": {},
     "output_type": "execute_result"
    }
   ],
   "source": [
    "# Let's see the head\n",
    "y_pred_1.head()"
   ]
  },
  {
   "cell_type": "code",
   "execution_count": 228,
   "id": "7de2519f",
   "metadata": {},
   "outputs": [],
   "source": [
    "# Converting y_test to dataframe\n",
    "y_test_df = pd.DataFrame(y_test)"
   ]
  },
  {
   "cell_type": "code",
   "execution_count": 229,
   "id": "b5aa467c",
   "metadata": {},
   "outputs": [],
   "source": [
    "# Putting CustID to index\n",
    "y_test_df['CustID'] = y_test_df.index"
   ]
  },
  {
   "cell_type": "code",
   "execution_count": 230,
   "id": "c06bd0c2",
   "metadata": {},
   "outputs": [],
   "source": [
    "# Removing index for both dataframes to append them side by side \n",
    "y_pred_1.reset_index(drop=True, inplace=True)\n",
    "y_test_df.reset_index(drop=True, inplace=True)"
   ]
  },
  {
   "cell_type": "code",
   "execution_count": 231,
   "id": "95350b9c",
   "metadata": {},
   "outputs": [],
   "source": [
    "# Appending y_test_df and y_pred_1\n",
    "y_pred_final = pd.concat([y_test_df, y_pred_1],axis=1)"
   ]
  },
  {
   "cell_type": "code",
   "execution_count": 232,
   "id": "2d1baa6d",
   "metadata": {},
   "outputs": [
    {
     "data": {
      "text/html": [
       "<div>\n",
       "<style scoped>\n",
       "    .dataframe tbody tr th:only-of-type {\n",
       "        vertical-align: middle;\n",
       "    }\n",
       "\n",
       "    .dataframe tbody tr th {\n",
       "        vertical-align: top;\n",
       "    }\n",
       "\n",
       "    .dataframe thead th {\n",
       "        text-align: right;\n",
       "    }\n",
       "</style>\n",
       "<table border=\"1\" class=\"dataframe\">\n",
       "  <thead>\n",
       "    <tr style=\"text-align: right;\">\n",
       "      <th></th>\n",
       "      <th>Converted</th>\n",
       "      <th>CustID</th>\n",
       "      <th>0</th>\n",
       "    </tr>\n",
       "  </thead>\n",
       "  <tbody>\n",
       "    <tr>\n",
       "      <th>0</th>\n",
       "      <td>0</td>\n",
       "      <td>5114</td>\n",
       "      <td>0.446243</td>\n",
       "    </tr>\n",
       "    <tr>\n",
       "      <th>1</th>\n",
       "      <td>1</td>\n",
       "      <td>6913</td>\n",
       "      <td>0.661604</td>\n",
       "    </tr>\n",
       "    <tr>\n",
       "      <th>2</th>\n",
       "      <td>0</td>\n",
       "      <td>1451</td>\n",
       "      <td>0.098385</td>\n",
       "    </tr>\n",
       "    <tr>\n",
       "      <th>3</th>\n",
       "      <td>0</td>\n",
       "      <td>6506</td>\n",
       "      <td>0.117595</td>\n",
       "    </tr>\n",
       "    <tr>\n",
       "      <th>4</th>\n",
       "      <td>1</td>\n",
       "      <td>4587</td>\n",
       "      <td>0.312984</td>\n",
       "    </tr>\n",
       "  </tbody>\n",
       "</table>\n",
       "</div>"
      ],
      "text/plain": [
       "   Converted  CustID         0\n",
       "0          0    5114  0.446243\n",
       "1          1    6913  0.661604\n",
       "2          0    1451  0.098385\n",
       "3          0    6506  0.117595\n",
       "4          1    4587  0.312984"
      ]
     },
     "execution_count": 232,
     "metadata": {},
     "output_type": "execute_result"
    }
   ],
   "source": [
    "y_pred_final.head()"
   ]
  },
  {
   "cell_type": "code",
   "execution_count": 239,
   "id": "36659fd7",
   "metadata": {},
   "outputs": [],
   "source": [
    "# Renaming the column \n",
    "y_pred_final= y_pred_final.rename(columns={ 0 : 'Converted_Prob'})"
   ]
  },
  {
   "cell_type": "code",
   "execution_count": 240,
   "id": "37c5b0b1",
   "metadata": {},
   "outputs": [
    {
     "data": {
      "text/html": [
       "<div>\n",
       "<style scoped>\n",
       "    .dataframe tbody tr th:only-of-type {\n",
       "        vertical-align: middle;\n",
       "    }\n",
       "\n",
       "    .dataframe tbody tr th {\n",
       "        vertical-align: top;\n",
       "    }\n",
       "\n",
       "    .dataframe thead th {\n",
       "        text-align: right;\n",
       "    }\n",
       "</style>\n",
       "<table border=\"1\" class=\"dataframe\">\n",
       "  <thead>\n",
       "    <tr style=\"text-align: right;\">\n",
       "      <th></th>\n",
       "      <th>Converted</th>\n",
       "      <th>CustID</th>\n",
       "      <th>Converted_Prob</th>\n",
       "    </tr>\n",
       "  </thead>\n",
       "  <tbody>\n",
       "    <tr>\n",
       "      <th>0</th>\n",
       "      <td>0</td>\n",
       "      <td>5114</td>\n",
       "      <td>0.446243</td>\n",
       "    </tr>\n",
       "    <tr>\n",
       "      <th>1</th>\n",
       "      <td>1</td>\n",
       "      <td>6913</td>\n",
       "      <td>0.661604</td>\n",
       "    </tr>\n",
       "    <tr>\n",
       "      <th>2</th>\n",
       "      <td>0</td>\n",
       "      <td>1451</td>\n",
       "      <td>0.098385</td>\n",
       "    </tr>\n",
       "    <tr>\n",
       "      <th>3</th>\n",
       "      <td>0</td>\n",
       "      <td>6506</td>\n",
       "      <td>0.117595</td>\n",
       "    </tr>\n",
       "    <tr>\n",
       "      <th>4</th>\n",
       "      <td>1</td>\n",
       "      <td>4587</td>\n",
       "      <td>0.312984</td>\n",
       "    </tr>\n",
       "  </tbody>\n",
       "</table>\n",
       "</div>"
      ],
      "text/plain": [
       "   Converted  CustID  Converted_Prob\n",
       "0          0    5114        0.446243\n",
       "1          1    6913        0.661604\n",
       "2          0    1451        0.098385\n",
       "3          0    6506        0.117595\n",
       "4          1    4587        0.312984"
      ]
     },
     "execution_count": 240,
     "metadata": {},
     "output_type": "execute_result"
    }
   ],
   "source": [
    "y_pred_final.head()"
   ]
  },
  {
   "cell_type": "code",
   "execution_count": 241,
   "id": "d43a7284",
   "metadata": {},
   "outputs": [],
   "source": [
    "y_pred_final['final_predicted'] = y_pred_final.Converted_Prob.map(lambda x: 1 if x > 0.42 else 0)"
   ]
  },
  {
   "cell_type": "code",
   "execution_count": 242,
   "id": "d1894624",
   "metadata": {},
   "outputs": [
    {
     "data": {
      "text/html": [
       "<div>\n",
       "<style scoped>\n",
       "    .dataframe tbody tr th:only-of-type {\n",
       "        vertical-align: middle;\n",
       "    }\n",
       "\n",
       "    .dataframe tbody tr th {\n",
       "        vertical-align: top;\n",
       "    }\n",
       "\n",
       "    .dataframe thead th {\n",
       "        text-align: right;\n",
       "    }\n",
       "</style>\n",
       "<table border=\"1\" class=\"dataframe\">\n",
       "  <thead>\n",
       "    <tr style=\"text-align: right;\">\n",
       "      <th></th>\n",
       "      <th>Converted</th>\n",
       "      <th>CustID</th>\n",
       "      <th>Converted_Prob</th>\n",
       "      <th>final_predicted</th>\n",
       "    </tr>\n",
       "  </thead>\n",
       "  <tbody>\n",
       "    <tr>\n",
       "      <th>0</th>\n",
       "      <td>0</td>\n",
       "      <td>5114</td>\n",
       "      <td>0.446243</td>\n",
       "      <td>1</td>\n",
       "    </tr>\n",
       "    <tr>\n",
       "      <th>1</th>\n",
       "      <td>1</td>\n",
       "      <td>6913</td>\n",
       "      <td>0.661604</td>\n",
       "      <td>1</td>\n",
       "    </tr>\n",
       "    <tr>\n",
       "      <th>2</th>\n",
       "      <td>0</td>\n",
       "      <td>1451</td>\n",
       "      <td>0.098385</td>\n",
       "      <td>0</td>\n",
       "    </tr>\n",
       "    <tr>\n",
       "      <th>3</th>\n",
       "      <td>0</td>\n",
       "      <td>6506</td>\n",
       "      <td>0.117595</td>\n",
       "      <td>0</td>\n",
       "    </tr>\n",
       "    <tr>\n",
       "      <th>4</th>\n",
       "      <td>1</td>\n",
       "      <td>4587</td>\n",
       "      <td>0.312984</td>\n",
       "      <td>0</td>\n",
       "    </tr>\n",
       "  </tbody>\n",
       "</table>\n",
       "</div>"
      ],
      "text/plain": [
       "   Converted  CustID  Converted_Prob  final_predicted\n",
       "0          0    5114        0.446243                1\n",
       "1          1    6913        0.661604                1\n",
       "2          0    1451        0.098385                0\n",
       "3          0    6506        0.117595                0\n",
       "4          1    4587        0.312984                0"
      ]
     },
     "execution_count": 242,
     "metadata": {},
     "output_type": "execute_result"
    }
   ],
   "source": [
    "y_pred_final.head()"
   ]
  },
  {
   "cell_type": "code",
   "execution_count": 244,
   "id": "04078e8c",
   "metadata": {},
   "outputs": [
    {
     "data": {
      "text/plain": [
       "0.8015521064301552"
      ]
     },
     "execution_count": 244,
     "metadata": {},
     "output_type": "execute_result"
    }
   ],
   "source": [
    "# Let's check the overall accuracy.\n",
    "metrics.accuracy_score(y_pred_final.Converted, y_pred_final.final_predicted)"
   ]
  },
  {
   "cell_type": "code",
   "execution_count": 246,
   "id": "c3b99fb5",
   "metadata": {},
   "outputs": [
    {
     "data": {
      "text/plain": [
       "array([[1409,  273],\n",
       "       [ 264,  760]])"
      ]
     },
     "execution_count": 246,
     "metadata": {},
     "output_type": "execute_result"
    }
   ],
   "source": [
    "confusion2 = metrics.confusion_matrix(y_pred_final.Converted, y_pred_final.final_predicted )\n",
    "confusion2"
   ]
  },
  {
   "cell_type": "code",
   "execution_count": 247,
   "id": "cd944d54",
   "metadata": {},
   "outputs": [],
   "source": [
    "TP = confusion2[1,1] # true positive \n",
    "TN = confusion2[0,0] # true negatives\n",
    "FP = confusion2[0,1] # false positives\n",
    "FN = confusion2[1,0] # false negatives"
   ]
  },
  {
   "cell_type": "code",
   "execution_count": 248,
   "id": "7a1dd898",
   "metadata": {},
   "outputs": [
    {
     "data": {
      "text/plain": [
       "0.7421875"
      ]
     },
     "execution_count": 248,
     "metadata": {},
     "output_type": "execute_result"
    }
   ],
   "source": [
    "# Let's see the sensitivity of our logistic regression model\n",
    "TP / float(TP+FN)"
   ]
  },
  {
   "cell_type": "code",
   "execution_count": 249,
   "id": "ed36e218",
   "metadata": {},
   "outputs": [
    {
     "data": {
      "text/plain": [
       "0.8376932223543401"
      ]
     },
     "execution_count": 249,
     "metadata": {},
     "output_type": "execute_result"
    }
   ],
   "source": [
    "# Let us calculate specificity\n",
    "TN / float(TN+FP)"
   ]
  },
  {
   "cell_type": "code",
   "execution_count": 254,
   "id": "d1ce8683",
   "metadata": {},
   "outputs": [
    {
     "data": {
      "text/plain": [
       "0.7421875"
      ]
     },
     "execution_count": 254,
     "metadata": {},
     "output_type": "execute_result"
    }
   ],
   "source": [
    "recall_score(y_pred_final.Converted, y_pred_final.final_predicted)"
   ]
  },
  {
   "cell_type": "markdown",
   "id": "35f02d8d",
   "metadata": {},
   "source": [
    "#### Final Observation \n",
    " - Train Data \n",
    "     - Sensitivity : 0.87\n",
    "     - Specificity : 0.72\n",
    "     - Accuracy    : 0.78\n",
    "     \n",
    "     \n",
    " - Test Data \n",
    "     - Sensitivity : 0.74\n",
    "     - Specificity : 0.83\n",
    "     - Accuracy    : 0.80"
   ]
  }
 ],
 "metadata": {
  "kernelspec": {
   "display_name": "Python 3 (ipykernel)",
   "language": "python",
   "name": "python3"
  },
  "language_info": {
   "codemirror_mode": {
    "name": "ipython",
    "version": 3
   },
   "file_extension": ".py",
   "mimetype": "text/x-python",
   "name": "python",
   "nbconvert_exporter": "python",
   "pygments_lexer": "ipython3",
   "version": "3.9.12"
  }
 },
 "nbformat": 4,
 "nbformat_minor": 5
}
